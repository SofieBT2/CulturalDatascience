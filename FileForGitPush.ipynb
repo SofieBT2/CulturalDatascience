{
 "cells": [
  {
   "cell_type": "markdown",
   "id": "7bd61f33-8338-44f2-9ca2-23a4f3e1f966",
   "metadata": {},
   "source": [
    "# Here is the file. \n",
    "\n",
    "I would love to learn how to make an _emoji_ like the **duck** you made, but don't know how to."
   ]
  },
  {
   "cell_type": "code",
   "execution_count": 1,
   "id": "ebaa1b1b-454f-4a47-b117-6d638190e0df",
   "metadata": {},
   "outputs": [
    {
     "name": "stdout",
     "output_type": "stream",
     "text": [
      "Here is some code for the Jupyter notebook\n"
     ]
    }
   ],
   "source": [
    "#code\n",
    "print(\"Here is some code for the Jupyter notebook\")"
   ]
  }
 ],
 "metadata": {
  "kernelspec": {
   "display_name": "Python 3 ",
   "language": "python",
   "name": "python3"
  },
  "language_info": {
   "codemirror_mode": {
    "name": "ipython",
    "version": 3
   },
   "file_extension": ".py",
   "mimetype": "text/x-python",
   "name": "python",
   "nbconvert_exporter": "python",
   "pygments_lexer": "ipython3",
   "version": "3.10.14"
  }
 },
 "nbformat": 4,
 "nbformat_minor": 5
}
