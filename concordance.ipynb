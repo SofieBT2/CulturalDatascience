{
 "cells": [
  {
   "cell_type": "markdown",
   "metadata": {},
   "source": [
    "# Build your own concordance\n",
    "\n",
    "It took 500 Dominican munks to write the first concordance of the Latin bible, and it took Rabbi Mordecai Nathan 10 years to write the first concordance of the Hebrew bible. With Python, it only takes a matter of seconds to find words in a text, along with the surrounding words.\n",
    "\n",
    "Run each cell in this notebook one at a time, in order. If something in one cell doesn't work right, it might be because you have overwritten a variable, so try going back and running all the previous cells again.\n",
    "\n",
    "First run the code and check that everything works. Then, try modifying the code. Start with the first challenges, and then continue in order. Feel free to work together, and see how far you can get. The important thing is to learn, not to solve all the challenges!"
   ]
  },
  {
   "cell_type": "code",
   "execution_count": 2,
   "metadata": {},
   "outputs": [
    {
     "name": "stdout",
     "output_type": "stream",
     "text": [
      "Requirement already satisfied: nltk in /opt/conda/lib/python3.10/site-packages (3.9.1)\n",
      "Requirement already satisfied: click in /opt/conda/lib/python3.10/site-packages (from nltk) (8.1.7)\n",
      "Requirement already satisfied: joblib in /opt/conda/lib/python3.10/site-packages (from nltk) (1.4.2)\n",
      "Requirement already satisfied: regex>=2021.8.3 in /opt/conda/lib/python3.10/site-packages (from nltk) (2024.9.11)\n",
      "Requirement already satisfied: tqdm in /opt/conda/lib/python3.10/site-packages (from nltk) (4.66.2)\n",
      "Note: you may need to restart the kernel to use updated packages.\n"
     ]
    }
   ],
   "source": [
    "# install the natural language toolkit package (nltk), which has a copy of several texts, \n",
    "#including the King James Bible\n",
    "\n",
    "%pip install nltk"
   ]
  },
  {
   "cell_type": "code",
   "execution_count": 3,
   "metadata": {},
   "outputs": [
    {
     "name": "stderr",
     "output_type": "stream",
     "text": [
      "[nltk_data] Downloading package gutenberg to /home/ucloud/nltk_data...\n",
      "[nltk_data]   Unzipping corpora/gutenberg.zip.\n"
     ]
    },
    {
     "data": {
      "text/plain": [
       "True"
      ]
     },
     "execution_count": 3,
     "metadata": {},
     "output_type": "execute_result"
    }
   ],
   "source": [
    "# import the nltk package so that it is accessible to Python, and download a collection of texts from Project Gutenberg\n",
    "import nltk\n",
    "nltk.download('gutenberg')"
   ]
  },
  {
   "cell_type": "code",
   "execution_count": 7,
   "metadata": {},
   "outputs": [],
   "source": [
    "# Create a variable called \"bible\" which contains the text of the King James bible.\n",
    "bible = nltk.corpus.gutenberg.raw('bible-kjv.txt')\n",
    "\n",
    "# make all characters lowercase\n",
    "bible = bible.lower()\n",
    "\n",
    "# remove the \"\\n\" characters, which indicate line breaks in the text (newlines)\n",
    "bible = bible.replace('\\n', ' ')\n",
    "\n",
    "# split up the text into a long list of individual words\n",
    "bible = bible.split(' ')"
   ]
  },
  {
   "cell_type": "code",
   "execution_count": 8,
   "metadata": {},
   "outputs": [],
   "source": [
    "# make a variable called \"concordance\", and fill it with every occurrence of the phrase \"this world\", and a few words preceeding and following \"this world\"\n",
    "concordance = []\n",
    "for i, val in enumerate(bible):\n",
    "    if val == \"world\":\n",
    "        if bible[i-1] == \"this\":\n",
    "            concordance.append(str(' '.join(bible[i-5:i+5])))"
   ]
  },
  {
   "cell_type": "code",
   "execution_count": 9,
   "metadata": {},
   "outputs": [
    {
     "data": {
      "text/plain": [
       "['for the children of this world are in their generation',\n",
       " 'them, the children of this world marry, and are given',\n",
       " 'hateth his life in this world shall keep it unto',\n",
       " 'shall the prince of this world be cast out. ',\n",
       " 'should depart out of this world unto the father, having',\n",
       " 'for the prince of this world cometh, and hath nothing',\n",
       " 'because the prince of this world is judged.  16:12',\n",
       " 'of the princes of this world knew: for had they',\n",
       " 'for the wisdom of this world is foolishness with god.',\n",
       " 'for the fashion of this world passeth away.  7:32',\n",
       " 'whom the god of this world hath blinded the minds',\n",
       " 'chosen the poor of this world rich in faith, and',\n",
       " 'saying, the kingdoms of this world are become the kingdoms']"
      ]
     },
     "execution_count": 9,
     "metadata": {},
     "output_type": "execute_result"
    }
   ],
   "source": [
    "# take a look at what the algorithm has found\n",
    "concordance"
   ]
  },
  {
   "cell_type": "code",
   "execution_count": 10,
   "metadata": {},
   "outputs": [
    {
     "data": {
      "text/plain": [
       "13"
      ]
     },
     "execution_count": 10,
     "metadata": {},
     "output_type": "execute_result"
    }
   ],
   "source": [
    "# let's see how many instances of the phrase \"this world\" were found\n",
    "len(concordance)\n"
   ]
  },
  {
   "cell_type": "markdown",
   "metadata": {},
   "source": [
    "Let's try again, but this time let's just search for \"world\" by itself, not \"this world\"."
   ]
  },
  {
   "cell_type": "code",
   "execution_count": 11,
   "metadata": {},
   "outputs": [],
   "source": [
    "concordance = []\n",
    "for i, val in enumerate(bible):\n",
    "    if val == \"world\":\n",
    "        concordance.append(str(' '.join(bible[i-5:i+5])))"
   ]
  },
  {
   "cell_type": "code",
   "execution_count": 12,
   "metadata": {
    "collapsed": true,
    "jupyter": {
     "outputs_hidden": true,
     "source_hidden": true
    },
    "scrolled": true
   },
   "outputs": [
    {
     "data": {
      "text/plain": [
       "['and he hath set the world upon them.  2:9',\n",
       " 'appeared, the foundations of the world were discovered, at the',\n",
       " 'him, all the earth: the world also shall be stable,',\n",
       " 'upon the face of the world in the earth. ',\n",
       " 'and he shall judge the world in righteousness, he shall',\n",
       " 'and the foundations of the world were discovered at thy',\n",
       " 'all the ends of the world shall remember and turn',\n",
       " 'all the inhabitants of the world stand in awe of',\n",
       " 'not tell thee: for the world is mine, and the',\n",
       " 'is thine: as for the world and the fulness thereof,',\n",
       " 'he hath girded himself: the world also is stablished, that',\n",
       " 'that the lord reigneth: the world also shall be established',\n",
       " 'earth: he shall judge the world with righteousness, and the',\n",
       " 'also he hath set the world in their heart, so',\n",
       " 'and i will punish the world for their evil, and',\n",
       " 'kingdoms; 14:17 that made the world as a wilderness, and',\n",
       " 'fill the face of the world with cities.  14:22',\n",
       " 'all the kingdoms of the world upon the face of',\n",
       " 'mourneth and fadeth away, the world languisheth and fadeth away,',\n",
       " 'earth, the inhabitants of the world will learn righteousness. ',\n",
       " 'have the inhabitants of the world fallen.  26:19 thy',\n",
       " 'fill the face of the world with fruit.  27:7',\n",
       " 'not be ashamed nor confounded world without end.  45:18',\n",
       " 'since the beginning of the world men have not heard,',\n",
       " 'power, he hath established the world by his wisdom, and',\n",
       " 'power, he hath established the world by his wisdom, and',\n",
       " 'this world, neither in the world to come.  12:33',\n",
       " ' 18:7 woe unto the world because of offences! for',\n",
       " 'be preached in all the world for a witness unto',\n",
       " 'since the beginning of the world to this time, no,',\n",
       " 'with persecutions; and in the world to come eternal life.',\n",
       " 'which have been since the world began: 1:71 that we',\n",
       " 'caesar augustus that all the world should be taxed. ',\n",
       " 'all the kingdoms of the world in a moment of',\n",
       " 'do the nations of the world seek after: and your',\n",
       " 'for the children of this world are in their generation',\n",
       " 'present time, and in the world to come life everlasting.',\n",
       " 'them, the children of this world marry, and are given',\n",
       " 'in the world, and the world was made by him,',\n",
       " 'made by him, and the world knew him not. ',\n",
       " 'not his son into the world to condemn the world;',\n",
       " 'the world; but that the world through him might be',\n",
       " 'alway ready.  7:7 the world cannot hate you; but',\n",
       " 'and i speak to the world those things which i',\n",
       " 'heareth.  9:32 since the world began was it not',\n",
       " 'ye prevail nothing? behold, the world is gone after him.',\n",
       " 'hateth his life in this world shall keep it unto',\n",
       " 'shall the prince of this world be cast out. ',\n",
       " 'should depart out of this world unto the father, having',\n",
       " 'spirit of truth; whom the world cannot receive, because it',\n",
       " 'a little while, and the world seeth me no more;',\n",
       " 'unto you: not as the world giveth, give i unto',\n",
       " 'for the prince of this world cometh, and hath nothing',\n",
       " ' 14:31 but that the world may know that i',\n",
       " 'another.  15:18 if the world hate you, ye know',\n",
       " 'were of the world, the world would love his own:',\n",
       " 'of the world, therefore the world hateth you.  15:20',\n",
       " 'come, he will reprove the world of sin, and of',\n",
       " 'because the prince of this world is judged.  16:12',\n",
       " 'weep and lament, but the world shall rejoice: and ye',\n",
       " 'have peace.  in the world ye shall have tribulation:',\n",
       " 'had with thee before the world was.  17:6 i',\n",
       " 'them thy word; and the world hath hated them, because',\n",
       " 'one in us: that the world may believe that thou',\n",
       " 'in one; and that the world may know that thou',\n",
       " '17:25 o righteous father, the world hath not known thee:',\n",
       " 'i suppose that even the world itself could not contain',\n",
       " 'his holy prophets since the world began.  3:22 for',\n",
       " 'these that have turned the world upside down are come',\n",
       " '17:24 god that made the world and all things therein,',\n",
       " 'which he will judge the world in righteousness by that',\n",
       " 'whom all asia and the world worshippeth.  19:28 and',\n",
       " 'from the creation of the world are clearly seen, being',\n",
       " 'be stopped, and all the world may become guilty before',\n",
       " 'was kept secret since the world began, 16:26 but now',\n",
       " 'the wisdom of god the world by wisdom knew not',\n",
       " 'the foolish things of the world to confound the wise;',\n",
       " 'the weak things of the world to confound the things',\n",
       " 'which god ordained before the world unto our glory: 2:8',\n",
       " 'of the princes of this world knew: for had they',\n",
       " 'for the wisdom of this world is foolishness with god.',\n",
       " 'the world? and if the world shall be judged by',\n",
       " 'for the fashion of this world passeth away.  7:32',\n",
       " 'eat no flesh while the world standeth, lest i make',\n",
       " 'whom the ends of the world are come.  10:12',\n",
       " 'whom the god of this world hath blinded the minds',\n",
       " 'was in christ, reconciling the world unto himself, not imputing',\n",
       " 'but the sorrow of the world worketh death.  7:11',\n",
       " 'jesus christ, by whom the world is crucified unto me,',\n",
       " 'from the beginning of the world hath been hid in',\n",
       " 'christ jesus throughout all ages, world without end. amen. ',\n",
       " 'christ jesus came into the world to save sinners; of',\n",
       " 'in christ jesus before the world began, 1:10 but is',\n",
       " 'cannot lie, promised before the world began; 1:3 but hath',\n",
       " 'not put in subjection the world to come, whereof we',\n",
       " 'and the powers of the world to come, 6:6 if',\n",
       " 'in the end of the world hath he appeared to',\n",
       " 'tormented; 11:38 (of whom the world was not worthy:) they',\n",
       " 'chosen the poor of this world rich in faith, and',\n",
       " 'tongue is a fire, a world of iniquity: so is',\n",
       " 'that the friendship of the world is enmity with god?',\n",
       " 'be a friend of the world is the enemy of',\n",
       " 'corruption that is in the world through lust.  1:5',\n",
       " 'in the flood upon the world of the ungodly; 2:6',\n",
       " 'escaped the pollutions of the world through the knowledge of',\n",
       " 'the water: 3:6 whereby the world that then was, being',\n",
       " 'world.  2:17 and the world passeth away, and the',\n",
       " 'sons of god: therefore the world knoweth us not, because',\n",
       " 'not, my brethren, if the world hate you.  3:14',\n",
       " 'of the world, and the world heareth them.  4:6',\n",
       " 'of god, and the whole world lieth in wickedness. ',\n",
       " 'saying, the kingdoms of this world are become the kingdoms',\n",
       " 'was healed: and all the world wondered after the beast.']"
      ]
     },
     "execution_count": 12,
     "metadata": {},
     "output_type": "execute_result"
    }
   ],
   "source": [
    "# take a look at what the algorithm has found\n",
    "concordance"
   ]
  },
  {
   "cell_type": "code",
   "execution_count": 13,
   "metadata": {},
   "outputs": [
    {
     "data": {
      "text/plain": [
       "113"
      ]
     },
     "execution_count": 13,
     "metadata": {},
     "output_type": "execute_result"
    }
   ],
   "source": [
    "# let's see how many instances of just the word \"world\" were found\n",
    "len(concordance)"
   ]
  },
  {
   "cell_type": "markdown",
   "metadata": {},
   "source": [
    "Now, in the cell below, modify the code to search for a different word."
   ]
  },
  {
   "cell_type": "code",
   "execution_count": 14,
   "metadata": {},
   "outputs": [],
   "source": [
    "# add your modified code here and run the cell...\n",
    "# looking for wisdom\n",
    "concordance = []\n",
    "for i, val in enumerate(bible):\n",
    "    if val == \"wisdom\":\n",
    "        concordance.append(str(' '.join(bible[i-5:i+5])))"
   ]
  },
  {
   "cell_type": "code",
   "execution_count": 16,
   "metadata": {
    "scrolled": true
   },
   "outputs": [
    {
     "data": {
      "text/plain": [
       "[\"heart stirred them up in wisdom spun goats' hair. \",\n",
       " 'them hath he filled with wisdom of heart, to work',\n",
       " 'in whom the lord put wisdom and understanding to know',\n",
       " 'them; for this is your wisdom and your understanding in',\n",
       " 'is wise, according to the wisdom of an angel of',\n",
       " 'for they saw that the wisdom of god was in',\n",
       " '4:29 and god gave solomon wisdom and understanding exceeding much,',\n",
       " \"shore.  4:30 and solomon's wisdom excelled the wisdom of\",\n",
       " \"and solomon's wisdom excelled the wisdom of all the children\",\n",
       " 'east country, and all the wisdom of egypt.  4:31',\n",
       " 'all people to hear the wisdom of solomon, from all',\n",
       " 'was not told me: thy wisdom and prosperity exceedeth the',\n",
       " 'only the lord give thee wisdom and understanding, and give',\n",
       " ' 1:10 give me now wisdom and knowledge, that i',\n",
       " 'long life; but hast asked wisdom and knowledge for thyself,',\n",
       " 'have made thee king: 1:12 wisdom and knowledge is granted',\n",
       " 'of sheba had seen the wisdom of solomon, and the',\n",
       " 'of the greatness of thy wisdom was not told me:',\n",
       " 'and thou, ezra, after the wisdom of thy god, that',\n",
       " 'help in me? and is wisdom driven quite from me?',\n",
       " 'ye are the people, and wisdom shall die with you.',\n",
       " ' 12:13 with him is wisdom and strength, he hath',\n",
       " 'god? and dost thou restrain wisdom to thyself?  15:9',\n",
       " ' 28:12 but where shall wisdom be found? and where',\n",
       " 'pearls: for the price of wisdom is above rubies. ',\n",
       " ' 38:36 who hath put wisdom in the inward parts?',\n",
       " 'manifold are thy works! in wisdom hast thou made them',\n",
       " '136:5 to him that by wisdom made the heavens: for',\n",
       " 'of israel; 1:2 to know wisdom and instruction; to perceive',\n",
       " 'of knowledge: but fools despise wisdom and instruction.  1:8',\n",
       " 'the owners thereof.  1:20 wisdom crieth without; she uttereth',\n",
       " '2:7 he layeth up sound wisdom for the righteous: he',\n",
       " 'good path.  2:10 when wisdom entereth into thine heart,',\n",
       " ' 3:19 the lord by wisdom hath founded the earth;',\n",
       " 'from thine eyes: keep sound wisdom and discretion: 3:22 so',\n",
       " 'shall keep thee.  4:7 wisdom is the principal thing;',\n",
       " 'death.  8:1 doth not wisdom cry? and understanding put',\n",
       " 'choice gold.  8:11 for wisdom is better than rubies;',\n",
       " 'to it.  8:12 i wisdom dwell with prudence, and',\n",
       " 'me love death.  9:1 wisdom hath builded her house,',\n",
       " 'of him that hath understanding wisdom is found: but a',\n",
       " 'he that is void of wisdom despiseth his neighbour: but',\n",
       " 'of knowledge.  14:8 the wisdom of the prudent is',\n",
       " 'in his death.  14:33 wisdom resteth in the heart',\n",
       " 'better is it to get wisdom than gold! and to',\n",
       " 'ways of judgment.  17:24 wisdom is before him that',\n",
       " 'waters, and the wellspring of wisdom as a flowing brook.',\n",
       " ' 19:8 he that getteth wisdom loveth his own soul:',\n",
       " ' 21:30 there is no wisdom nor understanding nor counsel',\n",
       " 'for he will despise the wisdom of thy words. ',\n",
       " 'of mischief.  24:3 through wisdom is an house builded;',\n",
       " 'there is safety.  24:7 wisdom is too high for',\n",
       " 'so shall the knowledge of wisdom be unto thy soul:',\n",
       " 'mourn.  29:3 whoso loveth wisdom rejoiceth his father: but',\n",
       " 'seek and search out by wisdom concerning all things that',\n",
       " 'estate, and have gotten more wisdom than all they that',\n",
       " 'heart had great experience of wisdom and knowledge.  1:17',\n",
       " ' 1:18 for in much wisdom is much grief: and',\n",
       " 'me in jerusalem: also my wisdom remained with me. ',\n",
       " '2:13 then i saw that wisdom excelleth folly, as far',\n",
       " 'wisely concerning this.  7:11 wisdom is good with an',\n",
       " 'the sun.  7:12 for wisdom is a defence, and',\n",
       " 'excellency of knowledge is, that wisdom giveth life to them',\n",
       " 'of them all.  7:19 wisdom strengtheneth the wise more',\n",
       " \"a thing?  a man's wisdom maketh his face to\",\n",
       " 'upon them.  9:13 this wisdom have i seen also',\n",
       " 'man, and he by his wisdom delivered the city; yet',\n",
       " ' 9:16 then said i, wisdom is better than strength:',\n",
       " \"strength: nevertheless the poor man's wisdom is despised, and his\",\n",
       " 'ruleth among fools.  9:18 wisdom is better than weapons',\n",
       " 'that is in reputation for wisdom and honour.  10:2',\n",
       " 'walketh by the way, his wisdom faileth him, and he',\n",
       " 'put to more strength: but wisdom is profitable to direct.',\n",
       " 'upon him, the spirit of wisdom and understanding, the spirit',\n",
       " 'and a wonder: for the wisdom of their wise men',\n",
       " 'and righteousness.  33:6 and wisdom and knowledge shall be',\n",
       " 'said, none seeth me. thy wisdom and thy knowledge, it',\n",
       " 'of the lord; and what wisdom is in them? ',\n",
       " 'the lord of hosts; is wisdom no more in teman?',\n",
       " 'from the prudent? is their wisdom vanished?  49:8 flee',\n",
       " 'from thee: 28:4 with thy wisdom and with thine understanding',\n",
       " 'treasures: 28:5 by thy great wisdom and by thy traffick',\n",
       " 'beauty, thou hast corrupted thy wisdom by reason of thy',\n",
       " 'and in all matters of wisdom and understanding, that the',\n",
       " 'daniel answered with counsel and wisdom to arioch the captain',\n",
       " 'for ever and ever: for wisdom and might are his:',\n",
       " 'setteth up kings: he giveth wisdom unto the wise, and',\n",
       " 'fathers, who hast given me wisdom and might, and hast',\n",
       " 'revealed to me for any wisdom that i have more',\n",
       " 'understanding and wisdom, like the wisdom of the gods, was',\n",
       " 'light and understanding and excellent wisdom is found in thee.',\n",
       " 'city, and the man of wisdom shall see thy name:',\n",
       " 'of publicans and sinners. but wisdom is justified of her',\n",
       " 'the earth to hear the wisdom of solomon; and, behold,',\n",
       " 'man these things? and what wisdom is this which is',\n",
       " 'and the disobedient to the wisdom of the just; to',\n",
       " '2:52 and jesus increased in wisdom and stature, and in',\n",
       " 'publicans and sinners! 7:35 but wisdom is justified of all',\n",
       " 'the earth to hear the wisdom of solomon; and, behold,',\n",
       " '11:49 therefore also said the wisdom of god, i will',\n",
       " 'not able to resist the wisdom and the spirit by',\n",
       " 'and gave him favour and wisdom in the sight of',\n",
       " 'was learned in all the wisdom of the egyptians, and',\n",
       " 'the riches both of the wisdom and knowledge of god!',\n",
       " 'preach the gospel: not with wisdom of words, lest the',\n",
       " 'written, i will destroy the wisdom of the wise, and',\n",
       " 'not god made foolish the wisdom of this world? ',\n",
       " 'for after that in the wisdom of god the world',\n",
       " 'of god the world by wisdom knew not god, it',\n",
       " 'power of god, and the wisdom of god.  1:25',\n",
       " 'should not stand in the wisdom of men, but in',\n",
       " ' 2:6 howbeit we speak wisdom among them that are',\n",
       " 'are perfect: yet not the wisdom of this world, nor',\n",
       " '2:7 but we speak the wisdom of god in a',\n",
       " \"in the words which man's wisdom teacheth, but which the\",\n",
       " 'wise.  3:19 for the wisdom of this world is',\n",
       " 'abounded toward us in all wisdom and prudence; 1:9 having',\n",
       " 'unto you the spirit of wisdom and revelation in the',\n",
       " 'by the church the manifold wisdom of god, 3:11 according',\n",
       " 'of his will in all wisdom and spiritual understanding; 1:10',\n",
       " 'hid all the treasures of wisdom and knowledge.  2:4',\n",
       " 'have indeed a shew of wisdom in will worship, and',\n",
       " ' 4:5  walk in wisdom toward them that are',\n",
       " 'the truth.  3:15 this wisdom descendeth not from above,',\n",
       " 'work.  3:17 but the wisdom that is from above',\n",
       " 'paul also according to the wisdom given unto him hath']"
      ]
     },
     "execution_count": 16,
     "metadata": {},
     "output_type": "execute_result"
    }
   ],
   "source": [
    "# take a look at what the algorithm has found\n",
    "concordance"
   ]
  },
  {
   "cell_type": "code",
   "execution_count": 15,
   "metadata": {},
   "outputs": [
    {
     "data": {
      "text/plain": [
       "126"
      ]
     },
     "execution_count": 15,
     "metadata": {},
     "output_type": "execute_result"
    }
   ],
   "source": [
    "# let's see how many instances of just the word \"wisdom\" were found\n",
    "len(concordance)"
   ]
  },
  {
   "cell_type": "markdown",
   "metadata": {},
   "source": [
    "The nltk package has the full text of several other classic books. You can see what they are called by running the command in the cell below:"
   ]
  },
  {
   "cell_type": "code",
   "execution_count": 17,
   "metadata": {},
   "outputs": [
    {
     "data": {
      "text/plain": [
       "['austen-emma.txt',\n",
       " 'austen-persuasion.txt',\n",
       " 'austen-sense.txt',\n",
       " 'bible-kjv.txt',\n",
       " 'blake-poems.txt',\n",
       " 'bryant-stories.txt',\n",
       " 'burgess-busterbrown.txt',\n",
       " 'carroll-alice.txt',\n",
       " 'chesterton-ball.txt',\n",
       " 'chesterton-brown.txt',\n",
       " 'chesterton-thursday.txt',\n",
       " 'edgeworth-parents.txt',\n",
       " 'melville-moby_dick.txt',\n",
       " 'milton-paradise.txt',\n",
       " 'shakespeare-caesar.txt',\n",
       " 'shakespeare-hamlet.txt',\n",
       " 'shakespeare-macbeth.txt',\n",
       " 'whitman-leaves.txt']"
      ]
     },
     "execution_count": 17,
     "metadata": {},
     "output_type": "execute_result"
    }
   ],
   "source": [
    "nltk.corpus.gutenberg.fileids()"
   ]
  },
  {
   "cell_type": "markdown",
   "metadata": {},
   "source": [
    "## Your turn!\n",
    "\n",
    "Here are a some more things you can try. In each case, I have given you a little bit of starter code to get you going, but the cells will not run without some additional code from you.\n"
   ]
  },
  {
   "cell_type": "markdown",
   "metadata": {},
   "source": [
    "\n",
    "\n",
    "## Challenge 1: build your own concordance\n",
    "\n",
    "Pick a different book and a different word, or pair of words. Copy and paste from the code above to write some Python code that searches the book of your choice for the word or pair of words of your choice. Put this code in the cell below. By the way, some of the texts use the characters \"\\r\" for \"carriage return\" instead of \"\\n\" for \"newline\". You can remove these the same way that you remove the \"\\n\" characters."
   ]
  },
  {
   "cell_type": "code",
   "execution_count": 19,
   "metadata": {},
   "outputs": [],
   "source": [
    "# add your code to search for a word or pair of words in a different book here\n",
    "# Create a variable called \"hamlet\" which contains the text of Shakespeare's Hamlet.\n",
    "hamlet = nltk.corpus.gutenberg.raw('shakespeare-hamlet.txt')\n",
    "\n",
    "# make all characters lowercase\n",
    "hamlet = hamlet.lower()\n",
    "\n",
    "# remove the \"\\n\" characters, which indicate line breaks in the text (newlines)\n",
    "hamlet = hamlet.replace('\\n', ' ')\n",
    "\n",
    "# split up the text into a long list of individual words\n",
    "hamlet = hamlet.split(' ')"
   ]
  },
  {
   "cell_type": "code",
   "execution_count": 25,
   "metadata": {},
   "outputs": [],
   "source": [
    "# make a variable called \"concordance\", and fill it with every occurrence of the phrase \"thy\", and a few words preceeding and following \"this world\"\n",
    "concordance = []\n",
    "for i, val in enumerate(hamlet):\n",
    "    if val == \"thy\":\n",
    "        concordance.append(str(' '.join(hamlet[i-5:i+5])))"
   ]
  },
  {
   "cell_type": "code",
   "execution_count": 26,
   "metadata": {},
   "outputs": [
    {
     "data": {
      "text/plain": [
       "['hor. as thou art to thy selfe, such was the',\n",
       " 'if thou art priuy to thy countries fate (which happily',\n",
       " 'if thou hast vp-hoorded in thy life extorted treasure in',\n",
       " 'not be my offer, not thy asking? the head is',\n",
       " \"the throne of denmarke to thy father. what would'st thou\",\n",
       " '   king. take thy faire houre laertes, time',\n",
       " 'laertes, time be thine, and thy best graces spend it',\n",
       " 'best graces spend it at thy will: but now my',\n",
       " ' queen. good hamlet cast thy nightly colour off, and',\n",
       " 'do not for euer with thy veyled lids seeke for',\n",
       " 'thy veyled lids seeke for thy noble father in the',\n",
       " '  qu. let not thy mother lose her prayers',\n",
       " \"me not thinke on't: frailty, thy name is woman. a\",\n",
       " 'and these few precepts in thy memory, see thou character.',\n",
       " 'memory, see thou character. giue thy thoughts no tongue, nor',\n",
       " 'adoption tride, grapple them to thy soule, with hoopes of',\n",
       " 'steele: but doe not dull thy palme, with entertainment of',\n",
       " 'man thine eare; but few thy voyce: take each mans',\n",
       " 'each mans censure; but reserue thy iudgement: costly thy habit',\n",
       " 'but reserue thy iudgement: costly thy habit as thy purse',\n",
       " 'iudgement: costly thy habit as thy purse can buy; but',\n",
       " 'or blasts from hell, be thy euents wicked or charitable,',\n",
       " \"in ignorance; but tell why thy canoniz'd bones hearsed in\",\n",
       " 'pitty me not, but lend thy serious hearing to what',\n",
       " \"  gho. i am thy fathers spirit, doom'd for\",\n",
       " 'lightest word would harrow vp thy soule, freeze thy young',\n",
       " 'harrow vp thy soule, freeze thy young blood, make thy',\n",
       " 'freeze thy young blood, make thy two eyes like starres,',\n",
       " 'starres, start from their spheres, thy knotty and combined lockes',\n",
       " 'list, if thou didst euer thy deare father loue ',\n",
       " 'the serpent that did sting thy fathers life, now weares',\n",
       " 'afternoone; vpon my secure hower thy vncle stole with iuyce',\n",
       " 'pursuest this act, taint not thy mind; nor let thy',\n",
       " 'not thy mind; nor let thy soule contriue against thy',\n",
       " 'let thy soule contriue against thy mother ought; leaue her',\n",
       " 'and obseruation coppied there; and thy commandment all alone shall',\n",
       " '  polon. mad for thy loue?   ophe.',\n",
       " '    king. thy selfe do grace to',\n",
       " 'is a prince out of thy starre, this must not',\n",
       " 'friends. oh my olde friend? thy face is valiant since',\n",
       " 'the faire ophelia? nimph, in thy orizons be all my',\n",
       " 'beleeue none of vs. goe thy wayes to a nunnery.',\n",
       " 'giue thee this plague for thy dowrie. be thou as',\n",
       " 'that no reuennew hast, but thy good spirits to feed',\n",
       " 'second husband wed. but die thy thoughts, when thy first',\n",
       " 'but die thy thoughts, when thy first lord is dead',\n",
       " '  qu. sleepe rocke thy braine,  sleepes ',\n",
       " 'husbands. begin murderer. pox, leaue thy damnable faces, and begin.',\n",
       " 'ban, thrice blasted, thrice infected, thy naturall magicke, and dire',\n",
       " 'mother: oh heart, loose not thy nature; let not euer',\n",
       " 'stayes, this physicke but prolongs thy sickly dayes. enter. ',\n",
       " ' qu. hamlet, thou hast thy father much offended ',\n",
       " 'farewell, i tooke thee for thy betters, take thy fortune,',\n",
       " \"thee for thy betters, take thy fortune, thou find'st to\",\n",
       " \"done, that thou dar'st wag thy tong, in noise so\",\n",
       " 'hoodman-blinde? o shame! where is thy blush? rebellious hell, if',\n",
       " 'visitation is but to whet thy almost blunted purpose. but',\n",
       " 'purpose. but looke, amazement on thy mother sits; o step',\n",
       " 'the heate and flame of thy distemper sprinkle coole patience.',\n",
       " 'with fierie quicknesse. therefore prepare thy selfe, the barke is',\n",
       " '    king. thy louing father hamlet ',\n",
       " 'giue thee sense, since yet thy cicatrice lookes raw and',\n",
       " 'after the danish sword, and thy free awe payes homage',\n",
       " 'is the cause laertes, that thy rebellion lookes so gyant-like?',\n",
       " 'of mine eye. by heauen, thy madnesse shall be payed',\n",
       " \"  laer. had'st thou thy wits, and did'st perswade\",\n",
       " 'he is dead, go to thy death-bed, he neuer wil',\n",
       " 'not to the purpose, confesse thy selfe-   other.',\n",
       " '  clo. i like thy wit well in good',\n",
       " '   clo. cudgell thy braines no more about',\n",
       " 'my hamlets wife: i thought thy bride-bed to haue deckt',\n",
       " \"maid) and not t'haue strew'd thy graue   \",\n",
       " \"cursed head whose wicked deed, thy most ingenious sence depriu'd\",\n",
       " ' laer. the deuill take thy soule   ',\n",
       " 'not well, i prythee take thy fingers from my throat;',\n",
       " 'in me dangerous, which let thy wisenesse feare. away thy',\n",
       " 'let thy wisenesse feare. away thy hand   ',\n",
       " \"weepe? woo't fight? woo't teare thy selfe? woo't drinke vp\",\n",
       " '    ham. thy state is the more',\n",
       " \"pearle is thine, here's to thy health. giue him the\",\n",
       " \"breath. heere's a napkin, rub thy browes, the queene carowses\",\n",
       " 'browes, the queene carowses to thy fortune, hamlet  ',\n",
       " 'qu. come, let me wipe thy face   ',\n",
       " \"the treacherous instrument is in thy hand, vnbated and envenom'd:\",\n",
       " \"lye, neuer to rise againe: thy mothers poyson'd: i can\",\n",
       " \"envenom'd too, then venome to thy worke.  hurts the\",\n",
       " 'drinke off this potion: is thy vnion heere? follow my',\n",
       " \"did'st euer hold me in thy heart, absent thee from\",\n",
       " 'in this harsh world draw thy breath in paine, to',\n",
       " \"of angels sing thee to thy rest, why do's the\"]"
      ]
     },
     "execution_count": 26,
     "metadata": {},
     "output_type": "execute_result"
    }
   ],
   "source": [
    "concordance"
   ]
  },
  {
   "cell_type": "code",
   "execution_count": 27,
   "metadata": {},
   "outputs": [
    {
     "data": {
      "text/plain": [
       "90"
      ]
     },
     "execution_count": 27,
     "metadata": {},
     "output_type": "execute_result"
    }
   ],
   "source": [
    "# let's see how many instances of the phrase \"thy\" were found\n",
    "len(concordance)"
   ]
  },
  {
   "cell_type": "markdown",
   "metadata": {},
   "source": [
    "## Challenge 2: compare lengths of books\n",
    "\n",
    "We can use the command `len` to find how many items there are in a list. E.g., to find the number of words in the list called `bible`, above, we can write: `len(bible)`. \n",
    "\n",
    "Use the starter code below to find out which book in the books included in `nltk` has the most words."
   ]
  },
  {
   "cell_type": "code",
   "execution_count": 38,
   "metadata": {
    "collapsed": true,
    "jupyter": {
     "outputs_hidden": true
    },
    "scrolled": true
   },
   "outputs": [
    {
     "name": "stdout",
     "output_type": "stream",
     "text": [
      "164457\n",
      "austen-emma.txt\n",
      "86270\n",
      "austen-persuasion.txt\n",
      "123514\n",
      "austen-sense.txt\n",
      "848001\n",
      "bible-kjv.txt\n",
      "8886\n",
      "blake-poems.txt\n",
      "54942\n",
      "bryant-stories.txt\n",
      "17976\n",
      "burgess-busterbrown.txt\n",
      "28387\n",
      "carroll-alice.txt\n",
      "86481\n",
      "chesterton-ball.txt\n",
      "80382\n",
      "chesterton-brown.txt\n",
      "59297\n",
      "chesterton-thursday.txt\n",
      "195982\n",
      "edgeworth-parents.txt\n",
      "243947\n",
      "melville-moby_dick.txt\n",
      "91832\n",
      "milton-paradise.txt\n",
      "23339\n",
      "shakespeare-caesar.txt\n",
      "33477\n",
      "shakespeare-hamlet.txt\n",
      "20164\n",
      "shakespeare-macbeth.txt\n",
      "138730\n",
      "whitman-leaves.txt\n"
     ]
    }
   ],
   "source": [
    "# solution 1: print all the titles and numbers of words\n",
    "# starter code:\n",
    "\n",
    "books = nltk.corpus.gutenberg.fileids()\n",
    "\n",
    "for title in books:\n",
    "    book = nltk.corpus.gutenberg.raw(title)\n",
    "    book = book.lower()\n",
    "    book = book.replace('\\n', ' ')\n",
    "    book = book.replace('\\r', ' ')\n",
    "    book = book.split(' ')\n",
    "    print(len(book))\n",
    "    print(title)"
   ]
  },
  {
   "cell_type": "code",
   "execution_count": 51,
   "metadata": {
    "scrolled": true
   },
   "outputs": [
    {
     "data": {
      "text/html": [
       "<div>\n",
       "<style scoped>\n",
       "    .dataframe tbody tr th:only-of-type {\n",
       "        vertical-align: middle;\n",
       "    }\n",
       "\n",
       "    .dataframe tbody tr th {\n",
       "        vertical-align: top;\n",
       "    }\n",
       "\n",
       "    .dataframe thead th {\n",
       "        text-align: right;\n",
       "    }\n",
       "</style>\n",
       "<table border=\"1\" class=\"dataframe\">\n",
       "  <thead>\n",
       "    <tr style=\"text-align: right;\">\n",
       "      <th></th>\n",
       "      <th>Title</th>\n",
       "      <th>WordCount</th>\n",
       "    </tr>\n",
       "  </thead>\n",
       "  <tbody>\n",
       "    <tr>\n",
       "      <th>0</th>\n",
       "      <td>austen-emma.txt</td>\n",
       "      <td>164457</td>\n",
       "    </tr>\n",
       "    <tr>\n",
       "      <th>1</th>\n",
       "      <td>austen-persuasion.txt</td>\n",
       "      <td>86270</td>\n",
       "    </tr>\n",
       "    <tr>\n",
       "      <th>2</th>\n",
       "      <td>austen-sense.txt</td>\n",
       "      <td>123514</td>\n",
       "    </tr>\n",
       "    <tr>\n",
       "      <th>3</th>\n",
       "      <td>bible-kjv.txt</td>\n",
       "      <td>848001</td>\n",
       "    </tr>\n",
       "    <tr>\n",
       "      <th>4</th>\n",
       "      <td>blake-poems.txt</td>\n",
       "      <td>8886</td>\n",
       "    </tr>\n",
       "    <tr>\n",
       "      <th>5</th>\n",
       "      <td>bryant-stories.txt</td>\n",
       "      <td>54942</td>\n",
       "    </tr>\n",
       "    <tr>\n",
       "      <th>6</th>\n",
       "      <td>burgess-busterbrown.txt</td>\n",
       "      <td>17976</td>\n",
       "    </tr>\n",
       "    <tr>\n",
       "      <th>7</th>\n",
       "      <td>carroll-alice.txt</td>\n",
       "      <td>28387</td>\n",
       "    </tr>\n",
       "    <tr>\n",
       "      <th>8</th>\n",
       "      <td>chesterton-ball.txt</td>\n",
       "      <td>86481</td>\n",
       "    </tr>\n",
       "    <tr>\n",
       "      <th>9</th>\n",
       "      <td>chesterton-brown.txt</td>\n",
       "      <td>80382</td>\n",
       "    </tr>\n",
       "    <tr>\n",
       "      <th>10</th>\n",
       "      <td>chesterton-thursday.txt</td>\n",
       "      <td>59297</td>\n",
       "    </tr>\n",
       "    <tr>\n",
       "      <th>11</th>\n",
       "      <td>edgeworth-parents.txt</td>\n",
       "      <td>195982</td>\n",
       "    </tr>\n",
       "    <tr>\n",
       "      <th>12</th>\n",
       "      <td>melville-moby_dick.txt</td>\n",
       "      <td>243947</td>\n",
       "    </tr>\n",
       "    <tr>\n",
       "      <th>13</th>\n",
       "      <td>milton-paradise.txt</td>\n",
       "      <td>91832</td>\n",
       "    </tr>\n",
       "    <tr>\n",
       "      <th>14</th>\n",
       "      <td>shakespeare-caesar.txt</td>\n",
       "      <td>23339</td>\n",
       "    </tr>\n",
       "    <tr>\n",
       "      <th>15</th>\n",
       "      <td>shakespeare-hamlet.txt</td>\n",
       "      <td>33477</td>\n",
       "    </tr>\n",
       "    <tr>\n",
       "      <th>16</th>\n",
       "      <td>shakespeare-macbeth.txt</td>\n",
       "      <td>20164</td>\n",
       "    </tr>\n",
       "    <tr>\n",
       "      <th>17</th>\n",
       "      <td>whitman-leaves.txt</td>\n",
       "      <td>138730</td>\n",
       "    </tr>\n",
       "  </tbody>\n",
       "</table>\n",
       "</div>"
      ],
      "text/plain": [
       "                      Title  WordCount\n",
       "0           austen-emma.txt     164457\n",
       "1     austen-persuasion.txt      86270\n",
       "2          austen-sense.txt     123514\n",
       "3             bible-kjv.txt     848001\n",
       "4           blake-poems.txt       8886\n",
       "5        bryant-stories.txt      54942\n",
       "6   burgess-busterbrown.txt      17976\n",
       "7         carroll-alice.txt      28387\n",
       "8       chesterton-ball.txt      86481\n",
       "9      chesterton-brown.txt      80382\n",
       "10  chesterton-thursday.txt      59297\n",
       "11    edgeworth-parents.txt     195982\n",
       "12   melville-moby_dick.txt     243947\n",
       "13      milton-paradise.txt      91832\n",
       "14   shakespeare-caesar.txt      23339\n",
       "15   shakespeare-hamlet.txt      33477\n",
       "16  shakespeare-macbeth.txt      20164\n",
       "17       whitman-leaves.txt     138730"
      ]
     },
     "execution_count": 51,
     "metadata": {},
     "output_type": "execute_result"
    }
   ],
   "source": [
    "# more advanced, for those with some Python experience, or those who want to google around..\n",
    "# solution 2: make a list of titles and a list of wordcounts, zip them together, then sort them based on wordcount\n",
    "# starter code:\n",
    "\n",
    "books = nltk.corpus.gutenberg.fileids()\n",
    "\n",
    "# Making the lists\n",
    "titles = []\n",
    "numwords = []\n",
    "for title in books:\n",
    "    book = nltk.corpus.gutenberg.raw(title)\n",
    "    book = book.lower()\n",
    "    book = book.replace('\\n', ' ')\n",
    "    book = book.replace('\\r', ' ')\n",
    "    book = book.split(' ')\n",
    "    titles.append(title)\n",
    "    numwords.append(len(book))\n",
    "\n",
    "import pandas as pd\n",
    "\n",
    "df = pd.DataFrame({\n",
    "    'Title': titles,\n",
    "    'WordCount': numwords})\n",
    "df"
   ]
  },
  {
   "cell_type": "code",
   "execution_count": 52,
   "metadata": {},
   "outputs": [
    {
     "data": {
      "text/html": [
       "<div>\n",
       "<style scoped>\n",
       "    .dataframe tbody tr th:only-of-type {\n",
       "        vertical-align: middle;\n",
       "    }\n",
       "\n",
       "    .dataframe tbody tr th {\n",
       "        vertical-align: top;\n",
       "    }\n",
       "\n",
       "    .dataframe thead th {\n",
       "        text-align: right;\n",
       "    }\n",
       "</style>\n",
       "<table border=\"1\" class=\"dataframe\">\n",
       "  <thead>\n",
       "    <tr style=\"text-align: right;\">\n",
       "      <th></th>\n",
       "      <th>Title</th>\n",
       "      <th>WordCount</th>\n",
       "    </tr>\n",
       "  </thead>\n",
       "  <tbody>\n",
       "    <tr>\n",
       "      <th>3</th>\n",
       "      <td>bible-kjv.txt</td>\n",
       "      <td>848001</td>\n",
       "    </tr>\n",
       "    <tr>\n",
       "      <th>12</th>\n",
       "      <td>melville-moby_dick.txt</td>\n",
       "      <td>243947</td>\n",
       "    </tr>\n",
       "    <tr>\n",
       "      <th>11</th>\n",
       "      <td>edgeworth-parents.txt</td>\n",
       "      <td>195982</td>\n",
       "    </tr>\n",
       "    <tr>\n",
       "      <th>0</th>\n",
       "      <td>austen-emma.txt</td>\n",
       "      <td>164457</td>\n",
       "    </tr>\n",
       "    <tr>\n",
       "      <th>17</th>\n",
       "      <td>whitman-leaves.txt</td>\n",
       "      <td>138730</td>\n",
       "    </tr>\n",
       "    <tr>\n",
       "      <th>2</th>\n",
       "      <td>austen-sense.txt</td>\n",
       "      <td>123514</td>\n",
       "    </tr>\n",
       "    <tr>\n",
       "      <th>13</th>\n",
       "      <td>milton-paradise.txt</td>\n",
       "      <td>91832</td>\n",
       "    </tr>\n",
       "    <tr>\n",
       "      <th>8</th>\n",
       "      <td>chesterton-ball.txt</td>\n",
       "      <td>86481</td>\n",
       "    </tr>\n",
       "    <tr>\n",
       "      <th>1</th>\n",
       "      <td>austen-persuasion.txt</td>\n",
       "      <td>86270</td>\n",
       "    </tr>\n",
       "    <tr>\n",
       "      <th>9</th>\n",
       "      <td>chesterton-brown.txt</td>\n",
       "      <td>80382</td>\n",
       "    </tr>\n",
       "    <tr>\n",
       "      <th>10</th>\n",
       "      <td>chesterton-thursday.txt</td>\n",
       "      <td>59297</td>\n",
       "    </tr>\n",
       "    <tr>\n",
       "      <th>5</th>\n",
       "      <td>bryant-stories.txt</td>\n",
       "      <td>54942</td>\n",
       "    </tr>\n",
       "    <tr>\n",
       "      <th>15</th>\n",
       "      <td>shakespeare-hamlet.txt</td>\n",
       "      <td>33477</td>\n",
       "    </tr>\n",
       "    <tr>\n",
       "      <th>7</th>\n",
       "      <td>carroll-alice.txt</td>\n",
       "      <td>28387</td>\n",
       "    </tr>\n",
       "    <tr>\n",
       "      <th>14</th>\n",
       "      <td>shakespeare-caesar.txt</td>\n",
       "      <td>23339</td>\n",
       "    </tr>\n",
       "    <tr>\n",
       "      <th>16</th>\n",
       "      <td>shakespeare-macbeth.txt</td>\n",
       "      <td>20164</td>\n",
       "    </tr>\n",
       "    <tr>\n",
       "      <th>6</th>\n",
       "      <td>burgess-busterbrown.txt</td>\n",
       "      <td>17976</td>\n",
       "    </tr>\n",
       "    <tr>\n",
       "      <th>4</th>\n",
       "      <td>blake-poems.txt</td>\n",
       "      <td>8886</td>\n",
       "    </tr>\n",
       "  </tbody>\n",
       "</table>\n",
       "</div>"
      ],
      "text/plain": [
       "                      Title  WordCount\n",
       "3             bible-kjv.txt     848001\n",
       "12   melville-moby_dick.txt     243947\n",
       "11    edgeworth-parents.txt     195982\n",
       "0           austen-emma.txt     164457\n",
       "17       whitman-leaves.txt     138730\n",
       "2          austen-sense.txt     123514\n",
       "13      milton-paradise.txt      91832\n",
       "8       chesterton-ball.txt      86481\n",
       "1     austen-persuasion.txt      86270\n",
       "9      chesterton-brown.txt      80382\n",
       "10  chesterton-thursday.txt      59297\n",
       "5        bryant-stories.txt      54942\n",
       "15   shakespeare-hamlet.txt      33477\n",
       "7         carroll-alice.txt      28387\n",
       "14   shakespeare-caesar.txt      23339\n",
       "16  shakespeare-macbeth.txt      20164\n",
       "6   burgess-busterbrown.txt      17976\n",
       "4           blake-poems.txt       8886"
      ]
     },
     "execution_count": 52,
     "metadata": {},
     "output_type": "execute_result"
    }
   ],
   "source": [
    "df_sorted = df.sort_values(by=['WordCount'], ascending = False)\n",
    "df_sorted"
   ]
  },
  {
   "cell_type": "markdown",
   "metadata": {},
   "source": [
    "## Challenge 3: what are the most frequent words?\n",
    "\n",
    "`nltk` has a built-in function called `FreqDist` which counts up how many times each word in a text occurs. So, if you have a list called `words` which contains all the words in a book, you can find the frequencies of all of them by writing `freq = nltk.FreqDist(words)`. You can then get the e.g. ten most common words by writing `freq.most_common(10)`. What are the ten most common words in Jane Austen's \"Emma\"? What about Herman Melville's \"Moby Dick\"?"
   ]
  },
  {
   "cell_type": "code",
   "execution_count": 58,
   "metadata": {
    "scrolled": true
   },
   "outputs": [
    {
     "data": {
      "text/plain": [
       "[('', 6290),\n",
       " ('the', 5120),\n",
       " ('to', 5079),\n",
       " ('and', 4445),\n",
       " ('of', 4196),\n",
       " ('a', 3055),\n",
       " ('i', 2602),\n",
       " ('was', 2302),\n",
       " ('she', 2169),\n",
       " ('in', 2091),\n",
       " ('not', 2028)]"
      ]
     },
     "execution_count": 58,
     "metadata": {},
     "output_type": "execute_result"
    }
   ],
   "source": [
    "# starter code:\n",
    "\n",
    "book = nltk.corpus.gutenberg.raw('austen-emma.txt')\n",
    "words = book.lower()\n",
    "words = words.replace('\\n', ' ')\n",
    "words = words.replace('\\r', ' ')\n",
    "words = words.split(' ')\n",
    "freq = nltk.FreqDist(words)\n",
    "# Changing it to 11 since the most used is space - so not really a word and thus, not wanted to answer the question\n",
    "freq.most_common(11)"
   ]
  },
  {
   "cell_type": "code",
   "execution_count": 59,
   "metadata": {},
   "outputs": [
    {
     "data": {
      "text/plain": [
       "[('', 31917),\n",
       " ('the', 14226),\n",
       " ('of', 6545),\n",
       " ('and', 6238),\n",
       " ('a', 4597),\n",
       " ('to', 4518),\n",
       " ('in', 4058),\n",
       " ('that', 2744),\n",
       " ('his', 2485),\n",
       " ('it', 1765),\n",
       " ('i', 1724)]"
      ]
     },
     "execution_count": 59,
     "metadata": {},
     "output_type": "execute_result"
    }
   ],
   "source": [
    "# Doing the same thing for Moby Dick\n",
    "book = nltk.corpus.gutenberg.raw('melville-moby_dick.txt')\n",
    "words = book.lower()\n",
    "words = words.replace('\\n', ' ')\n",
    "words = words.replace('\\r', ' ')\n",
    "words = words.split(' ')\n",
    "freq = nltk.FreqDist(words)\n",
    "freq.most_common(11)"
   ]
  },
  {
   "cell_type": "markdown",
   "metadata": {},
   "source": [
    "## Challenge 4: Remove stopwords\n",
    "\n",
    "Often, the most frequent words are not the most interesting ones. Words like \"a\" and \"the\" are so common in English, that they don't really tell us much about the text. That is why we often remove \"stopwords\", that is, a list of the most common words in English, before e.g. counting frequencies. There are several of these lists available, in [English]((https://gist.github.com/sebleier/554280)) as well as other languages, such as [Danish](https://gist.github.com/berteltorp/0cf8a0c7afea7f25ed754f24cfc2467b). Below is some starter code to remove stopwords. Use these snippets to see what the most common words in Emma and Moby Dick are after removing these most common words.\n",
    "\n",
    "Hint: In Moby Dick, you will also have to remove the string `\\r`, in addition to removing `\\n`."
   ]
  },
  {
   "cell_type": "code",
   "execution_count": 60,
   "metadata": {},
   "outputs": [],
   "source": [
    "# list of stopwords\n",
    "\n",
    "stopwords = [\"\", \"i\", \"me\", \"my\", \"myself\", \"we\", \"our\", \"ours\", \"ourselves\", \"you\", \"your\", \"yours\", \"yourself\", \"yourselves\", \"he\", \"him\", \"his\", \"himself\", \"she\", \"her\", \"hers\", \"herself\", \"it\", \"its\", \"itself\", \"they\", \"them\", \"their\", \"theirs\", \"themselves\", \"what\", \"which\", \"who\", \"whom\", \"this\", \"that\", \"these\", \"those\", \"am\", \"is\", \"are\", \"was\", \"were\", \"be\", \"been\", \"being\", \"have\", \"has\", \"had\", \"having\", \"do\", \"does\", \"did\", \"doing\", \"a\", \"an\", \"the\", \"and\", \"but\", \"if\", \"or\", \"because\", \"as\", \"until\", \"while\", \"of\", \"at\", \"by\", \"for\", \"with\", \"about\", \"against\", \"between\", \"into\", \"through\", \"during\", \"before\", \"after\", \"above\", \"below\", \"to\", \"from\", \"up\", \"down\", \"in\", \"out\", \"on\", \"off\", \"over\", \"under\", \"again\", \"further\", \"then\", \"once\", \"here\", \"there\", \"when\", \"where\", \"why\", \"how\", \"all\", \"any\", \"both\", \"each\", \"few\", \"more\", \"most\", \"other\", \"some\", \"such\", \"no\", \"nor\", \"not\", \"only\", \"own\", \"same\", \"so\", \"than\", \"too\", \"very\", \"s\", \"t\", \"can\", \"will\", \"just\", \"don\", \"should\", \"now\"]"
   ]
  },
  {
   "cell_type": "code",
   "execution_count": 61,
   "metadata": {},
   "outputs": [
    {
     "data": {
      "text/plain": [
       "[('mr.', 1097),\n",
       " ('could', 800),\n",
       " ('would', 795),\n",
       " ('mrs.', 675),\n",
       " ('miss', 568),\n",
       " ('must', 543),\n",
       " ('emma', 481),\n",
       " ('much', 427),\n",
       " ('every', 425),\n",
       " ('said', 392)]"
      ]
     },
     "execution_count": 61,
     "metadata": {},
     "output_type": "execute_result"
    }
   ],
   "source": [
    "# starter code:\n",
    "# Doing it for Emma\n",
    "book = nltk.corpus.gutenberg.raw('austen-emma.txt')\n",
    "words = book.lower()\n",
    "words = words.replace('\\n', ' ')\n",
    "words = words.replace('\\r', ' ')\n",
    "words = words.split(' ')\n",
    "\n",
    "# code to remove stopwords.\n",
    "words = [word for word in words if word not in stopwords]\n",
    "\n",
    "freq = nltk.FreqDist(words)\n",
    "freq.most_common(10)\n"
   ]
  },
  {
   "cell_type": "code",
   "execution_count": 62,
   "metadata": {},
   "outputs": [
    {
     "data": {
      "text/plain": [
       "[('one', 779),\n",
       " ('like', 564),\n",
       " ('upon', 556),\n",
       " ('whale', 528),\n",
       " ('old', 425),\n",
       " ('would', 416),\n",
       " ('though', 311),\n",
       " ('great', 292),\n",
       " ('still', 282),\n",
       " ('seemed', 273)]"
      ]
     },
     "execution_count": 62,
     "metadata": {},
     "output_type": "execute_result"
    }
   ],
   "source": [
    "# Doing the same thing for Moby Dick \n",
    "book = nltk.corpus.gutenberg.raw('melville-moby_dick.txt')\n",
    "words = book.lower()\n",
    "words = words.replace('\\n', ' ')\n",
    "words = words.replace('\\r', ' ')\n",
    "words = words.split(' ')\n",
    "\n",
    "# code to remove stopwords.\n",
    "words = [word for word in words if word not in stopwords]\n",
    "\n",
    "freq = nltk.FreqDist(words)\n",
    "freq.most_common(10)"
   ]
  },
  {
   "cell_type": "code",
   "execution_count": null,
   "metadata": {},
   "outputs": [],
   "source": []
  }
 ],
 "metadata": {
  "kernelspec": {
   "display_name": "Python 3 ",
   "language": "python",
   "name": "python3"
  },
  "language_info": {
   "codemirror_mode": {
    "name": "ipython",
    "version": 3
   },
   "file_extension": ".py",
   "mimetype": "text/x-python",
   "name": "python",
   "nbconvert_exporter": "python",
   "pygments_lexer": "ipython3",
   "version": "3.10.14"
  }
 },
 "nbformat": 4,
 "nbformat_minor": 4
}
