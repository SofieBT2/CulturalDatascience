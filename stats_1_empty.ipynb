{
 "cells": [
  {
   "cell_type": "markdown",
   "id": "1a846cfe-d705-4f1f-866b-b4b370af384d",
   "metadata": {},
   "source": [
    "# Part 1 - The basics"
   ]
  },
  {
   "cell_type": "markdown",
   "id": "223204e5-f880-46d3-b81f-63e24071759b",
   "metadata": {},
   "source": [
    "R is just a calculator."
   ]
  },
  {
   "cell_type": "code",
   "execution_count": 1,
   "id": "21e221b0-07e2-49e1-b9a9-c3950d59cf3d",
   "metadata": {},
   "outputs": [
    {
     "data": {
      "text/html": [
       "7"
      ],
      "text/latex": [
       "7"
      ],
      "text/markdown": [
       "7"
      ],
      "text/plain": [
       "[1] 7"
      ]
     },
     "metadata": {},
     "output_type": "display_data"
    }
   ],
   "source": [
    "4+3"
   ]
  },
  {
   "cell_type": "markdown",
   "id": "8751b4eb-c5d8-4d39-bc79-d1bf1d06227b",
   "metadata": {},
   "source": [
    "4-3"
   ]
  },
  {
   "cell_type": "markdown",
   "id": "5acd0cf3-6792-4e36-8e68-79c022c09f93",
   "metadata": {},
   "source": [
    "There is special syntax for multiplication and division."
   ]
  },
  {
   "cell_type": "code",
   "execution_count": 2,
   "id": "b77555ea-1d89-4527-a565-5c1966606e2d",
   "metadata": {},
   "outputs": [
    {
     "data": {
      "text/html": [
       "12"
      ],
      "text/latex": [
       "12"
      ],
      "text/markdown": [
       "12"
      ],
      "text/plain": [
       "[1] 12"
      ]
     },
     "metadata": {},
     "output_type": "display_data"
    }
   ],
   "source": [
    "4*3"
   ]
  },
  {
   "cell_type": "code",
   "execution_count": 4,
   "id": "66a3d4bf-c47a-47b1-9a0d-71a1ee4c48f9",
   "metadata": {},
   "outputs": [
    {
     "data": {
      "text/html": [
       "3"
      ],
      "text/latex": [
       "3"
      ],
      "text/markdown": [
       "3"
      ],
      "text/plain": [
       "[1] 3"
      ]
     },
     "metadata": {},
     "output_type": "display_data"
    }
   ],
   "source": [
    "12/4"
   ]
  },
  {
   "cell_type": "markdown",
   "id": "74e06cd4-c9cc-46cd-91eb-154947ae895a",
   "metadata": {},
   "source": [
    "We can also assign numbers to variables and to operations."
   ]
  },
  {
   "cell_type": "code",
   "execution_count": 3,
   "id": "ffbb4db1-36f8-4371-b860-b9e1136b93b7",
   "metadata": {},
   "outputs": [
    {
     "data": {
      "text/html": [
       "7"
      ],
      "text/latex": [
       "7"
      ],
      "text/markdown": [
       "7"
      ],
      "text/plain": [
       "[1] 7"
      ]
     },
     "metadata": {},
     "output_type": "display_data"
    }
   ],
   "source": [
    "a <- 4\n",
    "b <- 3\n",
    "a+b"
   ]
  },
  {
   "cell_type": "markdown",
   "id": "e849af61-59e4-4c22-8359-93fbf214c73b",
   "metadata": {},
   "source": [
    "A function is just something with an input and an output."
   ]
  },
  {
   "cell_type": "code",
   "execution_count": 5,
   "id": "61462036-ed36-4270-a768-fd130530865e",
   "metadata": {},
   "outputs": [
    {
     "data": {
      "text/html": [
       "7"
      ],
      "text/latex": [
       "7"
      ],
      "text/markdown": [
       "7"
      ],
      "text/plain": [
       "[1] 7"
      ]
     },
     "metadata": {},
     "output_type": "display_data"
    }
   ],
   "source": [
    "sum(4,3)"
   ]
  },
  {
   "cell_type": "code",
   "execution_count": 6,
   "id": "9c4c99e1-918f-4104-be12-7f46212454b2",
   "metadata": {},
   "outputs": [
    {
     "data": {
      "text/html": [
       "2.23606797749979"
      ],
      "text/latex": [
       "2.23606797749979"
      ],
      "text/markdown": [
       "2.23606797749979"
      ],
      "text/plain": [
       "[1] 2.236068"
      ]
     },
     "metadata": {},
     "output_type": "display_data"
    }
   ],
   "source": [
    "sqrt(5)"
   ]
  },
  {
   "cell_type": "code",
   "execution_count": 7,
   "id": "11c137cb-3fb2-4a4d-8b27-6b59f52739a9",
   "metadata": {},
   "outputs": [
    {
     "data": {
      "text/html": [
       "7"
      ],
      "text/latex": [
       "7"
      ],
      "text/markdown": [
       "7"
      ],
      "text/plain": [
       "[1] 7"
      ]
     },
     "metadata": {},
     "output_type": "display_data"
    }
   ],
   "source": [
    "sum(a, b)"
   ]
  },
  {
   "cell_type": "markdown",
   "id": "3e91f7cc-255b-48f4-ab57-eb7391ee4abb",
   "metadata": {},
   "source": [
    "# Part 2 - A bit more advanced"
   ]
  },
  {
   "cell_type": "markdown",
   "id": "248b1114-2884-4f05-bffc-56e160aea5cc",
   "metadata": {},
   "source": [
    "The nice thing about R is that unlike on a calculator, you can keep track of your operations. This is important for reproducing your work, and doing more complicated stuff. Let's look at some of this more complicated stuff!"
   ]
  },
  {
   "cell_type": "markdown",
   "id": "ac06ad57-0aeb-4026-94da-8c7c106cf4f5",
   "metadata": {},
   "source": [
    "We can assign lists of numbers to variables. This is called an array.\n",
    "'c' is just a function. It means 'concatenate'."
   ]
  },
  {
   "cell_type": "code",
   "execution_count": 9,
   "id": "4e6a29ac-95f4-4fb9-990b-8a62069bcd76",
   "metadata": {},
   "outputs": [],
   "source": [
    "a <- c(1,2,3,4,5)\n",
    "b <- c(2,2,2,2,2)"
   ]
  },
  {
   "cell_type": "markdown",
   "id": "c24e1454-776f-4daf-a99e-25200904b9ee",
   "metadata": {},
   "source": [
    "We can do operations on lists too, the same as for simpler variables.\n",
    "We can make a new variable in the process."
   ]
  },
  {
   "cell_type": "code",
   "execution_count": 10,
   "id": "aba7981c-75e6-4f6d-a5cf-9820890daa6b",
   "metadata": {},
   "outputs": [],
   "source": [
    "c <- a+b"
   ]
  },
  {
   "cell_type": "markdown",
   "id": "9bc9f880-9552-48c3-9e09-18c606f30a30",
   "metadata": {},
   "source": [
    "To see the output, you need to call the variable directly."
   ]
  },
  {
   "cell_type": "code",
   "execution_count": 11,
   "id": "2860fb03-b59f-414b-87a2-7f181486fee2",
   "metadata": {},
   "outputs": [
    {
     "data": {
      "text/html": [
       "<style>\n",
       ".list-inline {list-style: none; margin:0; padding: 0}\n",
       ".list-inline>li {display: inline-block}\n",
       ".list-inline>li:not(:last-child)::after {content: \"\\00b7\"; padding: 0 .5ex}\n",
       "</style>\n",
       "<ol class=list-inline><li>3</li><li>4</li><li>5</li><li>6</li><li>7</li></ol>\n"
      ],
      "text/latex": [
       "\\begin{enumerate*}\n",
       "\\item 3\n",
       "\\item 4\n",
       "\\item 5\n",
       "\\item 6\n",
       "\\item 7\n",
       "\\end{enumerate*}\n"
      ],
      "text/markdown": [
       "1. 3\n",
       "2. 4\n",
       "3. 5\n",
       "4. 6\n",
       "5. 7\n",
       "\n",
       "\n"
      ],
      "text/plain": [
       "[1] 3 4 5 6 7"
      ]
     },
     "metadata": {},
     "output_type": "display_data"
    }
   ],
   "source": [
    "c"
   ]
  },
  {
   "cell_type": "markdown",
   "id": "acfd0860-c27e-4e04-b5ba-ab599b7f9986",
   "metadata": {},
   "source": [
    "We can use other functions to make lists. We can make sequences..."
   ]
  },
  {
   "cell_type": "code",
   "execution_count": 12,
   "id": "df9fb366-73e2-41f9-95ae-dbb3c2cc57c3",
   "metadata": {},
   "outputs": [
    {
     "data": {
      "text/html": [
       "<style>\n",
       ".list-inline {list-style: none; margin:0; padding: 0}\n",
       ".list-inline>li {display: inline-block}\n",
       ".list-inline>li:not(:last-child)::after {content: \"\\00b7\"; padding: 0 .5ex}\n",
       "</style>\n",
       "<ol class=list-inline><li>1</li><li>2</li><li>3</li><li>4</li><li>5</li></ol>\n"
      ],
      "text/latex": [
       "\\begin{enumerate*}\n",
       "\\item 1\n",
       "\\item 2\n",
       "\\item 3\n",
       "\\item 4\n",
       "\\item 5\n",
       "\\end{enumerate*}\n"
      ],
      "text/markdown": [
       "1. 1\n",
       "2. 2\n",
       "3. 3\n",
       "4. 4\n",
       "5. 5\n",
       "\n",
       "\n"
      ],
      "text/plain": [
       "[1] 1 2 3 4 5"
      ]
     },
     "metadata": {},
     "output_type": "display_data"
    }
   ],
   "source": [
    "a <- seq(1,5,1)\n",
    "a"
   ]
  },
  {
   "cell_type": "markdown",
   "id": "2fb47e4b-4003-47a5-b65f-5eb3ce8450a6",
   "metadata": {},
   "source": [
    "...or repeat numbers"
   ]
  },
  {
   "cell_type": "code",
   "execution_count": 14,
   "id": "8a60419c-b130-421d-b220-41465cf63a47",
   "metadata": {},
   "outputs": [
    {
     "data": {
      "text/html": [
       "<style>\n",
       ".list-inline {list-style: none; margin:0; padding: 0}\n",
       ".list-inline>li {display: inline-block}\n",
       ".list-inline>li:not(:last-child)::after {content: \"\\00b7\"; padding: 0 .5ex}\n",
       "</style>\n",
       "<ol class=list-inline><li>2</li><li>2</li><li>2</li><li>2</li><li>2</li></ol>\n"
      ],
      "text/latex": [
       "\\begin{enumerate*}\n",
       "\\item 2\n",
       "\\item 2\n",
       "\\item 2\n",
       "\\item 2\n",
       "\\item 2\n",
       "\\end{enumerate*}\n"
      ],
      "text/markdown": [
       "1. 2\n",
       "2. 2\n",
       "3. 2\n",
       "4. 2\n",
       "5. 2\n",
       "\n",
       "\n"
      ],
      "text/plain": [
       "[1] 2 2 2 2 2"
      ]
     },
     "metadata": {},
     "output_type": "display_data"
    }
   ],
   "source": [
    "b <- rep(2, 5)\n",
    "b"
   ]
  },
  {
   "cell_type": "markdown",
   "id": "ceb4a06c-2759-42d7-b834-c66398ac717c",
   "metadata": {},
   "source": [
    "We can also generate random lists."
   ]
  },
  {
   "cell_type": "code",
   "execution_count": 15,
   "id": "a0b7baea-94b1-4e6e-8285-fb166af80ca8",
   "metadata": {},
   "outputs": [],
   "source": [
    "weight1 <-runif(30, 60, 120)\n",
    "weight2 <- runif(30, 80, 140)"
   ]
  },
  {
   "cell_type": "markdown",
   "id": "a9b41cdd-8549-426c-a63a-c48eaef7bebb",
   "metadata": {},
   "source": [
    "A uniform distribution is a probability distribution in which all outcomes are equally likely, resulting in a constant probability density across a specified interval."
   ]
  },
  {
   "cell_type": "markdown",
   "id": "79545d3b-fcaa-4cef-8c6b-ede5ac095ebe",
   "metadata": {},
   "source": [
    "If you are unsure about how a function works, there's a built-in way to get help:"
   ]
  },
  {
   "cell_type": "code",
   "execution_count": 16,
   "id": "f032b628-f242-4e9a-a621-b48c232cf34a",
   "metadata": {},
   "outputs": [
    {
     "data": {
      "text/html": [
       "\n",
       "<table style=\"width: 100%;\"><tr><td>Uniform {stats}</td><td style=\"text-align: right;\">R Documentation</td></tr></table>\n",
       "\n",
       "<h2>The Uniform Distribution</h2>\n",
       "\n",
       "<h3>Description</h3>\n",
       "\n",
       "<p>These functions provide information about the uniform distribution\n",
       "on the interval from <code>min</code> to <code>max</code>.  <code>dunif</code> gives the\n",
       "density, <code>punif</code> gives the distribution function <code>qunif</code>\n",
       "gives the quantile function and <code>runif</code> generates random\n",
       "deviates.\n",
       "</p>\n",
       "\n",
       "\n",
       "<h3>Usage</h3>\n",
       "\n",
       "<pre><code class='language-R'>dunif(x, min = 0, max = 1, log = FALSE)\n",
       "punif(q, min = 0, max = 1, lower.tail = TRUE, log.p = FALSE)\n",
       "qunif(p, min = 0, max = 1, lower.tail = TRUE, log.p = FALSE)\n",
       "runif(n, min = 0, max = 1)\n",
       "</code></pre>\n",
       "\n",
       "\n",
       "<h3>Arguments</h3>\n",
       "\n",
       "<table>\n",
       "<tr><td><code id=\"x\">x</code>, <code id=\"q\">q</code></td>\n",
       "<td>\n",
       "<p>vector of quantiles.</p>\n",
       "</td></tr>\n",
       "<tr><td><code id=\"p\">p</code></td>\n",
       "<td>\n",
       "<p>vector of probabilities.</p>\n",
       "</td></tr>\n",
       "<tr><td><code id=\"n\">n</code></td>\n",
       "<td>\n",
       "<p>number of observations. If <code>length(n) &gt; 1</code>, the length\n",
       "is taken to be the number required.</p>\n",
       "</td></tr>\n",
       "<tr><td><code id=\"min\">min</code>, <code id=\"max\">max</code></td>\n",
       "<td>\n",
       "<p>lower and upper limits of the distribution.  Must be finite.</p>\n",
       "</td></tr>\n",
       "<tr><td><code id=\"log\">log</code>, <code id=\"log.p\">log.p</code></td>\n",
       "<td>\n",
       "<p>logical; if TRUE, probabilities p are given as log(p).</p>\n",
       "</td></tr>\n",
       "<tr><td><code id=\"lower.tail\">lower.tail</code></td>\n",
       "<td>\n",
       "<p>logical; if TRUE (default), probabilities are\n",
       "<code class=\"reqn\">P[X \\le x]</code>, otherwise, <code class=\"reqn\">P[X &gt; x]</code>.</p>\n",
       "</td></tr>\n",
       "</table>\n",
       "\n",
       "\n",
       "<h3>Details</h3>\n",
       "\n",
       "<p>If <code>min</code> or <code>max</code> are not specified they assume the default\n",
       "values of <code>0</code> and <code>1</code> respectively.\n",
       "</p>\n",
       "<p>The uniform distribution has density\n",
       "</p>\n",
       "<p style=\"text-align: center;\"><code class=\"reqn\">f(x) = \\frac{1}{max-min}</code>\n",
       "</p>\n",
       "\n",
       "<p>for <code class=\"reqn\">min \\le x \\le max</code>.\n",
       "</p>\n",
       "<p>For the case of <code class=\"reqn\">u := min == max</code>, the limit case of\n",
       "<code class=\"reqn\">X \\equiv u</code> is assumed, although there is no density in\n",
       "that case and <code>dunif</code> will return <code>NaN</code> (the error condition).\n",
       "</p>\n",
       "<p><code>runif</code> will not generate either of the extreme values unless\n",
       "<code>max = min</code> or <code>max-min</code> is small compared to <code>min</code>,\n",
       "and in particular not for the default arguments.\n",
       "</p>\n",
       "\n",
       "\n",
       "<h3>Value</h3>\n",
       "\n",
       "<p><code>dunif</code> gives the density,\n",
       "<code>punif</code> gives the distribution function,\n",
       "<code>qunif</code> gives the quantile function, and\n",
       "<code>runif</code> generates random deviates.\n",
       "</p>\n",
       "<p>The length of the result is determined by <code>n</code> for\n",
       "<code>runif</code>, and is the maximum of the lengths of the\n",
       "numerical arguments for the other functions.  \n",
       "</p>\n",
       "<p>The numerical arguments other than <code>n</code> are recycled to the\n",
       "length of the result.  Only the first elements of the logical\n",
       "arguments are used.\n",
       "</p>\n",
       "\n",
       "\n",
       "<h3>Note</h3>\n",
       "\n",
       "<p>The characteristics of output from pseudo-random number generators\n",
       "(such as precision and periodicity) vary widely.  See\n",
       "<code>.Random.seed</code> for more information on <span class=\"rlang\"><b>R</b></span>'s random number\n",
       "generation algorithms.\n",
       "</p>\n",
       "\n",
       "\n",
       "<h3>References</h3>\n",
       "\n",
       "<p>Becker, R. A., Chambers, J. M. and Wilks, A. R. (1988)\n",
       "<em>The New S Language</em>.\n",
       "Wadsworth &amp; Brooks/Cole.\n",
       "</p>\n",
       "\n",
       "\n",
       "<h3>See Also</h3>\n",
       "\n",
       "<p><code>RNG</code> about random number generation in <span class=\"rlang\"><b>R</b></span>.\n",
       "</p>\n",
       "<p>Distributions for other standard distributions.\n",
       "</p>\n",
       "\n",
       "\n",
       "<h3>Examples</h3>\n",
       "\n",
       "<pre><code class='language-R'>u &lt;- runif(20)\n",
       "\n",
       "## The following relations always hold :\n",
       "punif(u) == u\n",
       "dunif(u) == 1\n",
       "\n",
       "var(runif(10000))  #- ~ = 1/12 = .08333\n",
       "</code></pre>\n",
       "\n",
       "<hr /><div style=\"text-align: center;\">[Package <em>stats</em> version 4.4.1 ]</div></main>\n",
       "\n",
       "</div>"
      ],
      "text/latex": [
       "\\inputencoding{utf8}\n",
       "\\HeaderA{Uniform}{The Uniform Distribution}{Uniform}\n",
       "\\aliasA{dunif}{Uniform}{dunif}\n",
       "\\aliasA{punif}{Uniform}{punif}\n",
       "\\aliasA{qunif}{Uniform}{qunif}\n",
       "\\aliasA{runif}{Uniform}{runif}\n",
       "\\keyword{distribution}{Uniform}\n",
       "%\n",
       "\\begin{Description}\n",
       "These functions provide information about the uniform distribution\n",
       "on the interval from \\code{min} to \\code{max}.  \\code{dunif} gives the\n",
       "density, \\code{punif} gives the distribution function \\code{qunif}\n",
       "gives the quantile function and \\code{runif} generates random\n",
       "deviates.\n",
       "\\end{Description}\n",
       "%\n",
       "\\begin{Usage}\n",
       "\\begin{verbatim}\n",
       "dunif(x, min = 0, max = 1, log = FALSE)\n",
       "punif(q, min = 0, max = 1, lower.tail = TRUE, log.p = FALSE)\n",
       "qunif(p, min = 0, max = 1, lower.tail = TRUE, log.p = FALSE)\n",
       "runif(n, min = 0, max = 1)\n",
       "\\end{verbatim}\n",
       "\\end{Usage}\n",
       "%\n",
       "\\begin{Arguments}\n",
       "\\begin{ldescription}\n",
       "\\item[\\code{x}, \\code{q}] vector of quantiles.\n",
       "\\item[\\code{p}] vector of probabilities.\n",
       "\\item[\\code{n}] number of observations. If \\code{length(n) > 1}, the length\n",
       "is taken to be the number required.\n",
       "\\item[\\code{min}, \\code{max}] lower and upper limits of the distribution.  Must be finite.\n",
       "\\item[\\code{log}, \\code{log.p}] logical; if TRUE, probabilities p are given as log(p).\n",
       "\\item[\\code{lower.tail}] logical; if TRUE (default), probabilities are\n",
       "\\eqn{P[X \\le x]}{}, otherwise, \\eqn{P[X > x]}{}.\n",
       "\\end{ldescription}\n",
       "\\end{Arguments}\n",
       "%\n",
       "\\begin{Details}\n",
       "If \\code{min} or \\code{max} are not specified they assume the default\n",
       "values of \\code{0} and \\code{1} respectively.\n",
       "\n",
       "The uniform distribution has density\n",
       "\\deqn{f(x) = \\frac{1}{max-min}}{}\n",
       "for \\eqn{min \\le x \\le max}{}.\n",
       "\n",
       "For the case of \\eqn{u := min == max}{}, the limit case of\n",
       "\\eqn{X \\equiv u}{} is assumed, although there is no density in\n",
       "that case and \\code{dunif} will return \\code{NaN} (the error condition).\n",
       "\n",
       "\\code{runif} will not generate either of the extreme values unless\n",
       "\\code{max = min} or \\code{max-min} is small compared to \\code{min},\n",
       "and in particular not for the default arguments.\n",
       "\\end{Details}\n",
       "%\n",
       "\\begin{Value}\n",
       "\\code{dunif} gives the density,\n",
       "\\code{punif} gives the distribution function,\n",
       "\\code{qunif} gives the quantile function, and\n",
       "\\code{runif} generates random deviates.\n",
       "\n",
       "The length of the result is determined by \\code{n} for\n",
       "\\code{runif}, and is the maximum of the lengths of the\n",
       "numerical arguments for the other functions.  \n",
       "\n",
       "The numerical arguments other than \\code{n} are recycled to the\n",
       "length of the result.  Only the first elements of the logical\n",
       "arguments are used.\n",
       "\\end{Value}\n",
       "%\n",
       "\\begin{Note}\n",
       "The characteristics of output from pseudo-random number generators\n",
       "(such as precision and periodicity) vary widely.  See\n",
       "\\code{\\LinkA{.Random.seed}{.Random.seed}} for more information on \\R{}'s random number\n",
       "generation algorithms.\n",
       "\\end{Note}\n",
       "%\n",
       "\\begin{References}\n",
       "Becker, R. A., Chambers, J. M. and Wilks, A. R. (1988)\n",
       "\\emph{The New S Language}.\n",
       "Wadsworth \\& Brooks/Cole.\n",
       "\\end{References}\n",
       "%\n",
       "\\begin{SeeAlso}\n",
       "\\code{\\LinkA{RNG}{RNG}} about random number generation in \\R{}.\n",
       "\n",
       "\\LinkA{Distributions}{Distributions} for other standard distributions.\n",
       "\\end{SeeAlso}\n",
       "%\n",
       "\\begin{Examples}\n",
       "\\begin{ExampleCode}\n",
       "u <- runif(20)\n",
       "\n",
       "## The following relations always hold :\n",
       "punif(u) == u\n",
       "dunif(u) == 1\n",
       "\n",
       "var(runif(10000))  #- ~ = 1/12 = .08333\n",
       "\\end{ExampleCode}\n",
       "\\end{Examples}"
      ],
      "text/plain": [
       "Uniform                 package:stats                  R Documentation\n",
       "\n",
       "_\bT_\bh_\be _\bU_\bn_\bi_\bf_\bo_\br_\bm _\bD_\bi_\bs_\bt_\br_\bi_\bb_\bu_\bt_\bi_\bo_\bn\n",
       "\n",
       "_\bD_\be_\bs_\bc_\br_\bi_\bp_\bt_\bi_\bo_\bn:\n",
       "\n",
       "     These functions provide information about the uniform distribution\n",
       "     on the interval from ‘min’ to ‘max’.  ‘dunif’ gives the density,\n",
       "     ‘punif’ gives the distribution function ‘qunif’ gives the quantile\n",
       "     function and ‘runif’ generates random deviates.\n",
       "\n",
       "_\bU_\bs_\ba_\bg_\be:\n",
       "\n",
       "     dunif(x, min = 0, max = 1, log = FALSE)\n",
       "     punif(q, min = 0, max = 1, lower.tail = TRUE, log.p = FALSE)\n",
       "     qunif(p, min = 0, max = 1, lower.tail = TRUE, log.p = FALSE)\n",
       "     runif(n, min = 0, max = 1)\n",
       "     \n",
       "_\bA_\br_\bg_\bu_\bm_\be_\bn_\bt_\bs:\n",
       "\n",
       "    x, q: vector of quantiles.\n",
       "\n",
       "       p: vector of probabilities.\n",
       "\n",
       "       n: number of observations. If ‘length(n) > 1’, the length is\n",
       "          taken to be the number required.\n",
       "\n",
       "min, max: lower and upper limits of the distribution.  Must be finite.\n",
       "\n",
       "log, log.p: logical; if TRUE, probabilities p are given as log(p).\n",
       "\n",
       "lower.tail: logical; if TRUE (default), probabilities are P[X <= x],\n",
       "          otherwise, P[X > x].\n",
       "\n",
       "_\bD_\be_\bt_\ba_\bi_\bl_\bs:\n",
       "\n",
       "     If ‘min’ or ‘max’ are not specified they assume the default values\n",
       "     of ‘0’ and ‘1’ respectively.\n",
       "\n",
       "     The uniform distribution has density\n",
       "\n",
       "                             f(x) = 1/(max-min)                         \n",
       "     \n",
       "     for min <= x <= max.\n",
       "\n",
       "     For the case of u := min == max, the limit case of X == u is\n",
       "     assumed, although there is no density in that case and ‘dunif’\n",
       "     will return ‘NaN’ (the error condition).\n",
       "\n",
       "     ‘runif’ will not generate either of the extreme values unless ‘max\n",
       "     = min’ or ‘max-min’ is small compared to ‘min’, and in particular\n",
       "     not for the default arguments.\n",
       "\n",
       "_\bV_\ba_\bl_\bu_\be:\n",
       "\n",
       "     ‘dunif’ gives the density, ‘punif’ gives the distribution\n",
       "     function, ‘qunif’ gives the quantile function, and ‘runif’\n",
       "     generates random deviates.\n",
       "\n",
       "     The length of the result is determined by ‘n’ for ‘runif’, and is\n",
       "     the maximum of the lengths of the numerical arguments for the\n",
       "     other functions.\n",
       "\n",
       "     The numerical arguments other than ‘n’ are recycled to the length\n",
       "     of the result.  Only the first elements of the logical arguments\n",
       "     are used.\n",
       "\n",
       "_\bN_\bo_\bt_\be:\n",
       "\n",
       "     The characteristics of output from pseudo-random number generators\n",
       "     (such as precision and periodicity) vary widely.  See\n",
       "     ‘.Random.seed’ for more information on R's random number\n",
       "     generation algorithms.\n",
       "\n",
       "_\bR_\be_\bf_\be_\br_\be_\bn_\bc_\be_\bs:\n",
       "\n",
       "     Becker, R. A., Chambers, J. M. and Wilks, A. R. (1988) _The New S\n",
       "     Language_.  Wadsworth & Brooks/Cole.\n",
       "\n",
       "_\bS_\be_\be _\bA_\bl_\bs_\bo:\n",
       "\n",
       "     ‘RNG’ about random number generation in R.\n",
       "\n",
       "     Distributions for other standard distributions.\n",
       "\n",
       "_\bE_\bx_\ba_\bm_\bp_\bl_\be_\bs:\n",
       "\n",
       "     u <- runif(20)\n",
       "     \n",
       "     ## The following relations always hold :\n",
       "     punif(u) == u\n",
       "     dunif(u) == 1\n",
       "     \n",
       "     var(runif(10000))  #- ~ = 1/12 = .08333\n",
       "     "
      ]
     },
     "metadata": {},
     "output_type": "display_data"
    }
   ],
   "source": [
    "?runif"
   ]
  },
  {
   "cell_type": "markdown",
   "id": "a2698634-aee6-4790-9067-9a70003b55cb",
   "metadata": {},
   "source": [
    "We don't have to use a uniform distribution. Actually, a normal distribution will be better. Let's do that instead."
   ]
  },
  {
   "cell_type": "code",
   "execution_count": 19,
   "id": "de4a1ed7-b9de-4d1c-aafb-f663ef593c78",
   "metadata": {},
   "outputs": [],
   "source": [
    "weight1 <- rnorm(30,60,10)\n",
    "weight2 <- rnorm(30, 80, 10)\n",
    "    "
   ]
  },
  {
   "cell_type": "markdown",
   "id": "96fb9a30-367e-403a-8058-24b0715b1611",
   "metadata": {},
   "source": [
    "A normal distribution is a symmetric, bell-shaped probability distribution characterized by its mean and standard deviation, where approximately 68% of the data falls within one standard deviation of the mean."
   ]
  },
  {
   "cell_type": "markdown",
   "id": "a1468e8b-d238-4885-9d26-4502e6da5308",
   "metadata": {},
   "source": [
    "We can also make lists of words. This can be useful if our variables are categorical. "
   ]
  },
  {
   "cell_type": "code",
   "execution_count": 20,
   "id": "70879df2-7725-443e-8208-c4954b30a138",
   "metadata": {},
   "outputs": [],
   "source": [
    "species1 <- rep(\"Deer\", 30)\n",
    "species2 <- rep(\"Reindeer\", 30)"
   ]
  },
  {
   "cell_type": "markdown",
   "id": "7198b1e8-6298-4fb9-a319-f7f2f723d725",
   "metadata": {},
   "source": [
    "We can also manipulate arrays. This can be necessary for tidying data, and getting it into the right format. We can for example append one array to another. We just use the c() function for this."
   ]
  },
  {
   "cell_type": "code",
   "execution_count": 25,
   "id": "750d9402-c1cc-4866-a00b-3f0e75dfe402",
   "metadata": {},
   "outputs": [],
   "source": [
    "weight <- c(weight1, weight2)\n",
    "species <- c(species1, species2)"
   ]
  },
  {
   "cell_type": "markdown",
   "id": "987c336d-d560-4c57-9d87-eee75a342173",
   "metadata": {},
   "source": [
    "This gives us our weights and species as nice tidy data arrays. We can also organise our data into spreadsheets like excel. These are called data frames in R."
   ]
  },
  {
   "cell_type": "code",
   "execution_count": 26,
   "id": "03134980-2042-4ef6-92fa-930639259b9c",
   "metadata": {},
   "outputs": [],
   "source": [
    "DeerStudy <- data.frame(weight, species)"
   ]
  },
  {
   "cell_type": "markdown",
   "id": "21b1fbbc-a349-4d17-8452-81cec475d781",
   "metadata": {},
   "source": [
    "You can always take a look at the dataframe by calling it."
   ]
  },
  {
   "cell_type": "code",
   "execution_count": 27,
   "id": "024e2e50-5a68-49f5-8ca3-bf6271649f81",
   "metadata": {},
   "outputs": [
    {
     "data": {
      "text/html": [
       "<table class=\"dataframe\">\n",
       "<caption>A data.frame: 60 × 2</caption>\n",
       "<thead>\n",
       "\t<tr><th scope=col>weight</th><th scope=col>species</th></tr>\n",
       "\t<tr><th scope=col>&lt;dbl&gt;</th><th scope=col>&lt;chr&gt;</th></tr>\n",
       "</thead>\n",
       "<tbody>\n",
       "\t<tr><td>54.85214</td><td>Deer    </td></tr>\n",
       "\t<tr><td>53.98853</td><td>Deer    </td></tr>\n",
       "\t<tr><td>53.03478</td><td>Deer    </td></tr>\n",
       "\t<tr><td>65.98772</td><td>Deer    </td></tr>\n",
       "\t<tr><td>68.78587</td><td>Deer    </td></tr>\n",
       "\t<tr><td>61.21957</td><td>Deer    </td></tr>\n",
       "\t<tr><td>44.37969</td><td>Deer    </td></tr>\n",
       "\t<tr><td>56.84164</td><td>Deer    </td></tr>\n",
       "\t<tr><td>54.48341</td><td>Deer    </td></tr>\n",
       "\t<tr><td>54.13656</td><td>Deer    </td></tr>\n",
       "\t<tr><td>71.51286</td><td>Deer    </td></tr>\n",
       "\t<tr><td>64.18519</td><td>Deer    </td></tr>\n",
       "\t<tr><td>57.50895</td><td>Deer    </td></tr>\n",
       "\t<tr><td>66.94180</td><td>Deer    </td></tr>\n",
       "\t<tr><td>75.18065</td><td>Deer    </td></tr>\n",
       "\t<tr><td>56.34114</td><td>Deer    </td></tr>\n",
       "\t<tr><td>55.82726</td><td>Deer    </td></tr>\n",
       "\t<tr><td>58.29876</td><td>Deer    </td></tr>\n",
       "\t<tr><td>56.71441</td><td>Deer    </td></tr>\n",
       "\t<tr><td>67.74840</td><td>Deer    </td></tr>\n",
       "\t<tr><td>27.97383</td><td>Deer    </td></tr>\n",
       "\t<tr><td>53.31524</td><td>Deer    </td></tr>\n",
       "\t<tr><td>47.92352</td><td>Deer    </td></tr>\n",
       "\t<tr><td>64.57780</td><td>Deer    </td></tr>\n",
       "\t<tr><td>62.42148</td><td>Deer    </td></tr>\n",
       "\t<tr><td>44.90824</td><td>Deer    </td></tr>\n",
       "\t<tr><td>62.79038</td><td>Deer    </td></tr>\n",
       "\t<tr><td>54.39654</td><td>Deer    </td></tr>\n",
       "\t<tr><td>50.41120</td><td>Deer    </td></tr>\n",
       "\t<tr><td>52.84760</td><td>Deer    </td></tr>\n",
       "\t<tr><td>70.54783</td><td>Reindeer</td></tr>\n",
       "\t<tr><td>84.05931</td><td>Reindeer</td></tr>\n",
       "\t<tr><td>77.88964</td><td>Reindeer</td></tr>\n",
       "\t<tr><td>79.83336</td><td>Reindeer</td></tr>\n",
       "\t<tr><td>74.25663</td><td>Reindeer</td></tr>\n",
       "\t<tr><td>68.17140</td><td>Reindeer</td></tr>\n",
       "\t<tr><td>78.46949</td><td>Reindeer</td></tr>\n",
       "\t<tr><td>76.41896</td><td>Reindeer</td></tr>\n",
       "\t<tr><td>80.67103</td><td>Reindeer</td></tr>\n",
       "\t<tr><td>73.57930</td><td>Reindeer</td></tr>\n",
       "\t<tr><td>88.68717</td><td>Reindeer</td></tr>\n",
       "\t<tr><td>91.07093</td><td>Reindeer</td></tr>\n",
       "\t<tr><td>83.64935</td><td>Reindeer</td></tr>\n",
       "\t<tr><td>74.10485</td><td>Reindeer</td></tr>\n",
       "\t<tr><td>85.28822</td><td>Reindeer</td></tr>\n",
       "\t<tr><td>75.57385</td><td>Reindeer</td></tr>\n",
       "\t<tr><td>95.75118</td><td>Reindeer</td></tr>\n",
       "\t<tr><td>86.31196</td><td>Reindeer</td></tr>\n",
       "\t<tr><td>67.99708</td><td>Reindeer</td></tr>\n",
       "\t<tr><td>68.44500</td><td>Reindeer</td></tr>\n",
       "\t<tr><td>79.28927</td><td>Reindeer</td></tr>\n",
       "\t<tr><td>63.19408</td><td>Reindeer</td></tr>\n",
       "\t<tr><td>90.27050</td><td>Reindeer</td></tr>\n",
       "\t<tr><td>95.74076</td><td>Reindeer</td></tr>\n",
       "\t<tr><td>71.68875</td><td>Reindeer</td></tr>\n",
       "\t<tr><td>73.75547</td><td>Reindeer</td></tr>\n",
       "\t<tr><td>73.31946</td><td>Reindeer</td></tr>\n",
       "\t<tr><td>68.43147</td><td>Reindeer</td></tr>\n",
       "\t<tr><td>82.91552</td><td>Reindeer</td></tr>\n",
       "\t<tr><td>83.52621</td><td>Reindeer</td></tr>\n",
       "</tbody>\n",
       "</table>\n"
      ],
      "text/latex": [
       "A data.frame: 60 × 2\n",
       "\\begin{tabular}{ll}\n",
       " weight & species\\\\\n",
       " <dbl> & <chr>\\\\\n",
       "\\hline\n",
       "\t 54.85214 & Deer    \\\\\n",
       "\t 53.98853 & Deer    \\\\\n",
       "\t 53.03478 & Deer    \\\\\n",
       "\t 65.98772 & Deer    \\\\\n",
       "\t 68.78587 & Deer    \\\\\n",
       "\t 61.21957 & Deer    \\\\\n",
       "\t 44.37969 & Deer    \\\\\n",
       "\t 56.84164 & Deer    \\\\\n",
       "\t 54.48341 & Deer    \\\\\n",
       "\t 54.13656 & Deer    \\\\\n",
       "\t 71.51286 & Deer    \\\\\n",
       "\t 64.18519 & Deer    \\\\\n",
       "\t 57.50895 & Deer    \\\\\n",
       "\t 66.94180 & Deer    \\\\\n",
       "\t 75.18065 & Deer    \\\\\n",
       "\t 56.34114 & Deer    \\\\\n",
       "\t 55.82726 & Deer    \\\\\n",
       "\t 58.29876 & Deer    \\\\\n",
       "\t 56.71441 & Deer    \\\\\n",
       "\t 67.74840 & Deer    \\\\\n",
       "\t 27.97383 & Deer    \\\\\n",
       "\t 53.31524 & Deer    \\\\\n",
       "\t 47.92352 & Deer    \\\\\n",
       "\t 64.57780 & Deer    \\\\\n",
       "\t 62.42148 & Deer    \\\\\n",
       "\t 44.90824 & Deer    \\\\\n",
       "\t 62.79038 & Deer    \\\\\n",
       "\t 54.39654 & Deer    \\\\\n",
       "\t 50.41120 & Deer    \\\\\n",
       "\t 52.84760 & Deer    \\\\\n",
       "\t 70.54783 & Reindeer\\\\\n",
       "\t 84.05931 & Reindeer\\\\\n",
       "\t 77.88964 & Reindeer\\\\\n",
       "\t 79.83336 & Reindeer\\\\\n",
       "\t 74.25663 & Reindeer\\\\\n",
       "\t 68.17140 & Reindeer\\\\\n",
       "\t 78.46949 & Reindeer\\\\\n",
       "\t 76.41896 & Reindeer\\\\\n",
       "\t 80.67103 & Reindeer\\\\\n",
       "\t 73.57930 & Reindeer\\\\\n",
       "\t 88.68717 & Reindeer\\\\\n",
       "\t 91.07093 & Reindeer\\\\\n",
       "\t 83.64935 & Reindeer\\\\\n",
       "\t 74.10485 & Reindeer\\\\\n",
       "\t 85.28822 & Reindeer\\\\\n",
       "\t 75.57385 & Reindeer\\\\\n",
       "\t 95.75118 & Reindeer\\\\\n",
       "\t 86.31196 & Reindeer\\\\\n",
       "\t 67.99708 & Reindeer\\\\\n",
       "\t 68.44500 & Reindeer\\\\\n",
       "\t 79.28927 & Reindeer\\\\\n",
       "\t 63.19408 & Reindeer\\\\\n",
       "\t 90.27050 & Reindeer\\\\\n",
       "\t 95.74076 & Reindeer\\\\\n",
       "\t 71.68875 & Reindeer\\\\\n",
       "\t 73.75547 & Reindeer\\\\\n",
       "\t 73.31946 & Reindeer\\\\\n",
       "\t 68.43147 & Reindeer\\\\\n",
       "\t 82.91552 & Reindeer\\\\\n",
       "\t 83.52621 & Reindeer\\\\\n",
       "\\end{tabular}\n"
      ],
      "text/markdown": [
       "\n",
       "A data.frame: 60 × 2\n",
       "\n",
       "| weight &lt;dbl&gt; | species &lt;chr&gt; |\n",
       "|---|---|\n",
       "| 54.85214 | Deer     |\n",
       "| 53.98853 | Deer     |\n",
       "| 53.03478 | Deer     |\n",
       "| 65.98772 | Deer     |\n",
       "| 68.78587 | Deer     |\n",
       "| 61.21957 | Deer     |\n",
       "| 44.37969 | Deer     |\n",
       "| 56.84164 | Deer     |\n",
       "| 54.48341 | Deer     |\n",
       "| 54.13656 | Deer     |\n",
       "| 71.51286 | Deer     |\n",
       "| 64.18519 | Deer     |\n",
       "| 57.50895 | Deer     |\n",
       "| 66.94180 | Deer     |\n",
       "| 75.18065 | Deer     |\n",
       "| 56.34114 | Deer     |\n",
       "| 55.82726 | Deer     |\n",
       "| 58.29876 | Deer     |\n",
       "| 56.71441 | Deer     |\n",
       "| 67.74840 | Deer     |\n",
       "| 27.97383 | Deer     |\n",
       "| 53.31524 | Deer     |\n",
       "| 47.92352 | Deer     |\n",
       "| 64.57780 | Deer     |\n",
       "| 62.42148 | Deer     |\n",
       "| 44.90824 | Deer     |\n",
       "| 62.79038 | Deer     |\n",
       "| 54.39654 | Deer     |\n",
       "| 50.41120 | Deer     |\n",
       "| 52.84760 | Deer     |\n",
       "| 70.54783 | Reindeer |\n",
       "| 84.05931 | Reindeer |\n",
       "| 77.88964 | Reindeer |\n",
       "| 79.83336 | Reindeer |\n",
       "| 74.25663 | Reindeer |\n",
       "| 68.17140 | Reindeer |\n",
       "| 78.46949 | Reindeer |\n",
       "| 76.41896 | Reindeer |\n",
       "| 80.67103 | Reindeer |\n",
       "| 73.57930 | Reindeer |\n",
       "| 88.68717 | Reindeer |\n",
       "| 91.07093 | Reindeer |\n",
       "| 83.64935 | Reindeer |\n",
       "| 74.10485 | Reindeer |\n",
       "| 85.28822 | Reindeer |\n",
       "| 75.57385 | Reindeer |\n",
       "| 95.75118 | Reindeer |\n",
       "| 86.31196 | Reindeer |\n",
       "| 67.99708 | Reindeer |\n",
       "| 68.44500 | Reindeer |\n",
       "| 79.28927 | Reindeer |\n",
       "| 63.19408 | Reindeer |\n",
       "| 90.27050 | Reindeer |\n",
       "| 95.74076 | Reindeer |\n",
       "| 71.68875 | Reindeer |\n",
       "| 73.75547 | Reindeer |\n",
       "| 73.31946 | Reindeer |\n",
       "| 68.43147 | Reindeer |\n",
       "| 82.91552 | Reindeer |\n",
       "| 83.52621 | Reindeer |\n",
       "\n"
      ],
      "text/plain": [
       "   weight   species \n",
       "1  54.85214 Deer    \n",
       "2  53.98853 Deer    \n",
       "3  53.03478 Deer    \n",
       "4  65.98772 Deer    \n",
       "5  68.78587 Deer    \n",
       "6  61.21957 Deer    \n",
       "7  44.37969 Deer    \n",
       "8  56.84164 Deer    \n",
       "9  54.48341 Deer    \n",
       "10 54.13656 Deer    \n",
       "11 71.51286 Deer    \n",
       "12 64.18519 Deer    \n",
       "13 57.50895 Deer    \n",
       "14 66.94180 Deer    \n",
       "15 75.18065 Deer    \n",
       "16 56.34114 Deer    \n",
       "17 55.82726 Deer    \n",
       "18 58.29876 Deer    \n",
       "19 56.71441 Deer    \n",
       "20 67.74840 Deer    \n",
       "21 27.97383 Deer    \n",
       "22 53.31524 Deer    \n",
       "23 47.92352 Deer    \n",
       "24 64.57780 Deer    \n",
       "25 62.42148 Deer    \n",
       "26 44.90824 Deer    \n",
       "27 62.79038 Deer    \n",
       "28 54.39654 Deer    \n",
       "29 50.41120 Deer    \n",
       "30 52.84760 Deer    \n",
       "31 70.54783 Reindeer\n",
       "32 84.05931 Reindeer\n",
       "33 77.88964 Reindeer\n",
       "34 79.83336 Reindeer\n",
       "35 74.25663 Reindeer\n",
       "36 68.17140 Reindeer\n",
       "37 78.46949 Reindeer\n",
       "38 76.41896 Reindeer\n",
       "39 80.67103 Reindeer\n",
       "40 73.57930 Reindeer\n",
       "41 88.68717 Reindeer\n",
       "42 91.07093 Reindeer\n",
       "43 83.64935 Reindeer\n",
       "44 74.10485 Reindeer\n",
       "45 85.28822 Reindeer\n",
       "46 75.57385 Reindeer\n",
       "47 95.75118 Reindeer\n",
       "48 86.31196 Reindeer\n",
       "49 67.99708 Reindeer\n",
       "50 68.44500 Reindeer\n",
       "51 79.28927 Reindeer\n",
       "52 63.19408 Reindeer\n",
       "53 90.27050 Reindeer\n",
       "54 95.74076 Reindeer\n",
       "55 71.68875 Reindeer\n",
       "56 73.75547 Reindeer\n",
       "57 73.31946 Reindeer\n",
       "58 68.43147 Reindeer\n",
       "59 82.91552 Reindeer\n",
       "60 83.52621 Reindeer"
      ]
     },
     "metadata": {},
     "output_type": "display_data"
    }
   ],
   "source": [
    "DeerStudy"
   ]
  },
  {
   "cell_type": "markdown",
   "id": "9311c1ee-e60f-46b7-a56a-1e15095e59bc",
   "metadata": {},
   "source": [
    "We can look at just the top of this spreadsheet."
   ]
  },
  {
   "cell_type": "code",
   "execution_count": 28,
   "id": "10d529da-ef20-41b9-9ec7-908d2f6a4b69",
   "metadata": {},
   "outputs": [
    {
     "data": {
      "text/html": [
       "<table class=\"dataframe\">\n",
       "<caption>A data.frame: 6 × 2</caption>\n",
       "<thead>\n",
       "\t<tr><th></th><th scope=col>weight</th><th scope=col>species</th></tr>\n",
       "\t<tr><th></th><th scope=col>&lt;dbl&gt;</th><th scope=col>&lt;chr&gt;</th></tr>\n",
       "</thead>\n",
       "<tbody>\n",
       "\t<tr><th scope=row>1</th><td>54.85214</td><td>Deer</td></tr>\n",
       "\t<tr><th scope=row>2</th><td>53.98853</td><td>Deer</td></tr>\n",
       "\t<tr><th scope=row>3</th><td>53.03478</td><td>Deer</td></tr>\n",
       "\t<tr><th scope=row>4</th><td>65.98772</td><td>Deer</td></tr>\n",
       "\t<tr><th scope=row>5</th><td>68.78587</td><td>Deer</td></tr>\n",
       "\t<tr><th scope=row>6</th><td>61.21957</td><td>Deer</td></tr>\n",
       "</tbody>\n",
       "</table>\n"
      ],
      "text/latex": [
       "A data.frame: 6 × 2\n",
       "\\begin{tabular}{r|ll}\n",
       "  & weight & species\\\\\n",
       "  & <dbl> & <chr>\\\\\n",
       "\\hline\n",
       "\t1 & 54.85214 & Deer\\\\\n",
       "\t2 & 53.98853 & Deer\\\\\n",
       "\t3 & 53.03478 & Deer\\\\\n",
       "\t4 & 65.98772 & Deer\\\\\n",
       "\t5 & 68.78587 & Deer\\\\\n",
       "\t6 & 61.21957 & Deer\\\\\n",
       "\\end{tabular}\n"
      ],
      "text/markdown": [
       "\n",
       "A data.frame: 6 × 2\n",
       "\n",
       "| <!--/--> | weight &lt;dbl&gt; | species &lt;chr&gt; |\n",
       "|---|---|---|\n",
       "| 1 | 54.85214 | Deer |\n",
       "| 2 | 53.98853 | Deer |\n",
       "| 3 | 53.03478 | Deer |\n",
       "| 4 | 65.98772 | Deer |\n",
       "| 5 | 68.78587 | Deer |\n",
       "| 6 | 61.21957 | Deer |\n",
       "\n"
      ],
      "text/plain": [
       "  weight   species\n",
       "1 54.85214 Deer   \n",
       "2 53.98853 Deer   \n",
       "3 53.03478 Deer   \n",
       "4 65.98772 Deer   \n",
       "5 68.78587 Deer   \n",
       "6 61.21957 Deer   "
      ]
     },
     "metadata": {},
     "output_type": "display_data"
    }
   ],
   "source": [
    "head(DeerStudy)"
   ]
  },
  {
   "cell_type": "markdown",
   "id": "21dea1b3-09c3-40f1-91d0-896897eebb3b",
   "metadata": {},
   "source": [
    "We can also pick out specific variables to do stuff to. We use the '$' for this."
   ]
  },
  {
   "cell_type": "code",
   "execution_count": 30,
   "id": "eb8f3359-f073-4ba3-9ac2-0fa26f38e133",
   "metadata": {},
   "outputs": [
    {
     "data": {
      "text/html": [
       "<style>\n",
       ".list-inline {list-style: none; margin:0; padding: 0}\n",
       ".list-inline>li {display: inline-block}\n",
       ".list-inline>li:not(:last-child)::after {content: \"\\00b7\"; padding: 0 .5ex}\n",
       "</style>\n",
       "<ol class=list-inline><li>'Deer'</li><li>'Deer'</li><li>'Deer'</li><li>'Deer'</li><li>'Deer'</li><li>'Deer'</li><li>'Deer'</li><li>'Deer'</li><li>'Deer'</li><li>'Deer'</li><li>'Deer'</li><li>'Deer'</li><li>'Deer'</li><li>'Deer'</li><li>'Deer'</li><li>'Deer'</li><li>'Deer'</li><li>'Deer'</li><li>'Deer'</li><li>'Deer'</li><li>'Deer'</li><li>'Deer'</li><li>'Deer'</li><li>'Deer'</li><li>'Deer'</li><li>'Deer'</li><li>'Deer'</li><li>'Deer'</li><li>'Deer'</li><li>'Deer'</li><li>'Reindeer'</li><li>'Reindeer'</li><li>'Reindeer'</li><li>'Reindeer'</li><li>'Reindeer'</li><li>'Reindeer'</li><li>'Reindeer'</li><li>'Reindeer'</li><li>'Reindeer'</li><li>'Reindeer'</li><li>'Reindeer'</li><li>'Reindeer'</li><li>'Reindeer'</li><li>'Reindeer'</li><li>'Reindeer'</li><li>'Reindeer'</li><li>'Reindeer'</li><li>'Reindeer'</li><li>'Reindeer'</li><li>'Reindeer'</li><li>'Reindeer'</li><li>'Reindeer'</li><li>'Reindeer'</li><li>'Reindeer'</li><li>'Reindeer'</li><li>'Reindeer'</li><li>'Reindeer'</li><li>'Reindeer'</li><li>'Reindeer'</li><li>'Reindeer'</li></ol>\n"
      ],
      "text/latex": [
       "\\begin{enumerate*}\n",
       "\\item 'Deer'\n",
       "\\item 'Deer'\n",
       "\\item 'Deer'\n",
       "\\item 'Deer'\n",
       "\\item 'Deer'\n",
       "\\item 'Deer'\n",
       "\\item 'Deer'\n",
       "\\item 'Deer'\n",
       "\\item 'Deer'\n",
       "\\item 'Deer'\n",
       "\\item 'Deer'\n",
       "\\item 'Deer'\n",
       "\\item 'Deer'\n",
       "\\item 'Deer'\n",
       "\\item 'Deer'\n",
       "\\item 'Deer'\n",
       "\\item 'Deer'\n",
       "\\item 'Deer'\n",
       "\\item 'Deer'\n",
       "\\item 'Deer'\n",
       "\\item 'Deer'\n",
       "\\item 'Deer'\n",
       "\\item 'Deer'\n",
       "\\item 'Deer'\n",
       "\\item 'Deer'\n",
       "\\item 'Deer'\n",
       "\\item 'Deer'\n",
       "\\item 'Deer'\n",
       "\\item 'Deer'\n",
       "\\item 'Deer'\n",
       "\\item 'Reindeer'\n",
       "\\item 'Reindeer'\n",
       "\\item 'Reindeer'\n",
       "\\item 'Reindeer'\n",
       "\\item 'Reindeer'\n",
       "\\item 'Reindeer'\n",
       "\\item 'Reindeer'\n",
       "\\item 'Reindeer'\n",
       "\\item 'Reindeer'\n",
       "\\item 'Reindeer'\n",
       "\\item 'Reindeer'\n",
       "\\item 'Reindeer'\n",
       "\\item 'Reindeer'\n",
       "\\item 'Reindeer'\n",
       "\\item 'Reindeer'\n",
       "\\item 'Reindeer'\n",
       "\\item 'Reindeer'\n",
       "\\item 'Reindeer'\n",
       "\\item 'Reindeer'\n",
       "\\item 'Reindeer'\n",
       "\\item 'Reindeer'\n",
       "\\item 'Reindeer'\n",
       "\\item 'Reindeer'\n",
       "\\item 'Reindeer'\n",
       "\\item 'Reindeer'\n",
       "\\item 'Reindeer'\n",
       "\\item 'Reindeer'\n",
       "\\item 'Reindeer'\n",
       "\\item 'Reindeer'\n",
       "\\item 'Reindeer'\n",
       "\\end{enumerate*}\n"
      ],
      "text/markdown": [
       "1. 'Deer'\n",
       "2. 'Deer'\n",
       "3. 'Deer'\n",
       "4. 'Deer'\n",
       "5. 'Deer'\n",
       "6. 'Deer'\n",
       "7. 'Deer'\n",
       "8. 'Deer'\n",
       "9. 'Deer'\n",
       "10. 'Deer'\n",
       "11. 'Deer'\n",
       "12. 'Deer'\n",
       "13. 'Deer'\n",
       "14. 'Deer'\n",
       "15. 'Deer'\n",
       "16. 'Deer'\n",
       "17. 'Deer'\n",
       "18. 'Deer'\n",
       "19. 'Deer'\n",
       "20. 'Deer'\n",
       "21. 'Deer'\n",
       "22. 'Deer'\n",
       "23. 'Deer'\n",
       "24. 'Deer'\n",
       "25. 'Deer'\n",
       "26. 'Deer'\n",
       "27. 'Deer'\n",
       "28. 'Deer'\n",
       "29. 'Deer'\n",
       "30. 'Deer'\n",
       "31. 'Reindeer'\n",
       "32. 'Reindeer'\n",
       "33. 'Reindeer'\n",
       "34. 'Reindeer'\n",
       "35. 'Reindeer'\n",
       "36. 'Reindeer'\n",
       "37. 'Reindeer'\n",
       "38. 'Reindeer'\n",
       "39. 'Reindeer'\n",
       "40. 'Reindeer'\n",
       "41. 'Reindeer'\n",
       "42. 'Reindeer'\n",
       "43. 'Reindeer'\n",
       "44. 'Reindeer'\n",
       "45. 'Reindeer'\n",
       "46. 'Reindeer'\n",
       "47. 'Reindeer'\n",
       "48. 'Reindeer'\n",
       "49. 'Reindeer'\n",
       "50. 'Reindeer'\n",
       "51. 'Reindeer'\n",
       "52. 'Reindeer'\n",
       "53. 'Reindeer'\n",
       "54. 'Reindeer'\n",
       "55. 'Reindeer'\n",
       "56. 'Reindeer'\n",
       "57. 'Reindeer'\n",
       "58. 'Reindeer'\n",
       "59. 'Reindeer'\n",
       "60. 'Reindeer'\n",
       "\n",
       "\n"
      ],
      "text/plain": [
       " [1] \"Deer\"     \"Deer\"     \"Deer\"     \"Deer\"     \"Deer\"     \"Deer\"    \n",
       " [7] \"Deer\"     \"Deer\"     \"Deer\"     \"Deer\"     \"Deer\"     \"Deer\"    \n",
       "[13] \"Deer\"     \"Deer\"     \"Deer\"     \"Deer\"     \"Deer\"     \"Deer\"    \n",
       "[19] \"Deer\"     \"Deer\"     \"Deer\"     \"Deer\"     \"Deer\"     \"Deer\"    \n",
       "[25] \"Deer\"     \"Deer\"     \"Deer\"     \"Deer\"     \"Deer\"     \"Deer\"    \n",
       "[31] \"Reindeer\" \"Reindeer\" \"Reindeer\" \"Reindeer\" \"Reindeer\" \"Reindeer\"\n",
       "[37] \"Reindeer\" \"Reindeer\" \"Reindeer\" \"Reindeer\" \"Reindeer\" \"Reindeer\"\n",
       "[43] \"Reindeer\" \"Reindeer\" \"Reindeer\" \"Reindeer\" \"Reindeer\" \"Reindeer\"\n",
       "[49] \"Reindeer\" \"Reindeer\" \"Reindeer\" \"Reindeer\" \"Reindeer\" \"Reindeer\"\n",
       "[55] \"Reindeer\" \"Reindeer\" \"Reindeer\" \"Reindeer\" \"Reindeer\" \"Reindeer\""
      ]
     },
     "metadata": {},
     "output_type": "display_data"
    }
   ],
   "source": [
    "DeerStudy$species"
   ]
  },
  {
   "cell_type": "markdown",
   "id": "fdc5873a-36a7-4862-9640-213902b19a78",
   "metadata": {},
   "source": [
    "We can also save our spreadsheet."
   ]
  },
  {
   "cell_type": "code",
   "execution_count": 31,
   "id": "7f598794-26c4-4f25-a274-049e1b5e5838",
   "metadata": {},
   "outputs": [],
   "source": [
    "save(DeerStudy, file = \"DeerStudy.RData\")"
   ]
  },
  {
   "cell_type": "markdown",
   "id": "372cb28c-dcc1-470f-af05-d0cc651d1b5e",
   "metadata": {},
   "source": [
    "# Part 3 - Basic plotting"
   ]
  },
  {
   "cell_type": "markdown",
   "id": "183f8f30-0e1f-45de-9999-f9b31e06b85a",
   "metadata": {},
   "source": [
    "Plotting is very important. It allows you to see relationships between variables. There are different kinds of plots that are useful for different kinds of relationships."
   ]
  },
  {
   "cell_type": "markdown",
   "id": "a17a5ec9-1a42-4ba2-bc41-15632b56468f",
   "metadata": {},
   "source": [
    "If you want to plot something very quickly, base R (when you don't download any extra packages) has some great options."
   ]
  },
  {
   "cell_type": "markdown",
   "id": "4e3d1012-0552-4e5a-9ad6-668825b31d60",
   "metadata": {},
   "source": [
    "To visualize the relationship between two continuous variables, you can use a scatterplot..."
   ]
  },
  {
   "cell_type": "code",
   "execution_count": 34,
   "id": "6d67b8a1-6a17-4e49-854e-a063fcf50a6f",
   "metadata": {},
   "outputs": [
    {
     "data": {
      "image/png": "[encoded data removed]",
      "text/plain": [
       "plot without title"
      ]
     },
     "metadata": {
      "image/png": {
       "height": 420,
       "width": 420
      }
     },
     "output_type": "display_data"
    }
   ],
   "source": [
    "plot(DeerStudy$weight)"
   ]
  },
  {
   "cell_type": "code",
   "execution_count": 35,
   "id": "40ad0a16-c32f-4e96-b971-40cc6fb17f16",
   "metadata": {},
   "outputs": [
    {
     "data": {
      "image/png": "[encoded data removed]",
      "text/plain": [
       "plot without title"
      ]
     },
     "metadata": {
      "image/png": {
       "height": 420,
       "width": 420
      }
     },
     "output_type": "display_data"
    }
   ],
   "source": [
    "plot(a, c)"
   ]
  },
  {
   "cell_type": "code",
   "execution_count": 36,
   "id": "ec5f90d2-a176-427e-9898-5b783d2604b0",
   "metadata": {},
   "outputs": [
    {
     "data": {
      "image/png": "[encoded data removed]",
      "text/plain": [
       "plot without title"
      ]
     },
     "metadata": {
      "image/png": {
       "height": 420,
       "width": 420
      }
     },
     "output_type": "display_data"
    }
   ],
   "source": [
    "plot(c~a)"
   ]
  },
  {
   "cell_type": "markdown",
   "id": "2f4bd725-a55b-4052-bcbe-09e8c8e6b49b",
   "metadata": {},
   "source": [
    "... while boxplots tell you the relationship between categorical and continuous variables."
   ]
  },
  {
   "cell_type": "code",
   "execution_count": 37,
   "id": "544e77c0-1f05-4b15-9a01-97b2bfb32bd9",
   "metadata": {},
   "outputs": [
    {
     "data": {
      "image/png": "[encoded data removed]",
      "text/plain": [
       "plot without title"
      ]
     },
     "metadata": {
      "image/png": {
       "height": 420,
       "width": 420
      }
     },
     "output_type": "display_data"
    }
   ],
   "source": [
    "boxplot(weight~species)"
   ]
  },
  {
   "cell_type": "markdown",
   "id": "8a26b67a-2d29-4b1e-a4f7-a09c4fc99c95",
   "metadata": {},
   "source": [
    "The tilde \"~\" is important in R. It can be read to mean \"as a function of\", or \"distributed as\". You will see it again, and you will get used to it. This little syntactic difference is important, because it can allow us to make the same plot using different kinds of data structures. "
   ]
  },
  {
   "cell_type": "markdown",
   "id": "b69a4905-15de-4f77-8805-a12905fb2b9a",
   "metadata": {},
   "source": [
    "These plots are a bit ugly. Even base R can make beautiful plots, you can look at options to fancy plots up using the ?plot command."
   ]
  },
  {
   "cell_type": "markdown",
   "id": "45533359-55d9-494b-967b-d555b3ad2206",
   "metadata": {},
   "source": [
    "A lot of the R community uses a package called ggplot2 to plot. It is very well-documented online and has a lot of options for customization. Packages are like modules in Python. We'll talk a bit more about packages next class. For now, let's just install and load:"
   ]
  },
  {
   "cell_type": "code",
   "execution_count": 39,
   "id": "aabd77ff-acd8-409a-980d-67b97ef71e7d",
   "metadata": {
    "scrolled": true
   },
   "outputs": [
    {
     "name": "stderr",
     "output_type": "stream",
     "text": [
      "Installing package into ‘/usr/local/spark-3.5.2-bin-hadoop3/R/lib’\n",
      "(as ‘lib’ is unspecified)\n",
      "\n",
      "Installing package into ‘/usr/local/spark-3.5.2-bin-hadoop3/R/lib’\n",
      "(as ‘lib’ is unspecified)\n",
      "\n"
     ]
    }
   ],
   "source": [
    "install.packages(\"dplyr\")\n",
    "install.packages(\"ggplot2\")"
   ]
  },
  {
   "cell_type": "code",
   "execution_count": 42,
   "id": "f75d56cf-57b3-4789-b072-11a88be731f0",
   "metadata": {},
   "outputs": [],
   "source": [
    "library(dplyr)\n",
    "library(ggplot2)"
   ]
  },
  {
   "cell_type": "code",
   "execution_count": 43,
   "id": "a3a9cf28-9973-42ef-bfd7-a0c82dacb1e3",
   "metadata": {},
   "outputs": [
    {
     "data": {
      "image/png": "[encoded data removed]",
      "text/plain": [
       "plot without title"
      ]
     },
     "metadata": {
      "image/png": {
       "height": 420,
       "width": 420
      }
     },
     "output_type": "display_data"
    }
   ],
   "source": [
    "ggplot(DeerStudy,\n",
    "      aes(x=species, \n",
    "         y= weight))+\n",
    "    geom_boxplot()"
   ]
  },
  {
   "cell_type": "markdown",
   "id": "8d84d33e-8796-44de-96b1-4b752be7fc62",
   "metadata": {},
   "source": [
    "ggplot2 is a very modular way of plotting. You give commands in a sequential order, and the output of one command is passed to the command with a '+' operator."
   ]
  },
  {
   "cell_type": "markdown",
   "id": "910c3e21-f8d0-43aa-98aa-61c7882eef3c",
   "metadata": {},
   "source": [
    "The first block (before the + sign) specifies the data we want to use and how we want to use it. Using + signs, we can add extra options, for example the style of plot. You can really go crazy with the customizations!"
   ]
  },
  {
   "cell_type": "code",
   "execution_count": 48,
   "id": "316dd5c9-f806-4a97-b37e-7445f65b6d30",
   "metadata": {},
   "outputs": [
    {
     "data": {
      "image/png": "[encoded data removed]",
      "text/plain": [
       "plot without title"
      ]
     },
     "metadata": {
      "image/png": {
       "height": 420,
       "width": 420
      }
     },
     "output_type": "display_data"
    }
   ],
   "source": [
    "ggplot(DeerStudy, \n",
    "       aes(x=species, \n",
    "           y=weight,\n",
    "           fill = species))+\n",
    "    geom_boxplot()+\n",
    "    scale_fill_manual(values = c(\"gold\", \"darkgreen\"))+\n",
    "    labs(title = \"Deer Weight\", \n",
    "        x = \"species\",\n",
    "        y = \"Weight (kg)\")+\n",
    "    theme_minimal()\n",
    "    "
   ]
  },
  {
   "cell_type": "markdown",
   "id": "9295e5bb-1c71-4831-88f5-75d2166b2a01",
   "metadata": {},
   "source": [
    "There are several excellent resources for learning about ggplot2. Try to play around with them. For example: https://rstudio.github.io/cheatsheets/html/data-visualization.html"
   ]
  },
  {
   "cell_type": "markdown",
   "id": "3da06e77-614e-42da-b9cf-157a7fea72e3",
   "metadata": {},
   "source": [
    "You have encountered some basic plotting functions in R. You have learned the tilde operator. You have learned how to search the help documentation."
   ]
  },
  {
   "cell_type": "markdown",
   "id": "66fb8cb2-317b-4a2a-948d-8e449fc2651b",
   "metadata": {},
   "source": [
    "# Part 4 - Indexing and basic statistics"
   ]
  },
  {
   "cell_type": "markdown",
   "id": "50f48782-ca8d-435f-af20-6f01228c3a50",
   "metadata": {},
   "source": [
    "R is a statistical language, and so it has functions for running statistical operations and models."
   ]
  },
  {
   "cell_type": "markdown",
   "id": "3e477b15-ea0e-4643-8566-17f0a08d0dfc",
   "metadata": {},
   "source": [
    "We can calculate the average a of variable:"
   ]
  },
  {
   "cell_type": "code",
   "execution_count": 49,
   "id": "a6604c10-f68e-47fc-bed9-23bf9517abc6",
   "metadata": {},
   "outputs": [
    {
     "data": {
      "text/html": [
       "68.0407196935009"
      ],
      "text/latex": [
       "68.0407196935009"
      ],
      "text/markdown": [
       "68.0407196935009"
      ],
      "text/plain": [
       "[1] 68.04072"
      ]
     },
     "metadata": {},
     "output_type": "display_data"
    }
   ],
   "source": [
    "mean(weight)"
   ]
  },
  {
   "cell_type": "markdown",
   "id": "1d89257f-15ce-43ed-8f06-2d3d27661a62",
   "metadata": {},
   "source": [
    "Sometimes we are interested in sorting or carving our data up, and doing stats on a part of it. We can use indexing for this. For example, we might just want the average of each species in our study"
   ]
  },
  {
   "cell_type": "markdown",
   "id": "a56ecdb1-3f3e-466a-ba70-f9c324648a89",
   "metadata": {},
   "source": [
    "Let's look at how to extract weights for either just the Deers or the Reindeers in our study"
   ]
  },
  {
   "cell_type": "code",
   "execution_count": 50,
   "id": "9facde6b-0bcf-4f3f-8c63-21dd37d7b64d",
   "metadata": {},
   "outputs": [
    {
     "data": {
      "text/html": [
       "<style>\n",
       ".list-inline {list-style: none; margin:0; padding: 0}\n",
       ".list-inline>li {display: inline-block}\n",
       ".list-inline>li:not(:last-child)::after {content: \"\\00b7\"; padding: 0 .5ex}\n",
       "</style>\n",
       "<ol class=list-inline><li>54.8521350760323</li><li>53.9885264673507</li><li>53.0347807857985</li><li>65.9877165458782</li><li>68.7858685611312</li><li>61.2195709148378</li><li>44.3796864040907</li><li>56.8416387366526</li><li>54.4834107056566</li><li>54.136555494005</li><li>71.5128567704249</li><li>64.1851886296641</li><li>57.508946222652</li><li>66.9418011240351</li><li>75.1806518594586</li><li>56.3411396388721</li><li>55.8272583225298</li><li>58.2987595262351</li><li>56.7144115387784</li><li>67.7483987621476</li><li>27.973829127766</li><li>53.315238421582</li><li>47.9235239745359</li><li>64.5778020651152</li><li>62.4214798927391</li><li>44.9082428914857</li><li>62.7903762319941</li><li>54.3965384358984</li><li>50.4112012819707</li><li>52.8475976643069</li></ol>\n"
      ],
      "text/latex": [
       "\\begin{enumerate*}\n",
       "\\item 54.8521350760323\n",
       "\\item 53.9885264673507\n",
       "\\item 53.0347807857985\n",
       "\\item 65.9877165458782\n",
       "\\item 68.7858685611312\n",
       "\\item 61.2195709148378\n",
       "\\item 44.3796864040907\n",
       "\\item 56.8416387366526\n",
       "\\item 54.4834107056566\n",
       "\\item 54.136555494005\n",
       "\\item 71.5128567704249\n",
       "\\item 64.1851886296641\n",
       "\\item 57.508946222652\n",
       "\\item 66.9418011240351\n",
       "\\item 75.1806518594586\n",
       "\\item 56.3411396388721\n",
       "\\item 55.8272583225298\n",
       "\\item 58.2987595262351\n",
       "\\item 56.7144115387784\n",
       "\\item 67.7483987621476\n",
       "\\item 27.973829127766\n",
       "\\item 53.315238421582\n",
       "\\item 47.9235239745359\n",
       "\\item 64.5778020651152\n",
       "\\item 62.4214798927391\n",
       "\\item 44.9082428914857\n",
       "\\item 62.7903762319941\n",
       "\\item 54.3965384358984\n",
       "\\item 50.4112012819707\n",
       "\\item 52.8475976643069\n",
       "\\end{enumerate*}\n"
      ],
      "text/markdown": [
       "1. 54.8521350760323\n",
       "2. 53.9885264673507\n",
       "3. 53.0347807857985\n",
       "4. 65.9877165458782\n",
       "5. 68.7858685611312\n",
       "6. 61.2195709148378\n",
       "7. 44.3796864040907\n",
       "8. 56.8416387366526\n",
       "9. 54.4834107056566\n",
       "10. 54.136555494005\n",
       "11. 71.5128567704249\n",
       "12. 64.1851886296641\n",
       "13. 57.508946222652\n",
       "14. 66.9418011240351\n",
       "15. 75.1806518594586\n",
       "16. 56.3411396388721\n",
       "17. 55.8272583225298\n",
       "18. 58.2987595262351\n",
       "19. 56.7144115387784\n",
       "20. 67.7483987621476\n",
       "21. 27.973829127766\n",
       "22. 53.315238421582\n",
       "23. 47.9235239745359\n",
       "24. 64.5778020651152\n",
       "25. 62.4214798927391\n",
       "26. 44.9082428914857\n",
       "27. 62.7903762319941\n",
       "28. 54.3965384358984\n",
       "29. 50.4112012819707\n",
       "30. 52.8475976643069\n",
       "\n",
       "\n"
      ],
      "text/plain": [
       " [1] 54.85214 53.98853 53.03478 65.98772 68.78587 61.21957 44.37969 56.84164\n",
       " [9] 54.48341 54.13656 71.51286 64.18519 57.50895 66.94180 75.18065 56.34114\n",
       "[17] 55.82726 58.29876 56.71441 67.74840 27.97383 53.31524 47.92352 64.57780\n",
       "[25] 62.42148 44.90824 62.79038 54.39654 50.41120 52.84760"
      ]
     },
     "metadata": {},
     "output_type": "display_data"
    }
   ],
   "source": [
    "weight[species == \"Deer\"]"
   ]
  },
  {
   "cell_type": "code",
   "execution_count": 51,
   "id": "0e1c94c2-f61e-43c8-8066-db6a80b77ae0",
   "metadata": {},
   "outputs": [
    {
     "data": {
      "text/html": [
       "<style>\n",
       ".list-inline {list-style: none; margin:0; padding: 0}\n",
       ".list-inline>li {display: inline-block}\n",
       ".list-inline>li:not(:last-child)::after {content: \"\\00b7\"; padding: 0 .5ex}\n",
       "</style>\n",
       "<ol class=list-inline><li>70.5478282843368</li><li>84.059308543149</li><li>77.889641932193</li><li>79.8333639151656</li><li>74.256633459748</li><li>68.171402966996</li><li>78.4694921516359</li><li>76.4189628889442</li><li>80.6710325927903</li><li>73.5792979228884</li><li>88.6871677737014</li><li>91.0709313771609</li><li>83.6493461335235</li><li>74.1048487956873</li><li>85.2882242776868</li><li>75.5738451593876</li><li>95.7511807727797</li><li>86.3119629036662</li><li>67.9970831771379</li><li>68.4449982824621</li><li>79.2892731026078</li><li>63.1940787116325</li><li>90.2705046508321</li><li>95.7407552598769</li><li>71.6887482860242</li><li>73.7554739315787</li><li>73.3194638422904</li><li>68.4314713742871</li><li>82.9155209141458</li><li>83.526206152114</li></ol>\n"
      ],
      "text/latex": [
       "\\begin{enumerate*}\n",
       "\\item 70.5478282843368\n",
       "\\item 84.059308543149\n",
       "\\item 77.889641932193\n",
       "\\item 79.8333639151656\n",
       "\\item 74.256633459748\n",
       "\\item 68.171402966996\n",
       "\\item 78.4694921516359\n",
       "\\item 76.4189628889442\n",
       "\\item 80.6710325927903\n",
       "\\item 73.5792979228884\n",
       "\\item 88.6871677737014\n",
       "\\item 91.0709313771609\n",
       "\\item 83.6493461335235\n",
       "\\item 74.1048487956873\n",
       "\\item 85.2882242776868\n",
       "\\item 75.5738451593876\n",
       "\\item 95.7511807727797\n",
       "\\item 86.3119629036662\n",
       "\\item 67.9970831771379\n",
       "\\item 68.4449982824621\n",
       "\\item 79.2892731026078\n",
       "\\item 63.1940787116325\n",
       "\\item 90.2705046508321\n",
       "\\item 95.7407552598769\n",
       "\\item 71.6887482860242\n",
       "\\item 73.7554739315787\n",
       "\\item 73.3194638422904\n",
       "\\item 68.4314713742871\n",
       "\\item 82.9155209141458\n",
       "\\item 83.526206152114\n",
       "\\end{enumerate*}\n"
      ],
      "text/markdown": [
       "1. 70.5478282843368\n",
       "2. 84.059308543149\n",
       "3. 77.889641932193\n",
       "4. 79.8333639151656\n",
       "5. 74.256633459748\n",
       "6. 68.171402966996\n",
       "7. 78.4694921516359\n",
       "8. 76.4189628889442\n",
       "9. 80.6710325927903\n",
       "10. 73.5792979228884\n",
       "11. 88.6871677737014\n",
       "12. 91.0709313771609\n",
       "13. 83.6493461335235\n",
       "14. 74.1048487956873\n",
       "15. 85.2882242776868\n",
       "16. 75.5738451593876\n",
       "17. 95.7511807727797\n",
       "18. 86.3119629036662\n",
       "19. 67.9970831771379\n",
       "20. 68.4449982824621\n",
       "21. 79.2892731026078\n",
       "22. 63.1940787116325\n",
       "23. 90.2705046508321\n",
       "24. 95.7407552598769\n",
       "25. 71.6887482860242\n",
       "26. 73.7554739315787\n",
       "27. 73.3194638422904\n",
       "28. 68.4314713742871\n",
       "29. 82.9155209141458\n",
       "30. 83.526206152114\n",
       "\n",
       "\n"
      ],
      "text/plain": [
       " [1] 70.54783 84.05931 77.88964 79.83336 74.25663 68.17140 78.46949 76.41896\n",
       " [9] 80.67103 73.57930 88.68717 91.07093 83.64935 74.10485 85.28822 75.57385\n",
       "[17] 95.75118 86.31196 67.99708 68.44500 79.28927 63.19408 90.27050 95.74076\n",
       "[25] 71.68875 73.75547 73.31946 68.43147 82.91552 83.52621"
      ]
     },
     "metadata": {},
     "output_type": "display_data"
    }
   ],
   "source": [
    "weight[species == \"Reindeer\"]"
   ]
  },
  {
   "cell_type": "markdown",
   "id": "57b547cd-5282-4214-a1a2-297ad830097f",
   "metadata": {},
   "source": [
    "...so that we can compare the average weight"
   ]
  },
  {
   "cell_type": "code",
   "execution_count": 52,
   "id": "9990886d-6ac5-4e29-85de-747d0ad4c3c1",
   "metadata": {},
   "outputs": [
    {
     "data": {
      "text/html": [
       "57.3178377357875"
      ],
      "text/latex": [
       "57.3178377357875"
      ],
      "text/markdown": [
       "57.3178377357875"
      ],
      "text/plain": [
       "[1] 57.31784"
      ]
     },
     "metadata": {},
     "output_type": "display_data"
    }
   ],
   "source": [
    "mean(weight[species == \"Deer\"])"
   ]
  },
  {
   "cell_type": "code",
   "execution_count": 53,
   "id": "6689c4fe-896a-4e30-b11c-6956925256bf",
   "metadata": {},
   "outputs": [
    {
     "data": {
      "text/html": [
       "78.7636016512143"
      ],
      "text/latex": [
       "78.7636016512143"
      ],
      "text/markdown": [
       "78.7636016512143"
      ],
      "text/plain": [
       "[1] 78.7636"
      ]
     },
     "metadata": {},
     "output_type": "display_data"
    }
   ],
   "source": [
    "mean(weight[species == \"Reindeer\"])"
   ]
  },
  {
   "cell_type": "markdown",
   "id": "9f166575-3af4-4bff-9631-9916303268b5",
   "metadata": {},
   "source": [
    "Indexing is incredibly useful. You need to know it. But it is awkward for data frames. We can make a table instead using some basic data manipulation functions. This new table is a new data frame"
   ]
  },
  {
   "cell_type": "code",
   "execution_count": 55,
   "id": "5cf24b76-ad38-4558-b685-1f0abb95f064",
   "metadata": {},
   "outputs": [],
   "source": [
    "meanTable <- DeerStudy %>%\n",
    "    group_by(species) %>%\n",
    "    summarize(MeanWeight = mean(weight))"
   ]
  },
  {
   "cell_type": "code",
   "execution_count": 56,
   "id": "91510085-e3e0-4206-8b29-6ebe57db237f",
   "metadata": {},
   "outputs": [
    {
     "data": {
      "text/html": [
       "<table class=\"dataframe\">\n",
       "<caption>A tibble: 2 × 2</caption>\n",
       "<thead>\n",
       "\t<tr><th scope=col>species</th><th scope=col>MeanWeight</th></tr>\n",
       "\t<tr><th scope=col>&lt;chr&gt;</th><th scope=col>&lt;dbl&gt;</th></tr>\n",
       "</thead>\n",
       "<tbody>\n",
       "\t<tr><td>Deer    </td><td>57.31784</td></tr>\n",
       "\t<tr><td>Reindeer</td><td>78.76360</td></tr>\n",
       "</tbody>\n",
       "</table>\n"
      ],
      "text/latex": [
       "A tibble: 2 × 2\n",
       "\\begin{tabular}{ll}\n",
       " species & MeanWeight\\\\\n",
       " <chr> & <dbl>\\\\\n",
       "\\hline\n",
       "\t Deer     & 57.31784\\\\\n",
       "\t Reindeer & 78.76360\\\\\n",
       "\\end{tabular}\n"
      ],
      "text/markdown": [
       "\n",
       "A tibble: 2 × 2\n",
       "\n",
       "| species &lt;chr&gt; | MeanWeight &lt;dbl&gt; |\n",
       "|---|---|\n",
       "| Deer     | 57.31784 |\n",
       "| Reindeer | 78.76360 |\n",
       "\n"
      ],
      "text/plain": [
       "  species  MeanWeight\n",
       "1 Deer     57.31784  \n",
       "2 Reindeer 78.76360  "
      ]
     },
     "metadata": {},
     "output_type": "display_data"
    }
   ],
   "source": [
    "meanTable"
   ]
  },
  {
   "cell_type": "markdown",
   "id": "f31aed63-90b9-497f-8baf-e034626dff8c",
   "metadata": {},
   "source": [
    "This is the exact same logic as with the plotting. First you define the data you are working on, then you sequentially operate on it. This is called \"piping\"."
   ]
  },
  {
   "cell_type": "markdown",
   "id": "cd8557f1-fb50-4db7-a6cc-834c89d809dd",
   "metadata": {},
   "source": [
    "The mean is only one statistic. We can also look at other statistics. How about the median?"
   ]
  },
  {
   "cell_type": "code",
   "execution_count": 57,
   "id": "7184cb98-8833-4e9b-945d-73c6276a1e16",
   "metadata": {},
   "outputs": [],
   "source": [
    "medianTable <- DeerStudy %>%\n",
    "    group_by(species) %>%\n",
    "    summarize(MedianWeight = median(weight))"
   ]
  },
  {
   "cell_type": "code",
   "execution_count": 58,
   "id": "edbc44e9-6df0-4ebe-8e99-f7afa84b17ea",
   "metadata": {},
   "outputs": [
    {
     "data": {
      "text/html": [
       "<table class=\"dataframe\">\n",
       "<caption>A tibble: 2 × 2</caption>\n",
       "<thead>\n",
       "\t<tr><th scope=col>species</th><th scope=col>MedianWeight</th></tr>\n",
       "\t<tr><th scope=col>&lt;chr&gt;</th><th scope=col>&lt;dbl&gt;</th></tr>\n",
       "</thead>\n",
       "<tbody>\n",
       "\t<tr><td>Deer    </td><td>56.52778</td></tr>\n",
       "\t<tr><td>Reindeer</td><td>78.17957</td></tr>\n",
       "</tbody>\n",
       "</table>\n"
      ],
      "text/latex": [
       "A tibble: 2 × 2\n",
       "\\begin{tabular}{ll}\n",
       " species & MedianWeight\\\\\n",
       " <chr> & <dbl>\\\\\n",
       "\\hline\n",
       "\t Deer     & 56.52778\\\\\n",
       "\t Reindeer & 78.17957\\\\\n",
       "\\end{tabular}\n"
      ],
      "text/markdown": [
       "\n",
       "A tibble: 2 × 2\n",
       "\n",
       "| species &lt;chr&gt; | MedianWeight &lt;dbl&gt; |\n",
       "|---|---|\n",
       "| Deer     | 56.52778 |\n",
       "| Reindeer | 78.17957 |\n",
       "\n"
      ],
      "text/plain": [
       "  species  MedianWeight\n",
       "1 Deer     56.52778    \n",
       "2 Reindeer 78.17957    "
      ]
     },
     "metadata": {},
     "output_type": "display_data"
    }
   ],
   "source": [
    "medianTable"
   ]
  },
  {
   "cell_type": "markdown",
   "id": "d83c236f-8520-4227-aa14-459142bd1c0a",
   "metadata": {},
   "source": [
    "We can also look at the standard deviation."
   ]
  },
  {
   "cell_type": "code",
   "execution_count": 59,
   "id": "a56f9cc9-7436-4384-8568-5d171d4b3efb",
   "metadata": {},
   "outputs": [],
   "source": [
    "sdTable <- DeerStudy %>%\n",
    "    group_by(species) %>%\n",
    "    summarize(SDWeight = sd(weight))"
   ]
  },
  {
   "cell_type": "code",
   "execution_count": 60,
   "id": "36645a7d-b6fc-41e8-bacc-3e748ab937e0",
   "metadata": {},
   "outputs": [
    {
     "data": {
      "text/html": [
       "<table class=\"dataframe\">\n",
       "<caption>A tibble: 2 × 2</caption>\n",
       "<thead>\n",
       "\t<tr><th scope=col>species</th><th scope=col>SDWeight</th></tr>\n",
       "\t<tr><th scope=col>&lt;chr&gt;</th><th scope=col>&lt;dbl&gt;</th></tr>\n",
       "</thead>\n",
       "<tbody>\n",
       "\t<tr><td>Deer    </td><td>9.323961</td></tr>\n",
       "\t<tr><td>Reindeer</td><td>8.503628</td></tr>\n",
       "</tbody>\n",
       "</table>\n"
      ],
      "text/latex": [
       "A tibble: 2 × 2\n",
       "\\begin{tabular}{ll}\n",
       " species & SDWeight\\\\\n",
       " <chr> & <dbl>\\\\\n",
       "\\hline\n",
       "\t Deer     & 9.323961\\\\\n",
       "\t Reindeer & 8.503628\\\\\n",
       "\\end{tabular}\n"
      ],
      "text/markdown": [
       "\n",
       "A tibble: 2 × 2\n",
       "\n",
       "| species &lt;chr&gt; | SDWeight &lt;dbl&gt; |\n",
       "|---|---|\n",
       "| Deer     | 9.323961 |\n",
       "| Reindeer | 8.503628 |\n",
       "\n"
      ],
      "text/plain": [
       "  species  SDWeight\n",
       "1 Deer     9.323961\n",
       "2 Reindeer 8.503628"
      ]
     },
     "metadata": {},
     "output_type": "display_data"
    }
   ],
   "source": [
    "sdTable"
   ]
  },
  {
   "cell_type": "markdown",
   "id": "7d9851c2-683b-4162-8228-8ca6df4e8645",
   "metadata": {},
   "source": [
    "Now we are almost ready to do some statistics. We will cover statistical concepts in the next lecture. BUt as a teaser, let's look at a quick comparison, and see if these means are really different."
   ]
  },
  {
   "cell_type": "code",
   "execution_count": null,
   "id": "34100bd1-d979-4fd9-a31b-c552ab8cd97c",
   "metadata": {},
   "outputs": [],
   "source": []
  },
  {
   "cell_type": "markdown",
   "id": "504a0793-73b2-481f-95ec-1f32b062a737",
   "metadata": {},
   "source": [
    "You have learned about indexing. You have learned about basic statistical functions. You have learned how to generate summary tables. You have run your first statistical simulation, and your first hypothesis test."
   ]
  }
 ],
 "metadata": {
  "kernelspec": {
   "display_name": "R",
   "language": "R",
   "name": "ir"
  },
  "language_info": {
   "codemirror_mode": "r",
   "file_extension": ".r",
   "mimetype": "text/x-r-source",
   "name": "R",
   "pygments_lexer": "r",
   "version": "4.4.1"
  }
 },
 "nbformat": 4,
 "nbformat_minor": 5
}
