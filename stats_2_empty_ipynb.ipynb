{
 "cells": [
  {
   "cell_type": "markdown",
   "id": "d3927537-1b77-4eb6-857e-c0f544f42808",
   "metadata": {},
   "source": [
    "# Exercise 1 - introducing t-test "
   ]
  },
  {
   "cell_type": "markdown",
   "id": "6745e103-4594-4df5-85e9-9c3a63a4a105",
   "metadata": {},
   "source": [
    "You have already learned about the the command line, scripts, and functions. R has one more level of organisation. Packages. Packages are sets of functions. We have already used one of these. Packages can also include data. We are now going to install a package, load it, and use it just for it's data. \n",
    "\n",
    "The package level is what makes R so powerful as a an open source language. you can make a package, get it reviewed, and have it stored on CRAN (Comprehensive R Archive Network) where everyone can download it. This means that R is an active environment for the development of statistical methods and theory.\n",
    "\n",
    "Description of the package here: https://simplystatistics.org/2018/01/22/the-dslabs-package-provides-datasets-for-teaching-data-science/"
   ]
  },
  {
   "cell_type": "code",
   "execution_count": 1,
   "id": "2e87183f-20b4-4c3b-9452-4e3305b8fd5e",
   "metadata": {},
   "outputs": [
    {
     "name": "stderr",
     "output_type": "stream",
     "text": [
      "Installing package into ‘/usr/local/spark-3.5.2-bin-hadoop3/R/lib’\n",
      "(as ‘lib’ is unspecified)\n",
      "\n",
      "Installing package into ‘/usr/local/spark-3.5.2-bin-hadoop3/R/lib’\n",
      "(as ‘lib’ is unspecified)\n",
      "\n",
      "Installing package into ‘/usr/local/spark-3.5.2-bin-hadoop3/R/lib’\n",
      "(as ‘lib’ is unspecified)\n",
      "\n"
     ]
    }
   ],
   "source": [
    "install.packages('dplyr')\n",
    "install.packages('ggplot2')\n",
    "install.packages('dslabs')\n"
   ]
  },
  {
   "cell_type": "code",
   "execution_count": 2,
   "id": "e7b9c27b-27c9-40cc-868a-b77e64a22d74",
   "metadata": {},
   "outputs": [
    {
     "name": "stderr",
     "output_type": "stream",
     "text": [
      "\n",
      "Attaching package: ‘dplyr’\n",
      "\n",
      "\n",
      "The following objects are masked from ‘package:stats’:\n",
      "\n",
      "    filter, lag\n",
      "\n",
      "\n",
      "The following objects are masked from ‘package:base’:\n",
      "\n",
      "    intersect, setdiff, setequal, union\n",
      "\n",
      "\n"
     ]
    }
   ],
   "source": [
    "library(dslabs)\n",
    "library(dplyr)\n",
    "library(ggplot2)"
   ]
  },
  {
   "cell_type": "markdown",
   "id": "50106507-c673-47f6-b062-e71041497c98",
   "metadata": {},
   "source": [
    "Let's conduct an analysis of the height data - self-reported heights in inches"
   ]
  },
  {
   "cell_type": "code",
   "execution_count": 3,
   "id": "def34e2b-2e8c-4db6-8e6a-7ea62570d126",
   "metadata": {},
   "outputs": [],
   "source": [
    "data('heights')"
   ]
  },
  {
   "cell_type": "markdown",
   "id": "666794e2-67fb-4e14-8397-6664cba7c555",
   "metadata": {},
   "source": [
    "This gives us a data frame."
   ]
  },
  {
   "cell_type": "code",
   "execution_count": 5,
   "id": "de6c4c81-a690-494d-bb18-0c7be24c8eb3",
   "metadata": {},
   "outputs": [
    {
     "data": {
      "text/html": [
       "<table class=\"dataframe\">\n",
       "<caption>A data.frame: 6 × 2</caption>\n",
       "<thead>\n",
       "\t<tr><th></th><th scope=col>sex</th><th scope=col>height</th></tr>\n",
       "\t<tr><th></th><th scope=col>&lt;fct&gt;</th><th scope=col>&lt;dbl&gt;</th></tr>\n",
       "</thead>\n",
       "<tbody>\n",
       "\t<tr><th scope=row>1</th><td>Male  </td><td>75</td></tr>\n",
       "\t<tr><th scope=row>2</th><td>Male  </td><td>70</td></tr>\n",
       "\t<tr><th scope=row>3</th><td>Male  </td><td>68</td></tr>\n",
       "\t<tr><th scope=row>4</th><td>Male  </td><td>74</td></tr>\n",
       "\t<tr><th scope=row>5</th><td>Male  </td><td>61</td></tr>\n",
       "\t<tr><th scope=row>6</th><td>Female</td><td>65</td></tr>\n",
       "</tbody>\n",
       "</table>\n"
      ],
      "text/latex": [
       "A data.frame: 6 × 2\n",
       "\\begin{tabular}{r|ll}\n",
       "  & sex & height\\\\\n",
       "  & <fct> & <dbl>\\\\\n",
       "\\hline\n",
       "\t1 & Male   & 75\\\\\n",
       "\t2 & Male   & 70\\\\\n",
       "\t3 & Male   & 68\\\\\n",
       "\t4 & Male   & 74\\\\\n",
       "\t5 & Male   & 61\\\\\n",
       "\t6 & Female & 65\\\\\n",
       "\\end{tabular}\n"
      ],
      "text/markdown": [
       "\n",
       "A data.frame: 6 × 2\n",
       "\n",
       "| <!--/--> | sex &lt;fct&gt; | height &lt;dbl&gt; |\n",
       "|---|---|---|\n",
       "| 1 | Male   | 75 |\n",
       "| 2 | Male   | 70 |\n",
       "| 3 | Male   | 68 |\n",
       "| 4 | Male   | 74 |\n",
       "| 5 | Male   | 61 |\n",
       "| 6 | Female | 65 |\n",
       "\n"
      ],
      "text/plain": [
       "  sex    height\n",
       "1 Male   75    \n",
       "2 Male   70    \n",
       "3 Male   68    \n",
       "4 Male   74    \n",
       "5 Male   61    \n",
       "6 Female 65    "
      ]
     },
     "metadata": {},
     "output_type": "display_data"
    },
    {
     "name": "stdout",
     "output_type": "stream",
     "text": [
      "'data.frame':\t1050 obs. of  2 variables:\n",
      " $ sex   : Factor w/ 2 levels \"Female\",\"Male\": 2 2 2 2 2 1 1 1 1 2 ...\n",
      " $ height: num  75 70 68 74 61 65 66 62 66 67 ...\n"
     ]
    }
   ],
   "source": [
    "head(heights)\n",
    "str(heights)"
   ]
  },
  {
   "cell_type": "markdown",
   "id": "8fbeea90-5b5a-4884-b3b6-a522d9e33947",
   "metadata": {},
   "source": [
    "First let's make frequency distributions for the women and men seperately.\n",
    "\n",
    "You can make some quick and dirty separate plots using a basic function and indexing..."
   ]
  },
  {
   "cell_type": "code",
   "execution_count": 8,
   "id": "52dbe38a-badb-4c62-a9e4-76d99bd6ca71",
   "metadata": {},
   "outputs": [
    {
     "data": {
      "image/png": "[encoded data removed]",
      "text/plain": [
       "Plot with title “Histogram of heights$height[heights$sex == \"Male\"]”"
      ]
     },
     "metadata": {
      "image/png": {
       "height": 420,
       "width": 420
      }
     },
     "output_type": "display_data"
    },
    {
     "data": {
      "image/png": "[encoded data removed]",
      "text/plain": [
       "Plot with title “Histogram of heights$height[heights$sex == \"Female\"]”"
      ]
     },
     "metadata": {
      "image/png": {
       "height": 420,
       "width": 420
      }
     },
     "output_type": "display_data"
    }
   ],
   "source": [
    "hist(heights$height[heights$sex == \"Male\"])\n",
    "hist(heights$height[heights$sex == \"Female\"])"
   ]
  },
  {
   "cell_type": "markdown",
   "id": "05022b95-27fb-42d6-a694-2399a105f0e4",
   "metadata": {},
   "source": [
    "... though it would be better if we could see all the data together on the same histogram"
   ]
  },
  {
   "cell_type": "code",
   "execution_count": 11,
   "id": "099c6b7c-96c2-44f7-af89-6e47d33bb9cd",
   "metadata": {},
   "outputs": [
    {
     "name": "stderr",
     "output_type": "stream",
     "text": [
      "\u001b[1m\u001b[22m`stat_bin()` using `bins = 30`. Pick better value with `binwidth`.\n"
     ]
    },
    {
     "data": {
      "image/png": "[encoded data removed]",
      "text/plain": [
       "plot without title"
      ]
     },
     "metadata": {
      "image/png": {
       "height": 420,
       "width": 420
      }
     },
     "output_type": "display_data"
    }
   ],
   "source": [
    "ggplot(heights,\n",
    "      aes(x=height,\n",
    "         fill=sex)) +\n",
    "geom_histogram(position = 'identity',\n",
    "              alpha=0.5)"
   ]
  },
  {
   "cell_type": "markdown",
   "id": "c3457cc6-bd01-462d-a386-f6731ed824fa",
   "metadata": {},
   "source": [
    "Let's look at the summary statistics - you can actually make them in 1 table!"
   ]
  },
  {
   "cell_type": "code",
   "execution_count": 12,
   "id": "816cca71-de49-4ee9-8899-d348b85dd2c8",
   "metadata": {},
   "outputs": [],
   "source": [
    "stats_table <- heights %>%\n",
    "    group_by(sex) %>%\n",
    "    summarise(mean_height = mean(height),\n",
    "              median_height = median(height),\n",
    "              sd_height = sd(height))"
   ]
  },
  {
   "cell_type": "code",
   "execution_count": 13,
   "id": "44d561b5-432a-4cbf-b953-6c323b04be7f",
   "metadata": {},
   "outputs": [
    {
     "data": {
      "text/html": [
       "<table class=\"dataframe\">\n",
       "<caption>A tibble: 2 × 4</caption>\n",
       "<thead>\n",
       "\t<tr><th scope=col>sex</th><th scope=col>mean_height</th><th scope=col>median_height</th><th scope=col>sd_height</th></tr>\n",
       "\t<tr><th scope=col>&lt;fct&gt;</th><th scope=col>&lt;dbl&gt;</th><th scope=col>&lt;dbl&gt;</th><th scope=col>&lt;dbl&gt;</th></tr>\n",
       "</thead>\n",
       "<tbody>\n",
       "\t<tr><td>Female</td><td>64.93942</td><td>64.98031</td><td>3.760656</td></tr>\n",
       "\t<tr><td>Male  </td><td>69.31475</td><td>69.00000</td><td>3.611024</td></tr>\n",
       "</tbody>\n",
       "</table>\n"
      ],
      "text/latex": [
       "A tibble: 2 × 4\n",
       "\\begin{tabular}{llll}\n",
       " sex & mean\\_height & median\\_height & sd\\_height\\\\\n",
       " <fct> & <dbl> & <dbl> & <dbl>\\\\\n",
       "\\hline\n",
       "\t Female & 64.93942 & 64.98031 & 3.760656\\\\\n",
       "\t Male   & 69.31475 & 69.00000 & 3.611024\\\\\n",
       "\\end{tabular}\n"
      ],
      "text/markdown": [
       "\n",
       "A tibble: 2 × 4\n",
       "\n",
       "| sex &lt;fct&gt; | mean_height &lt;dbl&gt; | median_height &lt;dbl&gt; | sd_height &lt;dbl&gt; |\n",
       "|---|---|---|---|\n",
       "| Female | 64.93942 | 64.98031 | 3.760656 |\n",
       "| Male   | 69.31475 | 69.00000 | 3.611024 |\n",
       "\n"
      ],
      "text/plain": [
       "  sex    mean_height median_height sd_height\n",
       "1 Female 64.93942    64.98031      3.760656 \n",
       "2 Male   69.31475    69.00000      3.611024 "
      ]
     },
     "metadata": {},
     "output_type": "display_data"
    }
   ],
   "source": [
    "stats_table"
   ]
  },
  {
   "cell_type": "code",
   "execution_count": 14,
   "id": "6e781035-5bf1-49da-b5fd-68f46dec4f76",
   "metadata": {},
   "outputs": [
    {
     "data": {
      "text/plain": [
       "\n",
       "\tShapiro-Wilk normality test\n",
       "\n",
       "data:  heights$height[heights$sex == \"Male\"]\n",
       "W = 0.96374, p-value = 2.623e-13\n"
      ]
     },
     "metadata": {},
     "output_type": "display_data"
    }
   ],
   "source": [
    "shapiro.test(heights$height[heights$sex=='Male'])"
   ]
  },
  {
   "cell_type": "code",
   "execution_count": 15,
   "id": "95fa193e-a118-4145-a4d3-3af6d4aa2b07",
   "metadata": {},
   "outputs": [
    {
     "data": {
      "text/plain": [
       "\n",
       "\tShapiro-Wilk normality test\n",
       "\n",
       "data:  heights$height[heights$sex == \"Female\"]\n",
       "W = 0.94255, p-value = 4.671e-08\n"
      ]
     },
     "metadata": {},
     "output_type": "display_data"
    }
   ],
   "source": [
    "shapiro.test(heights$height[heights$sex=='Female'])"
   ]
  },
  {
   "cell_type": "code",
   "execution_count": null,
   "id": "2e25aa67-befb-4dac-9990-2fd5d8c52ef5",
   "metadata": {},
   "outputs": [],
   "source": []
  },
  {
   "cell_type": "markdown",
   "id": "fbb26732-64cf-4083-843f-2a5bd0c67c23",
   "metadata": {},
   "source": [
    "Lets try visualising the data in terms of probability distributions"
   ]
  },
  {
   "cell_type": "code",
   "execution_count": 16,
   "id": "1cb5ec35-c91c-4b6d-8fea-bb5c233e62c1",
   "metadata": {},
   "outputs": [
    {
     "data": {
      "image/png": "[encoded data removed]",
      "text/plain": [
       "plot without title"
      ]
     },
     "metadata": {
      "image/png": {
       "height": 420,
       "width": 420
      }
     },
     "output_type": "display_data"
    }
   ],
   "source": [
    "ggplot(heights,\n",
    "      aes(x=height,\n",
    "         fill=sex)) +\n",
    "    geom_density(alpha=0.5)"
   ]
  },
  {
   "cell_type": "markdown",
   "id": "645a80ee-dadf-4726-9e53-214382f49997",
   "metadata": {},
   "source": [
    "Now we are ready to run a hypothesis test. Are men taller than women? What sort of t test should we do?"
   ]
  },
  {
   "cell_type": "code",
   "execution_count": 17,
   "id": "acebb9d7-4d7f-4239-b24a-e26ced6d28ab",
   "metadata": {},
   "outputs": [
    {
     "data": {
      "text/plain": [
       "\n",
       "\tWelch Two Sample t-test\n",
       "\n",
       "data:  height by sex\n",
       "t = -15.925, df = 374.41, p-value < 2.2e-16\n",
       "alternative hypothesis: true difference in means between group Female and group Male is not equal to 0\n",
       "95 percent confidence interval:\n",
       " -4.915553 -3.835108\n",
       "sample estimates:\n",
       "mean in group Female   mean in group Male \n",
       "            64.93942             69.31475 \n"
      ]
     },
     "metadata": {},
     "output_type": "display_data"
    }
   ],
   "source": [
    "t.test(height ~ sex, data=heights)"
   ]
  },
  {
   "cell_type": "markdown",
   "id": "2d87bca0-39e1-490c-8928-f2d5473cd164",
   "metadata": {},
   "source": [
    "# Exercise 2 - Some more messy real world data"
   ]
  },
  {
   "cell_type": "markdown",
   "id": "ba2a4ed7-f398-4276-9591-9561f15ff515",
   "metadata": {},
   "source": [
    "We have been dealing with data that is fairly well organised. Let's look at some data that is slightly more messy\n",
    "\n",
    "Install and load the fuelconomy package, which has fuel economy data from the EPA: https://cran.r-project.org/web/packages/fueleconomy/fueleconomy.pdf"
   ]
  },
  {
   "cell_type": "code",
   "execution_count": 18,
   "id": "a04b6535-5398-4bbe-9537-727820277757",
   "metadata": {},
   "outputs": [
    {
     "name": "stderr",
     "output_type": "stream",
     "text": [
      "Installing package into ‘/usr/local/spark-3.5.2-bin-hadoop3/R/lib’\n",
      "(as ‘lib’ is unspecified)\n",
      "\n"
     ]
    }
   ],
   "source": [
    "install.packages('fueleconomy')"
   ]
  },
  {
   "cell_type": "code",
   "execution_count": 20,
   "id": "1f6f02a2-4675-486d-9f44-9875031429f3",
   "metadata": {},
   "outputs": [],
   "source": [
    "library(fueleconomy)"
   ]
  },
  {
   "cell_type": "code",
   "execution_count": 24,
   "id": "a95f0655-da33-4bb4-a68f-ac05b9854666",
   "metadata": {},
   "outputs": [],
   "source": [
    "data('vehicles')"
   ]
  },
  {
   "cell_type": "code",
   "execution_count": 25,
   "id": "3b9804ee-1648-4016-8552-4f5d0a3079d8",
   "metadata": {},
   "outputs": [
    {
     "data": {
      "text/html": [
       "<table class=\"dataframe\">\n",
       "<caption>A tibble: 6 × 12</caption>\n",
       "<thead>\n",
       "\t<tr><th scope=col>id</th><th scope=col>make</th><th scope=col>model</th><th scope=col>year</th><th scope=col>class</th><th scope=col>trans</th><th scope=col>drive</th><th scope=col>cyl</th><th scope=col>displ</th><th scope=col>fuel</th><th scope=col>hwy</th><th scope=col>cty</th></tr>\n",
       "\t<tr><th scope=col>&lt;dbl&gt;</th><th scope=col>&lt;chr&gt;</th><th scope=col>&lt;chr&gt;</th><th scope=col>&lt;dbl&gt;</th><th scope=col>&lt;chr&gt;</th><th scope=col>&lt;chr&gt;</th><th scope=col>&lt;chr&gt;</th><th scope=col>&lt;dbl&gt;</th><th scope=col>&lt;dbl&gt;</th><th scope=col>&lt;chr&gt;</th><th scope=col>&lt;dbl&gt;</th><th scope=col>&lt;dbl&gt;</th></tr>\n",
       "</thead>\n",
       "<tbody>\n",
       "\t<tr><td>13309</td><td>Acura</td><td>2.2CL/3.0CL</td><td>1997</td><td>Subcompact Cars</td><td>Automatic 4-spd</td><td>Front-Wheel Drive</td><td>4</td><td>2.2</td><td>Regular</td><td>26</td><td>20</td></tr>\n",
       "\t<tr><td>13310</td><td>Acura</td><td>2.2CL/3.0CL</td><td>1997</td><td>Subcompact Cars</td><td>Manual 5-spd   </td><td>Front-Wheel Drive</td><td>4</td><td>2.2</td><td>Regular</td><td>28</td><td>22</td></tr>\n",
       "\t<tr><td>13311</td><td>Acura</td><td>2.2CL/3.0CL</td><td>1997</td><td>Subcompact Cars</td><td>Automatic 4-spd</td><td>Front-Wheel Drive</td><td>6</td><td>3.0</td><td>Regular</td><td>26</td><td>18</td></tr>\n",
       "\t<tr><td>14038</td><td>Acura</td><td>2.3CL/3.0CL</td><td>1998</td><td>Subcompact Cars</td><td>Automatic 4-spd</td><td>Front-Wheel Drive</td><td>4</td><td>2.3</td><td>Regular</td><td>27</td><td>19</td></tr>\n",
       "\t<tr><td>14039</td><td>Acura</td><td>2.3CL/3.0CL</td><td>1998</td><td>Subcompact Cars</td><td>Manual 5-spd   </td><td>Front-Wheel Drive</td><td>4</td><td>2.3</td><td>Regular</td><td>29</td><td>21</td></tr>\n",
       "\t<tr><td>14040</td><td>Acura</td><td>2.3CL/3.0CL</td><td>1998</td><td>Subcompact Cars</td><td>Automatic 4-spd</td><td>Front-Wheel Drive</td><td>6</td><td>3.0</td><td>Regular</td><td>26</td><td>17</td></tr>\n",
       "</tbody>\n",
       "</table>\n"
      ],
      "text/latex": [
       "A tibble: 6 × 12\n",
       "\\begin{tabular}{llllllllllll}\n",
       " id & make & model & year & class & trans & drive & cyl & displ & fuel & hwy & cty\\\\\n",
       " <dbl> & <chr> & <chr> & <dbl> & <chr> & <chr> & <chr> & <dbl> & <dbl> & <chr> & <dbl> & <dbl>\\\\\n",
       "\\hline\n",
       "\t 13309 & Acura & 2.2CL/3.0CL & 1997 & Subcompact Cars & Automatic 4-spd & Front-Wheel Drive & 4 & 2.2 & Regular & 26 & 20\\\\\n",
       "\t 13310 & Acura & 2.2CL/3.0CL & 1997 & Subcompact Cars & Manual 5-spd    & Front-Wheel Drive & 4 & 2.2 & Regular & 28 & 22\\\\\n",
       "\t 13311 & Acura & 2.2CL/3.0CL & 1997 & Subcompact Cars & Automatic 4-spd & Front-Wheel Drive & 6 & 3.0 & Regular & 26 & 18\\\\\n",
       "\t 14038 & Acura & 2.3CL/3.0CL & 1998 & Subcompact Cars & Automatic 4-spd & Front-Wheel Drive & 4 & 2.3 & Regular & 27 & 19\\\\\n",
       "\t 14039 & Acura & 2.3CL/3.0CL & 1998 & Subcompact Cars & Manual 5-spd    & Front-Wheel Drive & 4 & 2.3 & Regular & 29 & 21\\\\\n",
       "\t 14040 & Acura & 2.3CL/3.0CL & 1998 & Subcompact Cars & Automatic 4-spd & Front-Wheel Drive & 6 & 3.0 & Regular & 26 & 17\\\\\n",
       "\\end{tabular}\n"
      ],
      "text/markdown": [
       "\n",
       "A tibble: 6 × 12\n",
       "\n",
       "| id &lt;dbl&gt; | make &lt;chr&gt; | model &lt;chr&gt; | year &lt;dbl&gt; | class &lt;chr&gt; | trans &lt;chr&gt; | drive &lt;chr&gt; | cyl &lt;dbl&gt; | displ &lt;dbl&gt; | fuel &lt;chr&gt; | hwy &lt;dbl&gt; | cty &lt;dbl&gt; |\n",
       "|---|---|---|---|---|---|---|---|---|---|---|---|\n",
       "| 13309 | Acura | 2.2CL/3.0CL | 1997 | Subcompact Cars | Automatic 4-spd | Front-Wheel Drive | 4 | 2.2 | Regular | 26 | 20 |\n",
       "| 13310 | Acura | 2.2CL/3.0CL | 1997 | Subcompact Cars | Manual 5-spd    | Front-Wheel Drive | 4 | 2.2 | Regular | 28 | 22 |\n",
       "| 13311 | Acura | 2.2CL/3.0CL | 1997 | Subcompact Cars | Automatic 4-spd | Front-Wheel Drive | 6 | 3.0 | Regular | 26 | 18 |\n",
       "| 14038 | Acura | 2.3CL/3.0CL | 1998 | Subcompact Cars | Automatic 4-spd | Front-Wheel Drive | 4 | 2.3 | Regular | 27 | 19 |\n",
       "| 14039 | Acura | 2.3CL/3.0CL | 1998 | Subcompact Cars | Manual 5-spd    | Front-Wheel Drive | 4 | 2.3 | Regular | 29 | 21 |\n",
       "| 14040 | Acura | 2.3CL/3.0CL | 1998 | Subcompact Cars | Automatic 4-spd | Front-Wheel Drive | 6 | 3.0 | Regular | 26 | 17 |\n",
       "\n"
      ],
      "text/plain": [
       "  id    make  model       year class           trans          \n",
       "1 13309 Acura 2.2CL/3.0CL 1997 Subcompact Cars Automatic 4-spd\n",
       "2 13310 Acura 2.2CL/3.0CL 1997 Subcompact Cars Manual 5-spd   \n",
       "3 13311 Acura 2.2CL/3.0CL 1997 Subcompact Cars Automatic 4-spd\n",
       "4 14038 Acura 2.3CL/3.0CL 1998 Subcompact Cars Automatic 4-spd\n",
       "5 14039 Acura 2.3CL/3.0CL 1998 Subcompact Cars Manual 5-spd   \n",
       "6 14040 Acura 2.3CL/3.0CL 1998 Subcompact Cars Automatic 4-spd\n",
       "  drive             cyl displ fuel    hwy cty\n",
       "1 Front-Wheel Drive 4   2.2   Regular 26  20 \n",
       "2 Front-Wheel Drive 4   2.2   Regular 28  22 \n",
       "3 Front-Wheel Drive 6   3.0   Regular 26  18 \n",
       "4 Front-Wheel Drive 4   2.3   Regular 27  19 \n",
       "5 Front-Wheel Drive 4   2.3   Regular 29  21 \n",
       "6 Front-Wheel Drive 6   3.0   Regular 26  17 "
      ]
     },
     "metadata": {},
     "output_type": "display_data"
    }
   ],
   "source": [
    "head(vehicles)"
   ]
  },
  {
   "cell_type": "markdown",
   "id": "2d066204-b70a-4a07-89be-473fca4cdd98",
   "metadata": {},
   "source": [
    "Let's set ourselves the task of comparing the city fuel economy of the midsize class of two car brands: Audi and VW"
   ]
  },
  {
   "cell_type": "markdown",
   "id": "2fa8044b-96af-4fc0-8882-e3aea498d06f",
   "metadata": {},
   "source": [
    "Our first step is to isolate the relevant data. There are many ways to do this. Here's one:"
   ]
  },
  {
   "cell_type": "code",
   "execution_count": 34,
   "id": "549b4f30-1113-42ff-a752-2b2789af7edc",
   "metadata": {
    "collapsed": true,
    "jupyter": {
     "outputs_hidden": true
    }
   },
   "outputs": [
    {
     "data": {
      "text/html": [
       "<table class=\"dataframe\">\n",
       "<caption>A tibble: 157 × 12</caption>\n",
       "<thead>\n",
       "\t<tr><th scope=col>id</th><th scope=col>make</th><th scope=col>model</th><th scope=col>year</th><th scope=col>class</th><th scope=col>trans</th><th scope=col>drive</th><th scope=col>cyl</th><th scope=col>displ</th><th scope=col>fuel</th><th scope=col>hwy</th><th scope=col>cty</th></tr>\n",
       "\t<tr><th scope=col>&lt;dbl&gt;</th><th scope=col>&lt;chr&gt;</th><th scope=col>&lt;chr&gt;</th><th scope=col>&lt;dbl&gt;</th><th scope=col>&lt;chr&gt;</th><th scope=col>&lt;chr&gt;</th><th scope=col>&lt;chr&gt;</th><th scope=col>&lt;dbl&gt;</th><th scope=col>&lt;dbl&gt;</th><th scope=col>&lt;chr&gt;</th><th scope=col>&lt;dbl&gt;</th><th scope=col>&lt;dbl&gt;</th></tr>\n",
       "</thead>\n",
       "<tbody>\n",
       "\t<tr><td> 5656</td><td>Audi</td><td>100            </td><td>1989</td><td>Midsize Cars</td><td>Automatic 3-spd</td><td>Front-Wheel Drive         </td><td>5</td><td>2.3</td><td>Regular</td><td>20</td><td>17</td></tr>\n",
       "\t<tr><td> 5657</td><td>Audi</td><td>100            </td><td>1989</td><td>Midsize Cars</td><td>Manual 5-spd   </td><td>Front-Wheel Drive         </td><td>5</td><td>2.3</td><td>Regular</td><td>23</td><td>16</td></tr>\n",
       "\t<tr><td> 6784</td><td>Audi</td><td>100            </td><td>1990</td><td>Midsize Cars</td><td>Automatic 3-spd</td><td>Front-Wheel Drive         </td><td>5</td><td>2.3</td><td>Regular</td><td>20</td><td>16</td></tr>\n",
       "\t<tr><td> 6785</td><td>Audi</td><td>100            </td><td>1990</td><td>Midsize Cars</td><td>Automatic 4-spd</td><td>Front-Wheel Drive         </td><td>5</td><td>2.3</td><td>Regular</td><td>22</td><td>16</td></tr>\n",
       "\t<tr><td> 7908</td><td>Audi</td><td>100            </td><td>1991</td><td>Midsize Cars</td><td>Automatic 4-spd</td><td>Front-Wheel Drive         </td><td>5</td><td>2.3</td><td>Regular</td><td>22</td><td>16</td></tr>\n",
       "\t<tr><td> 8987</td><td>Audi</td><td>100            </td><td>1992</td><td>Midsize Cars</td><td>Automatic 4-spd</td><td>Front-Wheel Drive         </td><td>6</td><td>2.8</td><td>Premium</td><td>23</td><td>15</td></tr>\n",
       "\t<tr><td> 8988</td><td>Audi</td><td>100            </td><td>1992</td><td>Midsize Cars</td><td>Automatic 4-spd</td><td>Front-Wheel Drive         </td><td>6</td><td>2.8</td><td>Premium</td><td>22</td><td>17</td></tr>\n",
       "\t<tr><td> 8989</td><td>Audi</td><td>100            </td><td>1992</td><td>Midsize Cars</td><td>Manual 5-spd   </td><td>Front-Wheel Drive         </td><td>6</td><td>2.8</td><td>Premium</td><td>24</td><td>17</td></tr>\n",
       "\t<tr><td>10013</td><td>Audi</td><td>100            </td><td>1993</td><td>Midsize Cars</td><td>Automatic 4-spd</td><td>Front-Wheel Drive         </td><td>6</td><td>2.8</td><td>Premium</td><td>22</td><td>17</td></tr>\n",
       "\t<tr><td>10014</td><td>Audi</td><td>100            </td><td>1993</td><td>Midsize Cars</td><td>Manual 5-spd   </td><td>Front-Wheel Drive         </td><td>6</td><td>2.8</td><td>Premium</td><td>24</td><td>17</td></tr>\n",
       "\t<tr><td> 5658</td><td>Audi</td><td>100 quattro    </td><td>1989</td><td>Midsize Cars</td><td>Manual 5-spd   </td><td>4-Wheel or All-Wheel Drive</td><td>5</td><td>2.3</td><td>Regular</td><td>22</td><td>16</td></tr>\n",
       "\t<tr><td> 6786</td><td>Audi</td><td>100 quattro    </td><td>1990</td><td>Midsize Cars</td><td>Manual 5-spd   </td><td>4-Wheel or All-Wheel Drive</td><td>5</td><td>2.3</td><td>Regular</td><td>22</td><td>16</td></tr>\n",
       "\t<tr><td> 7909</td><td>Audi</td><td>100 quattro    </td><td>1991</td><td>Midsize Cars</td><td>Manual 5-spd   </td><td>4-Wheel or All-Wheel Drive</td><td>5</td><td>2.3</td><td>Regular</td><td>22</td><td>16</td></tr>\n",
       "\t<tr><td> 8990</td><td>Audi</td><td>100 quattro    </td><td>1992</td><td>Midsize Cars</td><td>Automatic 4-spd</td><td>4-Wheel or All-Wheel Drive</td><td>6</td><td>2.8</td><td>Premium</td><td>20</td><td>16</td></tr>\n",
       "\t<tr><td> 8991</td><td>Audi</td><td>100 quattro    </td><td>1992</td><td>Midsize Cars</td><td>Manual 5-spd   </td><td>4-Wheel or All-Wheel Drive</td><td>6</td><td>2.8</td><td>Premium</td><td>21</td><td>16</td></tr>\n",
       "\t<tr><td> 5659</td><td>Audi</td><td>200            </td><td>1989</td><td>Midsize Cars</td><td>Automatic 3-spd</td><td>Front-Wheel Drive         </td><td>5</td><td>2.2</td><td>Regular</td><td>20</td><td>16</td></tr>\n",
       "\t<tr><td> 5660</td><td>Audi</td><td>200            </td><td>1989</td><td>Midsize Cars</td><td>Manual 5-spd   </td><td>Front-Wheel Drive         </td><td>5</td><td>2.2</td><td>Regular</td><td>24</td><td>16</td></tr>\n",
       "\t<tr><td> 6787</td><td>Audi</td><td>200            </td><td>1990</td><td>Midsize Cars</td><td>Automatic 3-spd</td><td>Front-Wheel Drive         </td><td>5</td><td>2.2</td><td>Regular</td><td>20</td><td>16</td></tr>\n",
       "\t<tr><td> 7910</td><td>Audi</td><td>200            </td><td>1991</td><td>Midsize Cars</td><td>Automatic 3-spd</td><td>Front-Wheel Drive         </td><td>5</td><td>2.2</td><td>Regular</td><td>20</td><td>16</td></tr>\n",
       "\t<tr><td> 5661</td><td>Audi</td><td>200 quattro    </td><td>1989</td><td>Midsize Cars</td><td>Manual 5-spd   </td><td>4-Wheel or All-Wheel Drive</td><td>5</td><td>2.2</td><td>Regular</td><td>23</td><td>15</td></tr>\n",
       "\t<tr><td> 6788</td><td>Audi</td><td>200 quattro    </td><td>1990</td><td>Midsize Cars</td><td>Manual 5-spd   </td><td>4-Wheel or All-Wheel Drive</td><td>5</td><td>2.2</td><td>Regular</td><td>23</td><td>15</td></tr>\n",
       "\t<tr><td> 7911</td><td>Audi</td><td>200 quattro 20v</td><td>1991</td><td>Midsize Cars</td><td>Manual 5-spd   </td><td>4-Wheel or All-Wheel Drive</td><td>5</td><td>2.2</td><td>Regular</td><td>22</td><td>16</td></tr>\n",
       "\t<tr><td> 2091</td><td>Audi</td><td>5000 CS quattro</td><td>1986</td><td>Midsize Cars</td><td>Manual 5-spd   </td><td>4-Wheel or All-Wheel Drive</td><td>5</td><td>2.2</td><td>Regular</td><td>23</td><td>15</td></tr>\n",
       "\t<tr><td> 3348</td><td>Audi</td><td>5000 CS quattro</td><td>1987</td><td>Midsize Cars</td><td>Manual 5-spd   </td><td>4-Wheel or All-Wheel Drive</td><td>5</td><td>2.2</td><td>Regular</td><td>23</td><td>15</td></tr>\n",
       "\t<tr><td> 4528</td><td>Audi</td><td>5000 CS quattro</td><td>1988</td><td>Midsize Cars</td><td>Manual 5-spd   </td><td>4-Wheel or All-Wheel Drive</td><td>5</td><td>2.2</td><td>Regular</td><td>23</td><td>15</td></tr>\n",
       "\t<tr><td> 3349</td><td>Audi</td><td>5000 CS Turbo  </td><td>1987</td><td>Midsize Cars</td><td>Automatic 3-spd</td><td>Front-Wheel Drive         </td><td>5</td><td>2.2</td><td>Regular</td><td>20</td><td>16</td></tr>\n",
       "\t<tr><td> 3350</td><td>Audi</td><td>5000 CS Turbo  </td><td>1987</td><td>Midsize Cars</td><td>Manual 5-spd   </td><td>Front-Wheel Drive         </td><td>5</td><td>2.2</td><td>Regular</td><td>24</td><td>16</td></tr>\n",
       "\t<tr><td> 4529</td><td>Audi</td><td>5000 CS Turbo  </td><td>1988</td><td>Midsize Cars</td><td>Automatic 3-spd</td><td>Front-Wheel Drive         </td><td>5</td><td>2.2</td><td>Regular</td><td>20</td><td>16</td></tr>\n",
       "\t<tr><td> 4530</td><td>Audi</td><td>5000 CS Turbo  </td><td>1988</td><td>Midsize Cars</td><td>Manual 5-spd   </td><td>Front-Wheel Drive         </td><td>5</td><td>2.2</td><td>Regular</td><td>24</td><td>16</td></tr>\n",
       "\t<tr><td> 2092</td><td>Audi</td><td>5000 S         </td><td>1986</td><td>Midsize Cars</td><td>Automatic 3-spd</td><td>Front-Wheel Drive         </td><td>5</td><td>2.2</td><td>Regular</td><td>20</td><td>16</td></tr>\n",
       "\t<tr><td>⋮</td><td>⋮</td><td>⋮</td><td>⋮</td><td>⋮</td><td>⋮</td><td>⋮</td><td>⋮</td><td>⋮</td><td>⋮</td><td>⋮</td><td>⋮</td></tr>\n",
       "\t<tr><td>15074</td><td>Audi</td><td>A8 quattro</td><td>1999</td><td>Midsize Cars</td><td>Automatic 5-spd</td><td>4-Wheel or All-Wheel Drive</td><td> 8</td><td>4.2</td><td>Premium</td><td>23</td><td>15</td></tr>\n",
       "\t<tr><td>15879</td><td>Audi</td><td>A8 quattro</td><td>2000</td><td>Midsize Cars</td><td>Automatic 5-spd</td><td>4-Wheel or All-Wheel Drive</td><td> 8</td><td>4.2</td><td>Premium</td><td>22</td><td>15</td></tr>\n",
       "\t<tr><td>16741</td><td>Audi</td><td>A8 quattro</td><td>2001</td><td>Midsize Cars</td><td>Automatic (S5) </td><td>4-Wheel or All-Wheel Drive</td><td> 8</td><td>4.2</td><td>Premium</td><td>23</td><td>15</td></tr>\n",
       "\t<tr><td>17671</td><td>Audi</td><td>A8 quattro</td><td>2002</td><td>Midsize Cars</td><td>Automatic (S5) </td><td>4-Wheel or All-Wheel Drive</td><td> 8</td><td>4.2</td><td>Premium</td><td>23</td><td>15</td></tr>\n",
       "\t<tr><td>33830</td><td>Audi</td><td>RS 7      </td><td>2014</td><td>Midsize Cars</td><td>Automatic (S8) </td><td>All-Wheel Drive           </td><td> 8</td><td>4.0</td><td>Premium</td><td>27</td><td>16</td></tr>\n",
       "\t<tr><td>19328</td><td>Audi</td><td>RS6       </td><td>2003</td><td>Midsize Cars</td><td>Automatic (S5) </td><td>4-Wheel or All-Wheel Drive</td><td> 8</td><td>4.2</td><td>Premium</td><td>20</td><td>14</td></tr>\n",
       "\t<tr><td> 8985</td><td>Audi</td><td>S4        </td><td>1992</td><td>Midsize Cars</td><td>Manual 5-spd   </td><td>4-Wheel or All-Wheel Drive</td><td> 5</td><td>2.2</td><td>Premium</td><td>22</td><td>16</td></tr>\n",
       "\t<tr><td>23554</td><td>Audi</td><td>S6        </td><td>2007</td><td>Midsize Cars</td><td>Automatic (S6) </td><td>4-Wheel or All-Wheel Drive</td><td>10</td><td>5.2</td><td>Premium</td><td>19</td><td>14</td></tr>\n",
       "\t<tr><td>24353</td><td>Audi</td><td>S6        </td><td>2008</td><td>Midsize Cars</td><td>Automatic (S6) </td><td>4-Wheel or All-Wheel Drive</td><td>10</td><td>5.2</td><td>Premium</td><td>19</td><td>14</td></tr>\n",
       "\t<tr><td>25950</td><td>Audi</td><td>S6        </td><td>2009</td><td>Midsize Cars</td><td>Automatic (S6) </td><td>4-Wheel or All-Wheel Drive</td><td>10</td><td>5.2</td><td>Premium</td><td>19</td><td>14</td></tr>\n",
       "\t<tr><td>28621</td><td>Audi</td><td>S6        </td><td>2010</td><td>Midsize Cars</td><td>Automatic (S6) </td><td>All-Wheel Drive           </td><td>10</td><td>5.2</td><td>Premium</td><td>19</td><td>14</td></tr>\n",
       "\t<tr><td>30357</td><td>Audi</td><td>S6        </td><td>2011</td><td>Midsize Cars</td><td>Automatic (S6) </td><td>All-Wheel Drive           </td><td>10</td><td>5.2</td><td>Premium</td><td>21</td><td>14</td></tr>\n",
       "\t<tr><td>32959</td><td>Audi</td><td>S6        </td><td>2013</td><td>Midsize Cars</td><td>Auto(AM-S7)    </td><td>All-Wheel Drive           </td><td> 8</td><td>4.0</td><td>Premium</td><td>27</td><td>17</td></tr>\n",
       "\t<tr><td>33829</td><td>Audi</td><td>S6        </td><td>2014</td><td>Midsize Cars</td><td>Auto(AM-S7)    </td><td>All-Wheel Drive           </td><td> 8</td><td>4.0</td><td>Premium</td><td>27</td><td>17</td></tr>\n",
       "\t<tr><td>32958</td><td>Audi</td><td>S7        </td><td>2013</td><td>Midsize Cars</td><td>Auto(AM-S7)    </td><td>All-Wheel Drive           </td><td> 8</td><td>4.0</td><td>Premium</td><td>27</td><td>17</td></tr>\n",
       "\t<tr><td>33828</td><td>Audi</td><td>S7        </td><td>2014</td><td>Midsize Cars</td><td>Auto(AM-S7)    </td><td>All-Wheel Drive           </td><td> 8</td><td>4.0</td><td>Premium</td><td>27</td><td>17</td></tr>\n",
       "\t<tr><td>18637</td><td>Audi</td><td>S8        </td><td>2003</td><td>Midsize Cars</td><td>Automatic (S5) </td><td>4-Wheel or All-Wheel Drive</td><td> 8</td><td>4.2</td><td>Premium</td><td>20</td><td>14</td></tr>\n",
       "\t<tr><td>23555</td><td>Audi</td><td>S8        </td><td>2007</td><td>Midsize Cars</td><td>Automatic (S6) </td><td>4-Wheel or All-Wheel Drive</td><td>10</td><td>5.2</td><td>Premium</td><td>19</td><td>13</td></tr>\n",
       "\t<tr><td>24354</td><td>Audi</td><td>S8        </td><td>2008</td><td>Midsize Cars</td><td>Automatic (S6) </td><td>4-Wheel or All-Wheel Drive</td><td>10</td><td>5.2</td><td>Premium</td><td>19</td><td>13</td></tr>\n",
       "\t<tr><td>25951</td><td>Audi</td><td>S8        </td><td>2009</td><td>Midsize Cars</td><td>Automatic (S6) </td><td>4-Wheel or All-Wheel Drive</td><td>10</td><td>5.2</td><td>Premium</td><td>19</td><td>13</td></tr>\n",
       "\t<tr><td>33163</td><td>Audi</td><td>S8        </td><td>2013</td><td>Midsize Cars</td><td>Automatic (S8) </td><td>All-Wheel Drive           </td><td> 8</td><td>4.0</td><td>Premium</td><td>26</td><td>15</td></tr>\n",
       "\t<tr><td>33827</td><td>Audi</td><td>S8        </td><td>2014</td><td>Midsize Cars</td><td>Automatic (S8) </td><td>All-Wheel Drive           </td><td> 8</td><td>4.0</td><td>Premium</td><td>26</td><td>15</td></tr>\n",
       "\t<tr><td>34924</td><td>Audi</td><td>S8        </td><td>2015</td><td>Midsize Cars</td><td>Automatic (S8) </td><td>All-Wheel Drive           </td><td> 8</td><td>4.0</td><td>Premium</td><td>27</td><td>17</td></tr>\n",
       "\t<tr><td>16742</td><td>Audi</td><td>S8 quattro</td><td>2001</td><td>Midsize Cars</td><td>Automatic 5-spd</td><td>4-Wheel or All-Wheel Drive</td><td> 8</td><td>4.2</td><td>Premium</td><td>20</td><td>13</td></tr>\n",
       "\t<tr><td>17672</td><td>Audi</td><td>S8 quattro</td><td>2002</td><td>Midsize Cars</td><td>Automatic (S5) </td><td>4-Wheel or All-Wheel Drive</td><td> 8</td><td>4.2</td><td>Premium</td><td>20</td><td>13</td></tr>\n",
       "\t<tr><td> 6782</td><td>Audi</td><td>V8        </td><td>1990</td><td>Midsize Cars</td><td>Automatic 4-spd</td><td>4-Wheel or All-Wheel Drive</td><td> 8</td><td>3.6</td><td>Regular</td><td>17</td><td>13</td></tr>\n",
       "\t<tr><td> 6783</td><td>Audi</td><td>V8        </td><td>1990</td><td>Midsize Cars</td><td>Manual 5-spd   </td><td>4-Wheel or All-Wheel Drive</td><td> 8</td><td>3.6</td><td>Regular</td><td>19</td><td>13</td></tr>\n",
       "\t<tr><td> 7906</td><td>Audi</td><td>V8        </td><td>1991</td><td>Midsize Cars</td><td>Automatic 4-spd</td><td>4-Wheel or All-Wheel Drive</td><td> 8</td><td>3.6</td><td>Regular</td><td>19</td><td>14</td></tr>\n",
       "\t<tr><td> 7907</td><td>Audi</td><td>V8        </td><td>1991</td><td>Midsize Cars</td><td>Manual 5-spd   </td><td>4-Wheel or All-Wheel Drive</td><td> 8</td><td>3.6</td><td>Regular</td><td>19</td><td>13</td></tr>\n",
       "\t<tr><td> 8986</td><td>Audi</td><td>V8        </td><td>1992</td><td>Midsize Cars</td><td>Automatic 4-spd</td><td>4-Wheel or All-Wheel Drive</td><td> 8</td><td>4.2</td><td>Premium</td><td>18</td><td>13</td></tr>\n",
       "</tbody>\n",
       "</table>\n"
      ],
      "text/latex": [
       "A tibble: 157 × 12\n",
       "\\begin{tabular}{llllllllllll}\n",
       " id & make & model & year & class & trans & drive & cyl & displ & fuel & hwy & cty\\\\\n",
       " <dbl> & <chr> & <chr> & <dbl> & <chr> & <chr> & <chr> & <dbl> & <dbl> & <chr> & <dbl> & <dbl>\\\\\n",
       "\\hline\n",
       "\t  5656 & Audi & 100             & 1989 & Midsize Cars & Automatic 3-spd & Front-Wheel Drive          & 5 & 2.3 & Regular & 20 & 17\\\\\n",
       "\t  5657 & Audi & 100             & 1989 & Midsize Cars & Manual 5-spd    & Front-Wheel Drive          & 5 & 2.3 & Regular & 23 & 16\\\\\n",
       "\t  6784 & Audi & 100             & 1990 & Midsize Cars & Automatic 3-spd & Front-Wheel Drive          & 5 & 2.3 & Regular & 20 & 16\\\\\n",
       "\t  6785 & Audi & 100             & 1990 & Midsize Cars & Automatic 4-spd & Front-Wheel Drive          & 5 & 2.3 & Regular & 22 & 16\\\\\n",
       "\t  7908 & Audi & 100             & 1991 & Midsize Cars & Automatic 4-spd & Front-Wheel Drive          & 5 & 2.3 & Regular & 22 & 16\\\\\n",
       "\t  8987 & Audi & 100             & 1992 & Midsize Cars & Automatic 4-spd & Front-Wheel Drive          & 6 & 2.8 & Premium & 23 & 15\\\\\n",
       "\t  8988 & Audi & 100             & 1992 & Midsize Cars & Automatic 4-spd & Front-Wheel Drive          & 6 & 2.8 & Premium & 22 & 17\\\\\n",
       "\t  8989 & Audi & 100             & 1992 & Midsize Cars & Manual 5-spd    & Front-Wheel Drive          & 6 & 2.8 & Premium & 24 & 17\\\\\n",
       "\t 10013 & Audi & 100             & 1993 & Midsize Cars & Automatic 4-spd & Front-Wheel Drive          & 6 & 2.8 & Premium & 22 & 17\\\\\n",
       "\t 10014 & Audi & 100             & 1993 & Midsize Cars & Manual 5-spd    & Front-Wheel Drive          & 6 & 2.8 & Premium & 24 & 17\\\\\n",
       "\t  5658 & Audi & 100 quattro     & 1989 & Midsize Cars & Manual 5-spd    & 4-Wheel or All-Wheel Drive & 5 & 2.3 & Regular & 22 & 16\\\\\n",
       "\t  6786 & Audi & 100 quattro     & 1990 & Midsize Cars & Manual 5-spd    & 4-Wheel or All-Wheel Drive & 5 & 2.3 & Regular & 22 & 16\\\\\n",
       "\t  7909 & Audi & 100 quattro     & 1991 & Midsize Cars & Manual 5-spd    & 4-Wheel or All-Wheel Drive & 5 & 2.3 & Regular & 22 & 16\\\\\n",
       "\t  8990 & Audi & 100 quattro     & 1992 & Midsize Cars & Automatic 4-spd & 4-Wheel or All-Wheel Drive & 6 & 2.8 & Premium & 20 & 16\\\\\n",
       "\t  8991 & Audi & 100 quattro     & 1992 & Midsize Cars & Manual 5-spd    & 4-Wheel or All-Wheel Drive & 6 & 2.8 & Premium & 21 & 16\\\\\n",
       "\t  5659 & Audi & 200             & 1989 & Midsize Cars & Automatic 3-spd & Front-Wheel Drive          & 5 & 2.2 & Regular & 20 & 16\\\\\n",
       "\t  5660 & Audi & 200             & 1989 & Midsize Cars & Manual 5-spd    & Front-Wheel Drive          & 5 & 2.2 & Regular & 24 & 16\\\\\n",
       "\t  6787 & Audi & 200             & 1990 & Midsize Cars & Automatic 3-spd & Front-Wheel Drive          & 5 & 2.2 & Regular & 20 & 16\\\\\n",
       "\t  7910 & Audi & 200             & 1991 & Midsize Cars & Automatic 3-spd & Front-Wheel Drive          & 5 & 2.2 & Regular & 20 & 16\\\\\n",
       "\t  5661 & Audi & 200 quattro     & 1989 & Midsize Cars & Manual 5-spd    & 4-Wheel or All-Wheel Drive & 5 & 2.2 & Regular & 23 & 15\\\\\n",
       "\t  6788 & Audi & 200 quattro     & 1990 & Midsize Cars & Manual 5-spd    & 4-Wheel or All-Wheel Drive & 5 & 2.2 & Regular & 23 & 15\\\\\n",
       "\t  7911 & Audi & 200 quattro 20v & 1991 & Midsize Cars & Manual 5-spd    & 4-Wheel or All-Wheel Drive & 5 & 2.2 & Regular & 22 & 16\\\\\n",
       "\t  2091 & Audi & 5000 CS quattro & 1986 & Midsize Cars & Manual 5-spd    & 4-Wheel or All-Wheel Drive & 5 & 2.2 & Regular & 23 & 15\\\\\n",
       "\t  3348 & Audi & 5000 CS quattro & 1987 & Midsize Cars & Manual 5-spd    & 4-Wheel or All-Wheel Drive & 5 & 2.2 & Regular & 23 & 15\\\\\n",
       "\t  4528 & Audi & 5000 CS quattro & 1988 & Midsize Cars & Manual 5-spd    & 4-Wheel or All-Wheel Drive & 5 & 2.2 & Regular & 23 & 15\\\\\n",
       "\t  3349 & Audi & 5000 CS Turbo   & 1987 & Midsize Cars & Automatic 3-spd & Front-Wheel Drive          & 5 & 2.2 & Regular & 20 & 16\\\\\n",
       "\t  3350 & Audi & 5000 CS Turbo   & 1987 & Midsize Cars & Manual 5-spd    & Front-Wheel Drive          & 5 & 2.2 & Regular & 24 & 16\\\\\n",
       "\t  4529 & Audi & 5000 CS Turbo   & 1988 & Midsize Cars & Automatic 3-spd & Front-Wheel Drive          & 5 & 2.2 & Regular & 20 & 16\\\\\n",
       "\t  4530 & Audi & 5000 CS Turbo   & 1988 & Midsize Cars & Manual 5-spd    & Front-Wheel Drive          & 5 & 2.2 & Regular & 24 & 16\\\\\n",
       "\t  2092 & Audi & 5000 S          & 1986 & Midsize Cars & Automatic 3-spd & Front-Wheel Drive          & 5 & 2.2 & Regular & 20 & 16\\\\\n",
       "\t ⋮ & ⋮ & ⋮ & ⋮ & ⋮ & ⋮ & ⋮ & ⋮ & ⋮ & ⋮ & ⋮ & ⋮\\\\\n",
       "\t 15074 & Audi & A8 quattro & 1999 & Midsize Cars & Automatic 5-spd & 4-Wheel or All-Wheel Drive &  8 & 4.2 & Premium & 23 & 15\\\\\n",
       "\t 15879 & Audi & A8 quattro & 2000 & Midsize Cars & Automatic 5-spd & 4-Wheel or All-Wheel Drive &  8 & 4.2 & Premium & 22 & 15\\\\\n",
       "\t 16741 & Audi & A8 quattro & 2001 & Midsize Cars & Automatic (S5)  & 4-Wheel or All-Wheel Drive &  8 & 4.2 & Premium & 23 & 15\\\\\n",
       "\t 17671 & Audi & A8 quattro & 2002 & Midsize Cars & Automatic (S5)  & 4-Wheel or All-Wheel Drive &  8 & 4.2 & Premium & 23 & 15\\\\\n",
       "\t 33830 & Audi & RS 7       & 2014 & Midsize Cars & Automatic (S8)  & All-Wheel Drive            &  8 & 4.0 & Premium & 27 & 16\\\\\n",
       "\t 19328 & Audi & RS6        & 2003 & Midsize Cars & Automatic (S5)  & 4-Wheel or All-Wheel Drive &  8 & 4.2 & Premium & 20 & 14\\\\\n",
       "\t  8985 & Audi & S4         & 1992 & Midsize Cars & Manual 5-spd    & 4-Wheel or All-Wheel Drive &  5 & 2.2 & Premium & 22 & 16\\\\\n",
       "\t 23554 & Audi & S6         & 2007 & Midsize Cars & Automatic (S6)  & 4-Wheel or All-Wheel Drive & 10 & 5.2 & Premium & 19 & 14\\\\\n",
       "\t 24353 & Audi & S6         & 2008 & Midsize Cars & Automatic (S6)  & 4-Wheel or All-Wheel Drive & 10 & 5.2 & Premium & 19 & 14\\\\\n",
       "\t 25950 & Audi & S6         & 2009 & Midsize Cars & Automatic (S6)  & 4-Wheel or All-Wheel Drive & 10 & 5.2 & Premium & 19 & 14\\\\\n",
       "\t 28621 & Audi & S6         & 2010 & Midsize Cars & Automatic (S6)  & All-Wheel Drive            & 10 & 5.2 & Premium & 19 & 14\\\\\n",
       "\t 30357 & Audi & S6         & 2011 & Midsize Cars & Automatic (S6)  & All-Wheel Drive            & 10 & 5.2 & Premium & 21 & 14\\\\\n",
       "\t 32959 & Audi & S6         & 2013 & Midsize Cars & Auto(AM-S7)     & All-Wheel Drive            &  8 & 4.0 & Premium & 27 & 17\\\\\n",
       "\t 33829 & Audi & S6         & 2014 & Midsize Cars & Auto(AM-S7)     & All-Wheel Drive            &  8 & 4.0 & Premium & 27 & 17\\\\\n",
       "\t 32958 & Audi & S7         & 2013 & Midsize Cars & Auto(AM-S7)     & All-Wheel Drive            &  8 & 4.0 & Premium & 27 & 17\\\\\n",
       "\t 33828 & Audi & S7         & 2014 & Midsize Cars & Auto(AM-S7)     & All-Wheel Drive            &  8 & 4.0 & Premium & 27 & 17\\\\\n",
       "\t 18637 & Audi & S8         & 2003 & Midsize Cars & Automatic (S5)  & 4-Wheel or All-Wheel Drive &  8 & 4.2 & Premium & 20 & 14\\\\\n",
       "\t 23555 & Audi & S8         & 2007 & Midsize Cars & Automatic (S6)  & 4-Wheel or All-Wheel Drive & 10 & 5.2 & Premium & 19 & 13\\\\\n",
       "\t 24354 & Audi & S8         & 2008 & Midsize Cars & Automatic (S6)  & 4-Wheel or All-Wheel Drive & 10 & 5.2 & Premium & 19 & 13\\\\\n",
       "\t 25951 & Audi & S8         & 2009 & Midsize Cars & Automatic (S6)  & 4-Wheel or All-Wheel Drive & 10 & 5.2 & Premium & 19 & 13\\\\\n",
       "\t 33163 & Audi & S8         & 2013 & Midsize Cars & Automatic (S8)  & All-Wheel Drive            &  8 & 4.0 & Premium & 26 & 15\\\\\n",
       "\t 33827 & Audi & S8         & 2014 & Midsize Cars & Automatic (S8)  & All-Wheel Drive            &  8 & 4.0 & Premium & 26 & 15\\\\\n",
       "\t 34924 & Audi & S8         & 2015 & Midsize Cars & Automatic (S8)  & All-Wheel Drive            &  8 & 4.0 & Premium & 27 & 17\\\\\n",
       "\t 16742 & Audi & S8 quattro & 2001 & Midsize Cars & Automatic 5-spd & 4-Wheel or All-Wheel Drive &  8 & 4.2 & Premium & 20 & 13\\\\\n",
       "\t 17672 & Audi & S8 quattro & 2002 & Midsize Cars & Automatic (S5)  & 4-Wheel or All-Wheel Drive &  8 & 4.2 & Premium & 20 & 13\\\\\n",
       "\t  6782 & Audi & V8         & 1990 & Midsize Cars & Automatic 4-spd & 4-Wheel or All-Wheel Drive &  8 & 3.6 & Regular & 17 & 13\\\\\n",
       "\t  6783 & Audi & V8         & 1990 & Midsize Cars & Manual 5-spd    & 4-Wheel or All-Wheel Drive &  8 & 3.6 & Regular & 19 & 13\\\\\n",
       "\t  7906 & Audi & V8         & 1991 & Midsize Cars & Automatic 4-spd & 4-Wheel or All-Wheel Drive &  8 & 3.6 & Regular & 19 & 14\\\\\n",
       "\t  7907 & Audi & V8         & 1991 & Midsize Cars & Manual 5-spd    & 4-Wheel or All-Wheel Drive &  8 & 3.6 & Regular & 19 & 13\\\\\n",
       "\t  8986 & Audi & V8         & 1992 & Midsize Cars & Automatic 4-spd & 4-Wheel or All-Wheel Drive &  8 & 4.2 & Premium & 18 & 13\\\\\n",
       "\\end{tabular}\n"
      ],
      "text/markdown": [
       "\n",
       "A tibble: 157 × 12\n",
       "\n",
       "| id &lt;dbl&gt; | make &lt;chr&gt; | model &lt;chr&gt; | year &lt;dbl&gt; | class &lt;chr&gt; | trans &lt;chr&gt; | drive &lt;chr&gt; | cyl &lt;dbl&gt; | displ &lt;dbl&gt; | fuel &lt;chr&gt; | hwy &lt;dbl&gt; | cty &lt;dbl&gt; |\n",
       "|---|---|---|---|---|---|---|---|---|---|---|---|\n",
       "|  5656 | Audi | 100             | 1989 | Midsize Cars | Automatic 3-spd | Front-Wheel Drive          | 5 | 2.3 | Regular | 20 | 17 |\n",
       "|  5657 | Audi | 100             | 1989 | Midsize Cars | Manual 5-spd    | Front-Wheel Drive          | 5 | 2.3 | Regular | 23 | 16 |\n",
       "|  6784 | Audi | 100             | 1990 | Midsize Cars | Automatic 3-spd | Front-Wheel Drive          | 5 | 2.3 | Regular | 20 | 16 |\n",
       "|  6785 | Audi | 100             | 1990 | Midsize Cars | Automatic 4-spd | Front-Wheel Drive          | 5 | 2.3 | Regular | 22 | 16 |\n",
       "|  7908 | Audi | 100             | 1991 | Midsize Cars | Automatic 4-spd | Front-Wheel Drive          | 5 | 2.3 | Regular | 22 | 16 |\n",
       "|  8987 | Audi | 100             | 1992 | Midsize Cars | Automatic 4-spd | Front-Wheel Drive          | 6 | 2.8 | Premium | 23 | 15 |\n",
       "|  8988 | Audi | 100             | 1992 | Midsize Cars | Automatic 4-spd | Front-Wheel Drive          | 6 | 2.8 | Premium | 22 | 17 |\n",
       "|  8989 | Audi | 100             | 1992 | Midsize Cars | Manual 5-spd    | Front-Wheel Drive          | 6 | 2.8 | Premium | 24 | 17 |\n",
       "| 10013 | Audi | 100             | 1993 | Midsize Cars | Automatic 4-spd | Front-Wheel Drive          | 6 | 2.8 | Premium | 22 | 17 |\n",
       "| 10014 | Audi | 100             | 1993 | Midsize Cars | Manual 5-spd    | Front-Wheel Drive          | 6 | 2.8 | Premium | 24 | 17 |\n",
       "|  5658 | Audi | 100 quattro     | 1989 | Midsize Cars | Manual 5-spd    | 4-Wheel or All-Wheel Drive | 5 | 2.3 | Regular | 22 | 16 |\n",
       "|  6786 | Audi | 100 quattro     | 1990 | Midsize Cars | Manual 5-spd    | 4-Wheel or All-Wheel Drive | 5 | 2.3 | Regular | 22 | 16 |\n",
       "|  7909 | Audi | 100 quattro     | 1991 | Midsize Cars | Manual 5-spd    | 4-Wheel or All-Wheel Drive | 5 | 2.3 | Regular | 22 | 16 |\n",
       "|  8990 | Audi | 100 quattro     | 1992 | Midsize Cars | Automatic 4-spd | 4-Wheel or All-Wheel Drive | 6 | 2.8 | Premium | 20 | 16 |\n",
       "|  8991 | Audi | 100 quattro     | 1992 | Midsize Cars | Manual 5-spd    | 4-Wheel or All-Wheel Drive | 6 | 2.8 | Premium | 21 | 16 |\n",
       "|  5659 | Audi | 200             | 1989 | Midsize Cars | Automatic 3-spd | Front-Wheel Drive          | 5 | 2.2 | Regular | 20 | 16 |\n",
       "|  5660 | Audi | 200             | 1989 | Midsize Cars | Manual 5-spd    | Front-Wheel Drive          | 5 | 2.2 | Regular | 24 | 16 |\n",
       "|  6787 | Audi | 200             | 1990 | Midsize Cars | Automatic 3-spd | Front-Wheel Drive          | 5 | 2.2 | Regular | 20 | 16 |\n",
       "|  7910 | Audi | 200             | 1991 | Midsize Cars | Automatic 3-spd | Front-Wheel Drive          | 5 | 2.2 | Regular | 20 | 16 |\n",
       "|  5661 | Audi | 200 quattro     | 1989 | Midsize Cars | Manual 5-spd    | 4-Wheel or All-Wheel Drive | 5 | 2.2 | Regular | 23 | 15 |\n",
       "|  6788 | Audi | 200 quattro     | 1990 | Midsize Cars | Manual 5-spd    | 4-Wheel or All-Wheel Drive | 5 | 2.2 | Regular | 23 | 15 |\n",
       "|  7911 | Audi | 200 quattro 20v | 1991 | Midsize Cars | Manual 5-spd    | 4-Wheel or All-Wheel Drive | 5 | 2.2 | Regular | 22 | 16 |\n",
       "|  2091 | Audi | 5000 CS quattro | 1986 | Midsize Cars | Manual 5-spd    | 4-Wheel or All-Wheel Drive | 5 | 2.2 | Regular | 23 | 15 |\n",
       "|  3348 | Audi | 5000 CS quattro | 1987 | Midsize Cars | Manual 5-spd    | 4-Wheel or All-Wheel Drive | 5 | 2.2 | Regular | 23 | 15 |\n",
       "|  4528 | Audi | 5000 CS quattro | 1988 | Midsize Cars | Manual 5-spd    | 4-Wheel or All-Wheel Drive | 5 | 2.2 | Regular | 23 | 15 |\n",
       "|  3349 | Audi | 5000 CS Turbo   | 1987 | Midsize Cars | Automatic 3-spd | Front-Wheel Drive          | 5 | 2.2 | Regular | 20 | 16 |\n",
       "|  3350 | Audi | 5000 CS Turbo   | 1987 | Midsize Cars | Manual 5-spd    | Front-Wheel Drive          | 5 | 2.2 | Regular | 24 | 16 |\n",
       "|  4529 | Audi | 5000 CS Turbo   | 1988 | Midsize Cars | Automatic 3-spd | Front-Wheel Drive          | 5 | 2.2 | Regular | 20 | 16 |\n",
       "|  4530 | Audi | 5000 CS Turbo   | 1988 | Midsize Cars | Manual 5-spd    | Front-Wheel Drive          | 5 | 2.2 | Regular | 24 | 16 |\n",
       "|  2092 | Audi | 5000 S          | 1986 | Midsize Cars | Automatic 3-spd | Front-Wheel Drive          | 5 | 2.2 | Regular | 20 | 16 |\n",
       "| ⋮ | ⋮ | ⋮ | ⋮ | ⋮ | ⋮ | ⋮ | ⋮ | ⋮ | ⋮ | ⋮ | ⋮ |\n",
       "| 15074 | Audi | A8 quattro | 1999 | Midsize Cars | Automatic 5-spd | 4-Wheel or All-Wheel Drive |  8 | 4.2 | Premium | 23 | 15 |\n",
       "| 15879 | Audi | A8 quattro | 2000 | Midsize Cars | Automatic 5-spd | 4-Wheel or All-Wheel Drive |  8 | 4.2 | Premium | 22 | 15 |\n",
       "| 16741 | Audi | A8 quattro | 2001 | Midsize Cars | Automatic (S5)  | 4-Wheel or All-Wheel Drive |  8 | 4.2 | Premium | 23 | 15 |\n",
       "| 17671 | Audi | A8 quattro | 2002 | Midsize Cars | Automatic (S5)  | 4-Wheel or All-Wheel Drive |  8 | 4.2 | Premium | 23 | 15 |\n",
       "| 33830 | Audi | RS 7       | 2014 | Midsize Cars | Automatic (S8)  | All-Wheel Drive            |  8 | 4.0 | Premium | 27 | 16 |\n",
       "| 19328 | Audi | RS6        | 2003 | Midsize Cars | Automatic (S5)  | 4-Wheel or All-Wheel Drive |  8 | 4.2 | Premium | 20 | 14 |\n",
       "|  8985 | Audi | S4         | 1992 | Midsize Cars | Manual 5-spd    | 4-Wheel or All-Wheel Drive |  5 | 2.2 | Premium | 22 | 16 |\n",
       "| 23554 | Audi | S6         | 2007 | Midsize Cars | Automatic (S6)  | 4-Wheel or All-Wheel Drive | 10 | 5.2 | Premium | 19 | 14 |\n",
       "| 24353 | Audi | S6         | 2008 | Midsize Cars | Automatic (S6)  | 4-Wheel or All-Wheel Drive | 10 | 5.2 | Premium | 19 | 14 |\n",
       "| 25950 | Audi | S6         | 2009 | Midsize Cars | Automatic (S6)  | 4-Wheel or All-Wheel Drive | 10 | 5.2 | Premium | 19 | 14 |\n",
       "| 28621 | Audi | S6         | 2010 | Midsize Cars | Automatic (S6)  | All-Wheel Drive            | 10 | 5.2 | Premium | 19 | 14 |\n",
       "| 30357 | Audi | S6         | 2011 | Midsize Cars | Automatic (S6)  | All-Wheel Drive            | 10 | 5.2 | Premium | 21 | 14 |\n",
       "| 32959 | Audi | S6         | 2013 | Midsize Cars | Auto(AM-S7)     | All-Wheel Drive            |  8 | 4.0 | Premium | 27 | 17 |\n",
       "| 33829 | Audi | S6         | 2014 | Midsize Cars | Auto(AM-S7)     | All-Wheel Drive            |  8 | 4.0 | Premium | 27 | 17 |\n",
       "| 32958 | Audi | S7         | 2013 | Midsize Cars | Auto(AM-S7)     | All-Wheel Drive            |  8 | 4.0 | Premium | 27 | 17 |\n",
       "| 33828 | Audi | S7         | 2014 | Midsize Cars | Auto(AM-S7)     | All-Wheel Drive            |  8 | 4.0 | Premium | 27 | 17 |\n",
       "| 18637 | Audi | S8         | 2003 | Midsize Cars | Automatic (S5)  | 4-Wheel or All-Wheel Drive |  8 | 4.2 | Premium | 20 | 14 |\n",
       "| 23555 | Audi | S8         | 2007 | Midsize Cars | Automatic (S6)  | 4-Wheel or All-Wheel Drive | 10 | 5.2 | Premium | 19 | 13 |\n",
       "| 24354 | Audi | S8         | 2008 | Midsize Cars | Automatic (S6)  | 4-Wheel or All-Wheel Drive | 10 | 5.2 | Premium | 19 | 13 |\n",
       "| 25951 | Audi | S8         | 2009 | Midsize Cars | Automatic (S6)  | 4-Wheel or All-Wheel Drive | 10 | 5.2 | Premium | 19 | 13 |\n",
       "| 33163 | Audi | S8         | 2013 | Midsize Cars | Automatic (S8)  | All-Wheel Drive            |  8 | 4.0 | Premium | 26 | 15 |\n",
       "| 33827 | Audi | S8         | 2014 | Midsize Cars | Automatic (S8)  | All-Wheel Drive            |  8 | 4.0 | Premium | 26 | 15 |\n",
       "| 34924 | Audi | S8         | 2015 | Midsize Cars | Automatic (S8)  | All-Wheel Drive            |  8 | 4.0 | Premium | 27 | 17 |\n",
       "| 16742 | Audi | S8 quattro | 2001 | Midsize Cars | Automatic 5-spd | 4-Wheel or All-Wheel Drive |  8 | 4.2 | Premium | 20 | 13 |\n",
       "| 17672 | Audi | S8 quattro | 2002 | Midsize Cars | Automatic (S5)  | 4-Wheel or All-Wheel Drive |  8 | 4.2 | Premium | 20 | 13 |\n",
       "|  6782 | Audi | V8         | 1990 | Midsize Cars | Automatic 4-spd | 4-Wheel or All-Wheel Drive |  8 | 3.6 | Regular | 17 | 13 |\n",
       "|  6783 | Audi | V8         | 1990 | Midsize Cars | Manual 5-spd    | 4-Wheel or All-Wheel Drive |  8 | 3.6 | Regular | 19 | 13 |\n",
       "|  7906 | Audi | V8         | 1991 | Midsize Cars | Automatic 4-spd | 4-Wheel or All-Wheel Drive |  8 | 3.6 | Regular | 19 | 14 |\n",
       "|  7907 | Audi | V8         | 1991 | Midsize Cars | Manual 5-spd    | 4-Wheel or All-Wheel Drive |  8 | 3.6 | Regular | 19 | 13 |\n",
       "|  8986 | Audi | V8         | 1992 | Midsize Cars | Automatic 4-spd | 4-Wheel or All-Wheel Drive |  8 | 4.2 | Premium | 18 | 13 |\n",
       "\n"
      ],
      "text/plain": [
       "    id    make model           year class        trans          \n",
       "1    5656 Audi 100             1989 Midsize Cars Automatic 3-spd\n",
       "2    5657 Audi 100             1989 Midsize Cars Manual 5-spd   \n",
       "3    6784 Audi 100             1990 Midsize Cars Automatic 3-spd\n",
       "4    6785 Audi 100             1990 Midsize Cars Automatic 4-spd\n",
       "5    7908 Audi 100             1991 Midsize Cars Automatic 4-spd\n",
       "6    8987 Audi 100             1992 Midsize Cars Automatic 4-spd\n",
       "7    8988 Audi 100             1992 Midsize Cars Automatic 4-spd\n",
       "8    8989 Audi 100             1992 Midsize Cars Manual 5-spd   \n",
       "9   10013 Audi 100             1993 Midsize Cars Automatic 4-spd\n",
       "10  10014 Audi 100             1993 Midsize Cars Manual 5-spd   \n",
       "11   5658 Audi 100 quattro     1989 Midsize Cars Manual 5-spd   \n",
       "12   6786 Audi 100 quattro     1990 Midsize Cars Manual 5-spd   \n",
       "13   7909 Audi 100 quattro     1991 Midsize Cars Manual 5-spd   \n",
       "14   8990 Audi 100 quattro     1992 Midsize Cars Automatic 4-spd\n",
       "15   8991 Audi 100 quattro     1992 Midsize Cars Manual 5-spd   \n",
       "16   5659 Audi 200             1989 Midsize Cars Automatic 3-spd\n",
       "17   5660 Audi 200             1989 Midsize Cars Manual 5-spd   \n",
       "18   6787 Audi 200             1990 Midsize Cars Automatic 3-spd\n",
       "19   7910 Audi 200             1991 Midsize Cars Automatic 3-spd\n",
       "20   5661 Audi 200 quattro     1989 Midsize Cars Manual 5-spd   \n",
       "21   6788 Audi 200 quattro     1990 Midsize Cars Manual 5-spd   \n",
       "22   7911 Audi 200 quattro 20v 1991 Midsize Cars Manual 5-spd   \n",
       "23   2091 Audi 5000 CS quattro 1986 Midsize Cars Manual 5-spd   \n",
       "24   3348 Audi 5000 CS quattro 1987 Midsize Cars Manual 5-spd   \n",
       "25   4528 Audi 5000 CS quattro 1988 Midsize Cars Manual 5-spd   \n",
       "26   3349 Audi 5000 CS Turbo   1987 Midsize Cars Automatic 3-spd\n",
       "27   3350 Audi 5000 CS Turbo   1987 Midsize Cars Manual 5-spd   \n",
       "28   4529 Audi 5000 CS Turbo   1988 Midsize Cars Automatic 3-spd\n",
       "29   4530 Audi 5000 CS Turbo   1988 Midsize Cars Manual 5-spd   \n",
       "30   2092 Audi 5000 S          1986 Midsize Cars Automatic 3-spd\n",
       "⋮   ⋮     ⋮    ⋮               ⋮    ⋮            ⋮              \n",
       "128 15074 Audi A8 quattro      1999 Midsize Cars Automatic 5-spd\n",
       "129 15879 Audi A8 quattro      2000 Midsize Cars Automatic 5-spd\n",
       "130 16741 Audi A8 quattro      2001 Midsize Cars Automatic (S5) \n",
       "131 17671 Audi A8 quattro      2002 Midsize Cars Automatic (S5) \n",
       "132 33830 Audi RS 7            2014 Midsize Cars Automatic (S8) \n",
       "133 19328 Audi RS6             2003 Midsize Cars Automatic (S5) \n",
       "134  8985 Audi S4              1992 Midsize Cars Manual 5-spd   \n",
       "135 23554 Audi S6              2007 Midsize Cars Automatic (S6) \n",
       "136 24353 Audi S6              2008 Midsize Cars Automatic (S6) \n",
       "137 25950 Audi S6              2009 Midsize Cars Automatic (S6) \n",
       "138 28621 Audi S6              2010 Midsize Cars Automatic (S6) \n",
       "139 30357 Audi S6              2011 Midsize Cars Automatic (S6) \n",
       "140 32959 Audi S6              2013 Midsize Cars Auto(AM-S7)    \n",
       "141 33829 Audi S6              2014 Midsize Cars Auto(AM-S7)    \n",
       "142 32958 Audi S7              2013 Midsize Cars Auto(AM-S7)    \n",
       "143 33828 Audi S7              2014 Midsize Cars Auto(AM-S7)    \n",
       "144 18637 Audi S8              2003 Midsize Cars Automatic (S5) \n",
       "145 23555 Audi S8              2007 Midsize Cars Automatic (S6) \n",
       "146 24354 Audi S8              2008 Midsize Cars Automatic (S6) \n",
       "147 25951 Audi S8              2009 Midsize Cars Automatic (S6) \n",
       "148 33163 Audi S8              2013 Midsize Cars Automatic (S8) \n",
       "149 33827 Audi S8              2014 Midsize Cars Automatic (S8) \n",
       "150 34924 Audi S8              2015 Midsize Cars Automatic (S8) \n",
       "151 16742 Audi S8 quattro      2001 Midsize Cars Automatic 5-spd\n",
       "152 17672 Audi S8 quattro      2002 Midsize Cars Automatic (S5) \n",
       "153  6782 Audi V8              1990 Midsize Cars Automatic 4-spd\n",
       "154  6783 Audi V8              1990 Midsize Cars Manual 5-spd   \n",
       "155  7906 Audi V8              1991 Midsize Cars Automatic 4-spd\n",
       "156  7907 Audi V8              1991 Midsize Cars Manual 5-spd   \n",
       "157  8986 Audi V8              1992 Midsize Cars Automatic 4-spd\n",
       "    drive                      cyl displ fuel    hwy cty\n",
       "1   Front-Wheel Drive          5   2.3   Regular 20  17 \n",
       "2   Front-Wheel Drive          5   2.3   Regular 23  16 \n",
       "3   Front-Wheel Drive          5   2.3   Regular 20  16 \n",
       "4   Front-Wheel Drive          5   2.3   Regular 22  16 \n",
       "5   Front-Wheel Drive          5   2.3   Regular 22  16 \n",
       "6   Front-Wheel Drive          6   2.8   Premium 23  15 \n",
       "7   Front-Wheel Drive          6   2.8   Premium 22  17 \n",
       "8   Front-Wheel Drive          6   2.8   Premium 24  17 \n",
       "9   Front-Wheel Drive          6   2.8   Premium 22  17 \n",
       "10  Front-Wheel Drive          6   2.8   Premium 24  17 \n",
       "11  4-Wheel or All-Wheel Drive 5   2.3   Regular 22  16 \n",
       "12  4-Wheel or All-Wheel Drive 5   2.3   Regular 22  16 \n",
       "13  4-Wheel or All-Wheel Drive 5   2.3   Regular 22  16 \n",
       "14  4-Wheel or All-Wheel Drive 6   2.8   Premium 20  16 \n",
       "15  4-Wheel or All-Wheel Drive 6   2.8   Premium 21  16 \n",
       "16  Front-Wheel Drive          5   2.2   Regular 20  16 \n",
       "17  Front-Wheel Drive          5   2.2   Regular 24  16 \n",
       "18  Front-Wheel Drive          5   2.2   Regular 20  16 \n",
       "19  Front-Wheel Drive          5   2.2   Regular 20  16 \n",
       "20  4-Wheel or All-Wheel Drive 5   2.2   Regular 23  15 \n",
       "21  4-Wheel or All-Wheel Drive 5   2.2   Regular 23  15 \n",
       "22  4-Wheel or All-Wheel Drive 5   2.2   Regular 22  16 \n",
       "23  4-Wheel or All-Wheel Drive 5   2.2   Regular 23  15 \n",
       "24  4-Wheel or All-Wheel Drive 5   2.2   Regular 23  15 \n",
       "25  4-Wheel or All-Wheel Drive 5   2.2   Regular 23  15 \n",
       "26  Front-Wheel Drive          5   2.2   Regular 20  16 \n",
       "27  Front-Wheel Drive          5   2.2   Regular 24  16 \n",
       "28  Front-Wheel Drive          5   2.2   Regular 20  16 \n",
       "29  Front-Wheel Drive          5   2.2   Regular 24  16 \n",
       "30  Front-Wheel Drive          5   2.2   Regular 20  16 \n",
       "⋮   ⋮                          ⋮   ⋮     ⋮       ⋮   ⋮  \n",
       "128 4-Wheel or All-Wheel Drive  8  4.2   Premium 23  15 \n",
       "129 4-Wheel or All-Wheel Drive  8  4.2   Premium 22  15 \n",
       "130 4-Wheel or All-Wheel Drive  8  4.2   Premium 23  15 \n",
       "131 4-Wheel or All-Wheel Drive  8  4.2   Premium 23  15 \n",
       "132 All-Wheel Drive             8  4.0   Premium 27  16 \n",
       "133 4-Wheel or All-Wheel Drive  8  4.2   Premium 20  14 \n",
       "134 4-Wheel or All-Wheel Drive  5  2.2   Premium 22  16 \n",
       "135 4-Wheel or All-Wheel Drive 10  5.2   Premium 19  14 \n",
       "136 4-Wheel or All-Wheel Drive 10  5.2   Premium 19  14 \n",
       "137 4-Wheel or All-Wheel Drive 10  5.2   Premium 19  14 \n",
       "138 All-Wheel Drive            10  5.2   Premium 19  14 \n",
       "139 All-Wheel Drive            10  5.2   Premium 21  14 \n",
       "140 All-Wheel Drive             8  4.0   Premium 27  17 \n",
       "141 All-Wheel Drive             8  4.0   Premium 27  17 \n",
       "142 All-Wheel Drive             8  4.0   Premium 27  17 \n",
       "143 All-Wheel Drive             8  4.0   Premium 27  17 \n",
       "144 4-Wheel or All-Wheel Drive  8  4.2   Premium 20  14 \n",
       "145 4-Wheel or All-Wheel Drive 10  5.2   Premium 19  13 \n",
       "146 4-Wheel or All-Wheel Drive 10  5.2   Premium 19  13 \n",
       "147 4-Wheel or All-Wheel Drive 10  5.2   Premium 19  13 \n",
       "148 All-Wheel Drive             8  4.0   Premium 26  15 \n",
       "149 All-Wheel Drive             8  4.0   Premium 26  15 \n",
       "150 All-Wheel Drive             8  4.0   Premium 27  17 \n",
       "151 4-Wheel or All-Wheel Drive  8  4.2   Premium 20  13 \n",
       "152 4-Wheel or All-Wheel Drive  8  4.2   Premium 20  13 \n",
       "153 4-Wheel or All-Wheel Drive  8  3.6   Regular 17  13 \n",
       "154 4-Wheel or All-Wheel Drive  8  3.6   Regular 19  13 \n",
       "155 4-Wheel or All-Wheel Drive  8  3.6   Regular 19  14 \n",
       "156 4-Wheel or All-Wheel Drive  8  3.6   Regular 19  13 \n",
       "157 4-Wheel or All-Wheel Drive  8  4.2   Premium 18  13 "
      ]
     },
     "metadata": {},
     "output_type": "display_data"
    }
   ],
   "source": [
    "#str(vehicles)\n",
    "\n",
    "Audi_midsize <- vehicles %>%\n",
    "   filter(make == 'Audi' & class == 'Midsize Cars')\n",
    "\n",
    "Audi_midsize"
   ]
  },
  {
   "cell_type": "code",
   "execution_count": 37,
   "id": "da7855d5-ba74-43e3-9509-07f66b8560ac",
   "metadata": {
    "collapsed": true,
    "jupyter": {
     "outputs_hidden": true
    },
    "scrolled": true
   },
   "outputs": [
    {
     "data": {
      "text/html": [
       "<table class=\"dataframe\">\n",
       "<caption>A tibble: 97 × 12</caption>\n",
       "<thead>\n",
       "\t<tr><th scope=col>id</th><th scope=col>make</th><th scope=col>model</th><th scope=col>year</th><th scope=col>class</th><th scope=col>trans</th><th scope=col>drive</th><th scope=col>cyl</th><th scope=col>displ</th><th scope=col>fuel</th><th scope=col>hwy</th><th scope=col>cty</th></tr>\n",
       "\t<tr><th scope=col>&lt;dbl&gt;</th><th scope=col>&lt;chr&gt;</th><th scope=col>&lt;chr&gt;</th><th scope=col>&lt;dbl&gt;</th><th scope=col>&lt;chr&gt;</th><th scope=col>&lt;chr&gt;</th><th scope=col>&lt;chr&gt;</th><th scope=col>&lt;dbl&gt;</th><th scope=col>&lt;dbl&gt;</th><th scope=col>&lt;chr&gt;</th><th scope=col>&lt;dbl&gt;</th><th scope=col>&lt;dbl&gt;</th></tr>\n",
       "</thead>\n",
       "<tbody>\n",
       "\t<tr><td> 6871</td><td>Volkswagen</td><td>Passat</td><td>1990</td><td>Midsize Cars</td><td>Automatic 4-spd</td><td>Front-Wheel Drive</td><td>4</td><td>2.0</td><td>Regular</td><td>26</td><td>18</td></tr>\n",
       "\t<tr><td> 6872</td><td>Volkswagen</td><td>Passat</td><td>1990</td><td>Midsize Cars</td><td>Manual 5-spd   </td><td>Front-Wheel Drive</td><td>4</td><td>2.0</td><td>Regular</td><td>27</td><td>18</td></tr>\n",
       "\t<tr><td> 8005</td><td>Volkswagen</td><td>Passat</td><td>1991</td><td>Midsize Cars</td><td>Automatic 4-spd</td><td>Front-Wheel Drive</td><td>4</td><td>2.0</td><td>Regular</td><td>26</td><td>18</td></tr>\n",
       "\t<tr><td> 8006</td><td>Volkswagen</td><td>Passat</td><td>1991</td><td>Midsize Cars</td><td>Manual 5-spd   </td><td>Front-Wheel Drive</td><td>4</td><td>2.0</td><td>Regular</td><td>27</td><td>18</td></tr>\n",
       "\t<tr><td> 9077</td><td>Volkswagen</td><td>Passat</td><td>1992</td><td>Midsize Cars</td><td>Automatic 4-spd</td><td>Front-Wheel Drive</td><td>4</td><td>2.0</td><td>Regular</td><td>26</td><td>18</td></tr>\n",
       "\t<tr><td> 9078</td><td>Volkswagen</td><td>Passat</td><td>1992</td><td>Midsize Cars</td><td>Manual 5-spd   </td><td>Front-Wheel Drive</td><td>4</td><td>2.0</td><td>Regular</td><td>28</td><td>18</td></tr>\n",
       "\t<tr><td>10094</td><td>Volkswagen</td><td>Passat</td><td>1993</td><td>Midsize Cars</td><td>Automatic 4-spd</td><td>Front-Wheel Drive</td><td>4</td><td>2.0</td><td>Regular</td><td>26</td><td>18</td></tr>\n",
       "\t<tr><td>10095</td><td>Volkswagen</td><td>Passat</td><td>1993</td><td>Midsize Cars</td><td>Manual 5-spd   </td><td>Front-Wheel Drive</td><td>4</td><td>2.0</td><td>Regular</td><td>28</td><td>18</td></tr>\n",
       "\t<tr><td>10096</td><td>Volkswagen</td><td>Passat</td><td>1993</td><td>Midsize Cars</td><td>Automatic 4-spd</td><td>Front-Wheel Drive</td><td>6</td><td>2.8</td><td>Regular</td><td>22</td><td>15</td></tr>\n",
       "\t<tr><td>10097</td><td>Volkswagen</td><td>Passat</td><td>1993</td><td>Midsize Cars</td><td>Manual 5-spd   </td><td>Front-Wheel Drive</td><td>6</td><td>2.8</td><td>Regular</td><td>25</td><td>17</td></tr>\n",
       "\t<tr><td>29021</td><td>Volkswagen</td><td>Passat</td><td>1993</td><td>Midsize Cars</td><td>Automatic 4-spd</td><td>Front-Wheel Drive</td><td>4</td><td>2.0</td><td>Regular</td><td>26</td><td>18</td></tr>\n",
       "\t<tr><td>29022</td><td>Volkswagen</td><td>Passat</td><td>1993</td><td>Midsize Cars</td><td>Automatic 4-spd</td><td>Front-Wheel Drive</td><td>6</td><td>2.8</td><td>Regular</td><td>23</td><td>16</td></tr>\n",
       "\t<tr><td>12004</td><td>Volkswagen</td><td>Passat</td><td>1995</td><td>Midsize Cars</td><td>Automatic 4-spd</td><td>Front-Wheel Drive</td><td>4</td><td>2.0</td><td>Regular</td><td>25</td><td>18</td></tr>\n",
       "\t<tr><td>12005</td><td>Volkswagen</td><td>Passat</td><td>1995</td><td>Midsize Cars</td><td>Manual 5-spd   </td><td>Front-Wheel Drive</td><td>4</td><td>2.0</td><td>Regular</td><td>27</td><td>18</td></tr>\n",
       "\t<tr><td>12006</td><td>Volkswagen</td><td>Passat</td><td>1995</td><td>Midsize Cars</td><td>Automatic 4-spd</td><td>Front-Wheel Drive</td><td>6</td><td>2.8</td><td>Regular</td><td>23</td><td>16</td></tr>\n",
       "\t<tr><td>12007</td><td>Volkswagen</td><td>Passat</td><td>1995</td><td>Midsize Cars</td><td>Manual 5-spd   </td><td>Front-Wheel Drive</td><td>6</td><td>2.8</td><td>Regular</td><td>23</td><td>16</td></tr>\n",
       "\t<tr><td>12860</td><td>Volkswagen</td><td>Passat</td><td>1996</td><td>Midsize Cars</td><td>Manual 5-spd   </td><td>Front-Wheel Drive</td><td>4</td><td>1.9</td><td>Diesel </td><td>41</td><td>31</td></tr>\n",
       "\t<tr><td>12861</td><td>Volkswagen</td><td>Passat</td><td>1996</td><td>Midsize Cars</td><td>Automatic 4-spd</td><td>Front-Wheel Drive</td><td>4</td><td>2.0</td><td>Regular</td><td>25</td><td>18</td></tr>\n",
       "\t<tr><td>12862</td><td>Volkswagen</td><td>Passat</td><td>1996</td><td>Midsize Cars</td><td>Manual 5-spd   </td><td>Front-Wheel Drive</td><td>4</td><td>2.0</td><td>Regular</td><td>26</td><td>18</td></tr>\n",
       "\t<tr><td>12863</td><td>Volkswagen</td><td>Passat</td><td>1996</td><td>Midsize Cars</td><td>Automatic 4-spd</td><td>Front-Wheel Drive</td><td>6</td><td>2.8</td><td>Regular</td><td>23</td><td>16</td></tr>\n",
       "\t<tr><td>12864</td><td>Volkswagen</td><td>Passat</td><td>1996</td><td>Midsize Cars</td><td>Manual 5-spd   </td><td>Front-Wheel Drive</td><td>6</td><td>2.8</td><td>Regular</td><td>24</td><td>17</td></tr>\n",
       "\t<tr><td>13609</td><td>Volkswagen</td><td>Passat</td><td>1997</td><td>Midsize Cars</td><td>Manual 5-spd   </td><td>Front-Wheel Drive</td><td>4</td><td>1.9</td><td>Diesel </td><td>42</td><td>32</td></tr>\n",
       "\t<tr><td>13610</td><td>Volkswagen</td><td>Passat</td><td>1997</td><td>Midsize Cars</td><td>Automatic 4-spd</td><td>Front-Wheel Drive</td><td>6</td><td>2.8</td><td>Regular</td><td>23</td><td>16</td></tr>\n",
       "\t<tr><td>13611</td><td>Volkswagen</td><td>Passat</td><td>1997</td><td>Midsize Cars</td><td>Manual 5-spd   </td><td>Front-Wheel Drive</td><td>6</td><td>2.8</td><td>Regular</td><td>24</td><td>17</td></tr>\n",
       "\t<tr><td>14363</td><td>Volkswagen</td><td>Passat</td><td>1998</td><td>Midsize Cars</td><td>Automatic 5-spd</td><td>Front-Wheel Drive</td><td>4</td><td>1.8</td><td>Premium</td><td>28</td><td>18</td></tr>\n",
       "\t<tr><td>14364</td><td>Volkswagen</td><td>Passat</td><td>1998</td><td>Midsize Cars</td><td>Manual 5-spd   </td><td>Front-Wheel Drive</td><td>4</td><td>1.8</td><td>Premium</td><td>29</td><td>20</td></tr>\n",
       "\t<tr><td>14365</td><td>Volkswagen</td><td>Passat</td><td>1998</td><td>Midsize Cars</td><td>Automatic 4-spd</td><td>Front-Wheel Drive</td><td>4</td><td>1.9</td><td>Diesel </td><td>39</td><td>27</td></tr>\n",
       "\t<tr><td>14366</td><td>Volkswagen</td><td>Passat</td><td>1998</td><td>Midsize Cars</td><td>Manual 5-spd   </td><td>Front-Wheel Drive</td><td>4</td><td>1.9</td><td>Diesel </td><td>45</td><td>32</td></tr>\n",
       "\t<tr><td>14367</td><td>Volkswagen</td><td>Passat</td><td>1998</td><td>Midsize Cars</td><td>Automatic 5-spd</td><td>Front-Wheel Drive</td><td>6</td><td>2.8</td><td>Premium</td><td>26</td><td>16</td></tr>\n",
       "\t<tr><td>14368</td><td>Volkswagen</td><td>Passat</td><td>1998</td><td>Midsize Cars</td><td>Manual 5-spd   </td><td>Front-Wheel Drive</td><td>6</td><td>2.8</td><td>Premium</td><td>26</td><td>18</td></tr>\n",
       "\t<tr><td>⋮</td><td>⋮</td><td>⋮</td><td>⋮</td><td>⋮</td><td>⋮</td><td>⋮</td><td>⋮</td><td>⋮</td><td>⋮</td><td>⋮</td><td>⋮</td></tr>\n",
       "\t<tr><td>22828</td><td>Volkswagen</td><td>Passat        </td><td>2007</td><td>Midsize Cars</td><td>Automatic (S6) </td><td>Front-Wheel Drive         </td><td>6</td><td>3.6</td><td>Premium</td><td>26</td><td>17</td></tr>\n",
       "\t<tr><td>24405</td><td>Volkswagen</td><td>Passat        </td><td>2008</td><td>Midsize Cars</td><td>Manual 6-spd   </td><td>Front-Wheel Drive         </td><td>4</td><td>2.0</td><td>Premium</td><td>29</td><td>20</td></tr>\n",
       "\t<tr><td>24406</td><td>Volkswagen</td><td>Passat        </td><td>2008</td><td>Midsize Cars</td><td>Automatic (S6) </td><td>Front-Wheel Drive         </td><td>4</td><td>2.0</td><td>Premium</td><td>28</td><td>19</td></tr>\n",
       "\t<tr><td>24407</td><td>Volkswagen</td><td>Passat        </td><td>2008</td><td>Midsize Cars</td><td>Automatic (S6) </td><td>Front-Wheel Drive         </td><td>6</td><td>3.6</td><td>Premium</td><td>26</td><td>17</td></tr>\n",
       "\t<tr><td>25279</td><td>Volkswagen</td><td>Passat        </td><td>2009</td><td>Midsize Cars</td><td>Automatic (S6) </td><td>Front-Wheel Drive         </td><td>4</td><td>2.0</td><td>Premium</td><td>29</td><td>19</td></tr>\n",
       "\t<tr><td>28649</td><td>Volkswagen</td><td>Passat        </td><td>2010</td><td>Midsize Cars</td><td>Automatic (S6) </td><td>Front-Wheel Drive         </td><td>4</td><td>2.0</td><td>Premium</td><td>31</td><td>22</td></tr>\n",
       "\t<tr><td>31226</td><td>Volkswagen</td><td>Passat        </td><td>2012</td><td>Midsize Cars</td><td>Manual 6-spd   </td><td>Front-Wheel Drive         </td><td>4</td><td>2.0</td><td>Diesel </td><td>43</td><td>31</td></tr>\n",
       "\t<tr><td>31585</td><td>Volkswagen</td><td>Passat        </td><td>2012</td><td>Midsize Cars</td><td>Automatic (S6) </td><td>Front-Wheel Drive         </td><td>4</td><td>2.0</td><td>Diesel </td><td>40</td><td>30</td></tr>\n",
       "\t<tr><td>31768</td><td>Volkswagen</td><td>Passat        </td><td>2012</td><td>Midsize Cars</td><td>Automatic (S6) </td><td>Front-Wheel Drive         </td><td>5</td><td>2.5</td><td>Regular</td><td>31</td><td>22</td></tr>\n",
       "\t<tr><td>31769</td><td>Volkswagen</td><td>Passat        </td><td>2012</td><td>Midsize Cars</td><td>Manual 5-spd   </td><td>Front-Wheel Drive         </td><td>5</td><td>2.5</td><td>Regular</td><td>32</td><td>22</td></tr>\n",
       "\t<tr><td>31770</td><td>Volkswagen</td><td>Passat        </td><td>2012</td><td>Midsize Cars</td><td>Automatic (S6) </td><td>Front-Wheel Drive         </td><td>6</td><td>3.6</td><td>Premium</td><td>28</td><td>20</td></tr>\n",
       "\t<tr><td>32615</td><td>Volkswagen</td><td>Passat        </td><td>2013</td><td>Midsize Cars</td><td>Auto(AM-S6)    </td><td>Front-Wheel Drive         </td><td>4</td><td>2.0</td><td>Diesel </td><td>40</td><td>30</td></tr>\n",
       "\t<tr><td>32616</td><td>Volkswagen</td><td>Passat        </td><td>2013</td><td>Midsize Cars</td><td>Auto(AM-S6)    </td><td>Front-Wheel Drive         </td><td>6</td><td>3.6</td><td>Premium</td><td>28</td><td>20</td></tr>\n",
       "\t<tr><td>32617</td><td>Volkswagen</td><td>Passat        </td><td>2013</td><td>Midsize Cars</td><td>Manual 6-spd   </td><td>Front-Wheel Drive         </td><td>4</td><td>2.0</td><td>Diesel </td><td>43</td><td>31</td></tr>\n",
       "\t<tr><td>32718</td><td>Volkswagen</td><td>Passat        </td><td>2013</td><td>Midsize Cars</td><td>Manual 5-spd   </td><td>Front-Wheel Drive         </td><td>5</td><td>2.5</td><td>Regular</td><td>32</td><td>22</td></tr>\n",
       "\t<tr><td>32719</td><td>Volkswagen</td><td>Passat        </td><td>2013</td><td>Midsize Cars</td><td>Automatic (S6) </td><td>Front-Wheel Drive         </td><td>5</td><td>2.5</td><td>Regular</td><td>31</td><td>22</td></tr>\n",
       "\t<tr><td>33673</td><td>Volkswagen</td><td>Passat        </td><td>2014</td><td>Midsize Cars</td><td>Auto(AM-S6)    </td><td>Front-Wheel Drive         </td><td>6</td><td>3.6</td><td>Premium</td><td>28</td><td>20</td></tr>\n",
       "\t<tr><td>33945</td><td>Volkswagen</td><td>Passat        </td><td>2014</td><td>Midsize Cars</td><td>Auto(AM-S6)    </td><td>Front-Wheel Drive         </td><td>4</td><td>2.0</td><td>Diesel </td><td>40</td><td>30</td></tr>\n",
       "\t<tr><td>33946</td><td>Volkswagen</td><td>Passat        </td><td>2014</td><td>Midsize Cars</td><td>Manual 6-spd   </td><td>Front-Wheel Drive         </td><td>4</td><td>2.0</td><td>Diesel </td><td>43</td><td>31</td></tr>\n",
       "\t<tr><td>33947</td><td>Volkswagen</td><td>Passat        </td><td>2014</td><td>Midsize Cars</td><td>Manual 5-spd   </td><td>Front-Wheel Drive         </td><td>4</td><td>1.8</td><td>Regular</td><td>35</td><td>24</td></tr>\n",
       "\t<tr><td>33948</td><td>Volkswagen</td><td>Passat        </td><td>2014</td><td>Midsize Cars</td><td>Automatic (S6) </td><td>Front-Wheel Drive         </td><td>4</td><td>1.8</td><td>Regular</td><td>34</td><td>24</td></tr>\n",
       "\t<tr><td>33949</td><td>Volkswagen</td><td>Passat        </td><td>2014</td><td>Midsize Cars</td><td>Automatic (S6) </td><td>Front-Wheel Drive         </td><td>5</td><td>2.5</td><td>Regular</td><td>31</td><td>22</td></tr>\n",
       "\t<tr><td>33950</td><td>Volkswagen</td><td>Passat        </td><td>2014</td><td>Midsize Cars</td><td>Manual 5-spd   </td><td>Front-Wheel Drive         </td><td>5</td><td>2.5</td><td>Regular</td><td>32</td><td>22</td></tr>\n",
       "\t<tr><td>15972</td><td>Volkswagen</td><td>Passat 4motion</td><td>2000</td><td>Midsize Cars</td><td>Automatic 5-spd</td><td>4-Wheel or All-Wheel Drive</td><td>6</td><td>2.8</td><td>Premium</td><td>22</td><td>15</td></tr>\n",
       "\t<tr><td>22020</td><td>Volkswagen</td><td>Passat 4motion</td><td>2006</td><td>Midsize Cars</td><td>Automatic (S6) </td><td>4-Wheel or All-Wheel Drive</td><td>6</td><td>3.6</td><td>Premium</td><td>24</td><td>16</td></tr>\n",
       "\t<tr><td>22829</td><td>Volkswagen</td><td>Passat 4motion</td><td>2007</td><td>Midsize Cars</td><td>Automatic (S6) </td><td>4-Wheel or All-Wheel Drive</td><td>6</td><td>3.6</td><td>Premium</td><td>24</td><td>16</td></tr>\n",
       "\t<tr><td>24408</td><td>Volkswagen</td><td>Passat 4motion</td><td>2008</td><td>Midsize Cars</td><td>Automatic (S6) </td><td>4-Wheel or All-Wheel Drive</td><td>6</td><td>3.6</td><td>Premium</td><td>24</td><td>16</td></tr>\n",
       "\t<tr><td>14369</td><td>Volkswagen</td><td>Passat Syncro </td><td>1998</td><td>Midsize Cars</td><td>Automatic 5-spd</td><td>4-Wheel or All-Wheel Drive</td><td>6</td><td>2.8</td><td>Premium</td><td>24</td><td>15</td></tr>\n",
       "\t<tr><td>15163</td><td>Volkswagen</td><td>Passat Syncro </td><td>1999</td><td>Midsize Cars</td><td>Automatic 5-spd</td><td>4-Wheel or All-Wheel Drive</td><td>6</td><td>2.8</td><td>Premium</td><td>24</td><td>15</td></tr>\n",
       "\t<tr><td>29182</td><td>Volkswagen</td><td>Passat Syncro </td><td>1999</td><td>Midsize Cars</td><td>Automatic 5-spd</td><td>Front-Wheel Drive         </td><td>6</td><td>2.8</td><td>Premium</td><td>24</td><td>15</td></tr>\n",
       "</tbody>\n",
       "</table>\n"
      ],
      "text/latex": [
       "A tibble: 97 × 12\n",
       "\\begin{tabular}{llllllllllll}\n",
       " id & make & model & year & class & trans & drive & cyl & displ & fuel & hwy & cty\\\\\n",
       " <dbl> & <chr> & <chr> & <dbl> & <chr> & <chr> & <chr> & <dbl> & <dbl> & <chr> & <dbl> & <dbl>\\\\\n",
       "\\hline\n",
       "\t  6871 & Volkswagen & Passat & 1990 & Midsize Cars & Automatic 4-spd & Front-Wheel Drive & 4 & 2.0 & Regular & 26 & 18\\\\\n",
       "\t  6872 & Volkswagen & Passat & 1990 & Midsize Cars & Manual 5-spd    & Front-Wheel Drive & 4 & 2.0 & Regular & 27 & 18\\\\\n",
       "\t  8005 & Volkswagen & Passat & 1991 & Midsize Cars & Automatic 4-spd & Front-Wheel Drive & 4 & 2.0 & Regular & 26 & 18\\\\\n",
       "\t  8006 & Volkswagen & Passat & 1991 & Midsize Cars & Manual 5-spd    & Front-Wheel Drive & 4 & 2.0 & Regular & 27 & 18\\\\\n",
       "\t  9077 & Volkswagen & Passat & 1992 & Midsize Cars & Automatic 4-spd & Front-Wheel Drive & 4 & 2.0 & Regular & 26 & 18\\\\\n",
       "\t  9078 & Volkswagen & Passat & 1992 & Midsize Cars & Manual 5-spd    & Front-Wheel Drive & 4 & 2.0 & Regular & 28 & 18\\\\\n",
       "\t 10094 & Volkswagen & Passat & 1993 & Midsize Cars & Automatic 4-spd & Front-Wheel Drive & 4 & 2.0 & Regular & 26 & 18\\\\\n",
       "\t 10095 & Volkswagen & Passat & 1993 & Midsize Cars & Manual 5-spd    & Front-Wheel Drive & 4 & 2.0 & Regular & 28 & 18\\\\\n",
       "\t 10096 & Volkswagen & Passat & 1993 & Midsize Cars & Automatic 4-spd & Front-Wheel Drive & 6 & 2.8 & Regular & 22 & 15\\\\\n",
       "\t 10097 & Volkswagen & Passat & 1993 & Midsize Cars & Manual 5-spd    & Front-Wheel Drive & 6 & 2.8 & Regular & 25 & 17\\\\\n",
       "\t 29021 & Volkswagen & Passat & 1993 & Midsize Cars & Automatic 4-spd & Front-Wheel Drive & 4 & 2.0 & Regular & 26 & 18\\\\\n",
       "\t 29022 & Volkswagen & Passat & 1993 & Midsize Cars & Automatic 4-spd & Front-Wheel Drive & 6 & 2.8 & Regular & 23 & 16\\\\\n",
       "\t 12004 & Volkswagen & Passat & 1995 & Midsize Cars & Automatic 4-spd & Front-Wheel Drive & 4 & 2.0 & Regular & 25 & 18\\\\\n",
       "\t 12005 & Volkswagen & Passat & 1995 & Midsize Cars & Manual 5-spd    & Front-Wheel Drive & 4 & 2.0 & Regular & 27 & 18\\\\\n",
       "\t 12006 & Volkswagen & Passat & 1995 & Midsize Cars & Automatic 4-spd & Front-Wheel Drive & 6 & 2.8 & Regular & 23 & 16\\\\\n",
       "\t 12007 & Volkswagen & Passat & 1995 & Midsize Cars & Manual 5-spd    & Front-Wheel Drive & 6 & 2.8 & Regular & 23 & 16\\\\\n",
       "\t 12860 & Volkswagen & Passat & 1996 & Midsize Cars & Manual 5-spd    & Front-Wheel Drive & 4 & 1.9 & Diesel  & 41 & 31\\\\\n",
       "\t 12861 & Volkswagen & Passat & 1996 & Midsize Cars & Automatic 4-spd & Front-Wheel Drive & 4 & 2.0 & Regular & 25 & 18\\\\\n",
       "\t 12862 & Volkswagen & Passat & 1996 & Midsize Cars & Manual 5-spd    & Front-Wheel Drive & 4 & 2.0 & Regular & 26 & 18\\\\\n",
       "\t 12863 & Volkswagen & Passat & 1996 & Midsize Cars & Automatic 4-spd & Front-Wheel Drive & 6 & 2.8 & Regular & 23 & 16\\\\\n",
       "\t 12864 & Volkswagen & Passat & 1996 & Midsize Cars & Manual 5-spd    & Front-Wheel Drive & 6 & 2.8 & Regular & 24 & 17\\\\\n",
       "\t 13609 & Volkswagen & Passat & 1997 & Midsize Cars & Manual 5-spd    & Front-Wheel Drive & 4 & 1.9 & Diesel  & 42 & 32\\\\\n",
       "\t 13610 & Volkswagen & Passat & 1997 & Midsize Cars & Automatic 4-spd & Front-Wheel Drive & 6 & 2.8 & Regular & 23 & 16\\\\\n",
       "\t 13611 & Volkswagen & Passat & 1997 & Midsize Cars & Manual 5-spd    & Front-Wheel Drive & 6 & 2.8 & Regular & 24 & 17\\\\\n",
       "\t 14363 & Volkswagen & Passat & 1998 & Midsize Cars & Automatic 5-spd & Front-Wheel Drive & 4 & 1.8 & Premium & 28 & 18\\\\\n",
       "\t 14364 & Volkswagen & Passat & 1998 & Midsize Cars & Manual 5-spd    & Front-Wheel Drive & 4 & 1.8 & Premium & 29 & 20\\\\\n",
       "\t 14365 & Volkswagen & Passat & 1998 & Midsize Cars & Automatic 4-spd & Front-Wheel Drive & 4 & 1.9 & Diesel  & 39 & 27\\\\\n",
       "\t 14366 & Volkswagen & Passat & 1998 & Midsize Cars & Manual 5-spd    & Front-Wheel Drive & 4 & 1.9 & Diesel  & 45 & 32\\\\\n",
       "\t 14367 & Volkswagen & Passat & 1998 & Midsize Cars & Automatic 5-spd & Front-Wheel Drive & 6 & 2.8 & Premium & 26 & 16\\\\\n",
       "\t 14368 & Volkswagen & Passat & 1998 & Midsize Cars & Manual 5-spd    & Front-Wheel Drive & 6 & 2.8 & Premium & 26 & 18\\\\\n",
       "\t ⋮ & ⋮ & ⋮ & ⋮ & ⋮ & ⋮ & ⋮ & ⋮ & ⋮ & ⋮ & ⋮ & ⋮\\\\\n",
       "\t 22828 & Volkswagen & Passat         & 2007 & Midsize Cars & Automatic (S6)  & Front-Wheel Drive          & 6 & 3.6 & Premium & 26 & 17\\\\\n",
       "\t 24405 & Volkswagen & Passat         & 2008 & Midsize Cars & Manual 6-spd    & Front-Wheel Drive          & 4 & 2.0 & Premium & 29 & 20\\\\\n",
       "\t 24406 & Volkswagen & Passat         & 2008 & Midsize Cars & Automatic (S6)  & Front-Wheel Drive          & 4 & 2.0 & Premium & 28 & 19\\\\\n",
       "\t 24407 & Volkswagen & Passat         & 2008 & Midsize Cars & Automatic (S6)  & Front-Wheel Drive          & 6 & 3.6 & Premium & 26 & 17\\\\\n",
       "\t 25279 & Volkswagen & Passat         & 2009 & Midsize Cars & Automatic (S6)  & Front-Wheel Drive          & 4 & 2.0 & Premium & 29 & 19\\\\\n",
       "\t 28649 & Volkswagen & Passat         & 2010 & Midsize Cars & Automatic (S6)  & Front-Wheel Drive          & 4 & 2.0 & Premium & 31 & 22\\\\\n",
       "\t 31226 & Volkswagen & Passat         & 2012 & Midsize Cars & Manual 6-spd    & Front-Wheel Drive          & 4 & 2.0 & Diesel  & 43 & 31\\\\\n",
       "\t 31585 & Volkswagen & Passat         & 2012 & Midsize Cars & Automatic (S6)  & Front-Wheel Drive          & 4 & 2.0 & Diesel  & 40 & 30\\\\\n",
       "\t 31768 & Volkswagen & Passat         & 2012 & Midsize Cars & Automatic (S6)  & Front-Wheel Drive          & 5 & 2.5 & Regular & 31 & 22\\\\\n",
       "\t 31769 & Volkswagen & Passat         & 2012 & Midsize Cars & Manual 5-spd    & Front-Wheel Drive          & 5 & 2.5 & Regular & 32 & 22\\\\\n",
       "\t 31770 & Volkswagen & Passat         & 2012 & Midsize Cars & Automatic (S6)  & Front-Wheel Drive          & 6 & 3.6 & Premium & 28 & 20\\\\\n",
       "\t 32615 & Volkswagen & Passat         & 2013 & Midsize Cars & Auto(AM-S6)     & Front-Wheel Drive          & 4 & 2.0 & Diesel  & 40 & 30\\\\\n",
       "\t 32616 & Volkswagen & Passat         & 2013 & Midsize Cars & Auto(AM-S6)     & Front-Wheel Drive          & 6 & 3.6 & Premium & 28 & 20\\\\\n",
       "\t 32617 & Volkswagen & Passat         & 2013 & Midsize Cars & Manual 6-spd    & Front-Wheel Drive          & 4 & 2.0 & Diesel  & 43 & 31\\\\\n",
       "\t 32718 & Volkswagen & Passat         & 2013 & Midsize Cars & Manual 5-spd    & Front-Wheel Drive          & 5 & 2.5 & Regular & 32 & 22\\\\\n",
       "\t 32719 & Volkswagen & Passat         & 2013 & Midsize Cars & Automatic (S6)  & Front-Wheel Drive          & 5 & 2.5 & Regular & 31 & 22\\\\\n",
       "\t 33673 & Volkswagen & Passat         & 2014 & Midsize Cars & Auto(AM-S6)     & Front-Wheel Drive          & 6 & 3.6 & Premium & 28 & 20\\\\\n",
       "\t 33945 & Volkswagen & Passat         & 2014 & Midsize Cars & Auto(AM-S6)     & Front-Wheel Drive          & 4 & 2.0 & Diesel  & 40 & 30\\\\\n",
       "\t 33946 & Volkswagen & Passat         & 2014 & Midsize Cars & Manual 6-spd    & Front-Wheel Drive          & 4 & 2.0 & Diesel  & 43 & 31\\\\\n",
       "\t 33947 & Volkswagen & Passat         & 2014 & Midsize Cars & Manual 5-spd    & Front-Wheel Drive          & 4 & 1.8 & Regular & 35 & 24\\\\\n",
       "\t 33948 & Volkswagen & Passat         & 2014 & Midsize Cars & Automatic (S6)  & Front-Wheel Drive          & 4 & 1.8 & Regular & 34 & 24\\\\\n",
       "\t 33949 & Volkswagen & Passat         & 2014 & Midsize Cars & Automatic (S6)  & Front-Wheel Drive          & 5 & 2.5 & Regular & 31 & 22\\\\\n",
       "\t 33950 & Volkswagen & Passat         & 2014 & Midsize Cars & Manual 5-spd    & Front-Wheel Drive          & 5 & 2.5 & Regular & 32 & 22\\\\\n",
       "\t 15972 & Volkswagen & Passat 4motion & 2000 & Midsize Cars & Automatic 5-spd & 4-Wheel or All-Wheel Drive & 6 & 2.8 & Premium & 22 & 15\\\\\n",
       "\t 22020 & Volkswagen & Passat 4motion & 2006 & Midsize Cars & Automatic (S6)  & 4-Wheel or All-Wheel Drive & 6 & 3.6 & Premium & 24 & 16\\\\\n",
       "\t 22829 & Volkswagen & Passat 4motion & 2007 & Midsize Cars & Automatic (S6)  & 4-Wheel or All-Wheel Drive & 6 & 3.6 & Premium & 24 & 16\\\\\n",
       "\t 24408 & Volkswagen & Passat 4motion & 2008 & Midsize Cars & Automatic (S6)  & 4-Wheel or All-Wheel Drive & 6 & 3.6 & Premium & 24 & 16\\\\\n",
       "\t 14369 & Volkswagen & Passat Syncro  & 1998 & Midsize Cars & Automatic 5-spd & 4-Wheel or All-Wheel Drive & 6 & 2.8 & Premium & 24 & 15\\\\\n",
       "\t 15163 & Volkswagen & Passat Syncro  & 1999 & Midsize Cars & Automatic 5-spd & 4-Wheel or All-Wheel Drive & 6 & 2.8 & Premium & 24 & 15\\\\\n",
       "\t 29182 & Volkswagen & Passat Syncro  & 1999 & Midsize Cars & Automatic 5-spd & Front-Wheel Drive          & 6 & 2.8 & Premium & 24 & 15\\\\\n",
       "\\end{tabular}\n"
      ],
      "text/markdown": [
       "\n",
       "A tibble: 97 × 12\n",
       "\n",
       "| id &lt;dbl&gt; | make &lt;chr&gt; | model &lt;chr&gt; | year &lt;dbl&gt; | class &lt;chr&gt; | trans &lt;chr&gt; | drive &lt;chr&gt; | cyl &lt;dbl&gt; | displ &lt;dbl&gt; | fuel &lt;chr&gt; | hwy &lt;dbl&gt; | cty &lt;dbl&gt; |\n",
       "|---|---|---|---|---|---|---|---|---|---|---|---|\n",
       "|  6871 | Volkswagen | Passat | 1990 | Midsize Cars | Automatic 4-spd | Front-Wheel Drive | 4 | 2.0 | Regular | 26 | 18 |\n",
       "|  6872 | Volkswagen | Passat | 1990 | Midsize Cars | Manual 5-spd    | Front-Wheel Drive | 4 | 2.0 | Regular | 27 | 18 |\n",
       "|  8005 | Volkswagen | Passat | 1991 | Midsize Cars | Automatic 4-spd | Front-Wheel Drive | 4 | 2.0 | Regular | 26 | 18 |\n",
       "|  8006 | Volkswagen | Passat | 1991 | Midsize Cars | Manual 5-spd    | Front-Wheel Drive | 4 | 2.0 | Regular | 27 | 18 |\n",
       "|  9077 | Volkswagen | Passat | 1992 | Midsize Cars | Automatic 4-spd | Front-Wheel Drive | 4 | 2.0 | Regular | 26 | 18 |\n",
       "|  9078 | Volkswagen | Passat | 1992 | Midsize Cars | Manual 5-spd    | Front-Wheel Drive | 4 | 2.0 | Regular | 28 | 18 |\n",
       "| 10094 | Volkswagen | Passat | 1993 | Midsize Cars | Automatic 4-spd | Front-Wheel Drive | 4 | 2.0 | Regular | 26 | 18 |\n",
       "| 10095 | Volkswagen | Passat | 1993 | Midsize Cars | Manual 5-spd    | Front-Wheel Drive | 4 | 2.0 | Regular | 28 | 18 |\n",
       "| 10096 | Volkswagen | Passat | 1993 | Midsize Cars | Automatic 4-spd | Front-Wheel Drive | 6 | 2.8 | Regular | 22 | 15 |\n",
       "| 10097 | Volkswagen | Passat | 1993 | Midsize Cars | Manual 5-spd    | Front-Wheel Drive | 6 | 2.8 | Regular | 25 | 17 |\n",
       "| 29021 | Volkswagen | Passat | 1993 | Midsize Cars | Automatic 4-spd | Front-Wheel Drive | 4 | 2.0 | Regular | 26 | 18 |\n",
       "| 29022 | Volkswagen | Passat | 1993 | Midsize Cars | Automatic 4-spd | Front-Wheel Drive | 6 | 2.8 | Regular | 23 | 16 |\n",
       "| 12004 | Volkswagen | Passat | 1995 | Midsize Cars | Automatic 4-spd | Front-Wheel Drive | 4 | 2.0 | Regular | 25 | 18 |\n",
       "| 12005 | Volkswagen | Passat | 1995 | Midsize Cars | Manual 5-spd    | Front-Wheel Drive | 4 | 2.0 | Regular | 27 | 18 |\n",
       "| 12006 | Volkswagen | Passat | 1995 | Midsize Cars | Automatic 4-spd | Front-Wheel Drive | 6 | 2.8 | Regular | 23 | 16 |\n",
       "| 12007 | Volkswagen | Passat | 1995 | Midsize Cars | Manual 5-spd    | Front-Wheel Drive | 6 | 2.8 | Regular | 23 | 16 |\n",
       "| 12860 | Volkswagen | Passat | 1996 | Midsize Cars | Manual 5-spd    | Front-Wheel Drive | 4 | 1.9 | Diesel  | 41 | 31 |\n",
       "| 12861 | Volkswagen | Passat | 1996 | Midsize Cars | Automatic 4-spd | Front-Wheel Drive | 4 | 2.0 | Regular | 25 | 18 |\n",
       "| 12862 | Volkswagen | Passat | 1996 | Midsize Cars | Manual 5-spd    | Front-Wheel Drive | 4 | 2.0 | Regular | 26 | 18 |\n",
       "| 12863 | Volkswagen | Passat | 1996 | Midsize Cars | Automatic 4-spd | Front-Wheel Drive | 6 | 2.8 | Regular | 23 | 16 |\n",
       "| 12864 | Volkswagen | Passat | 1996 | Midsize Cars | Manual 5-spd    | Front-Wheel Drive | 6 | 2.8 | Regular | 24 | 17 |\n",
       "| 13609 | Volkswagen | Passat | 1997 | Midsize Cars | Manual 5-spd    | Front-Wheel Drive | 4 | 1.9 | Diesel  | 42 | 32 |\n",
       "| 13610 | Volkswagen | Passat | 1997 | Midsize Cars | Automatic 4-spd | Front-Wheel Drive | 6 | 2.8 | Regular | 23 | 16 |\n",
       "| 13611 | Volkswagen | Passat | 1997 | Midsize Cars | Manual 5-spd    | Front-Wheel Drive | 6 | 2.8 | Regular | 24 | 17 |\n",
       "| 14363 | Volkswagen | Passat | 1998 | Midsize Cars | Automatic 5-spd | Front-Wheel Drive | 4 | 1.8 | Premium | 28 | 18 |\n",
       "| 14364 | Volkswagen | Passat | 1998 | Midsize Cars | Manual 5-spd    | Front-Wheel Drive | 4 | 1.8 | Premium | 29 | 20 |\n",
       "| 14365 | Volkswagen | Passat | 1998 | Midsize Cars | Automatic 4-spd | Front-Wheel Drive | 4 | 1.9 | Diesel  | 39 | 27 |\n",
       "| 14366 | Volkswagen | Passat | 1998 | Midsize Cars | Manual 5-spd    | Front-Wheel Drive | 4 | 1.9 | Diesel  | 45 | 32 |\n",
       "| 14367 | Volkswagen | Passat | 1998 | Midsize Cars | Automatic 5-spd | Front-Wheel Drive | 6 | 2.8 | Premium | 26 | 16 |\n",
       "| 14368 | Volkswagen | Passat | 1998 | Midsize Cars | Manual 5-spd    | Front-Wheel Drive | 6 | 2.8 | Premium | 26 | 18 |\n",
       "| ⋮ | ⋮ | ⋮ | ⋮ | ⋮ | ⋮ | ⋮ | ⋮ | ⋮ | ⋮ | ⋮ | ⋮ |\n",
       "| 22828 | Volkswagen | Passat         | 2007 | Midsize Cars | Automatic (S6)  | Front-Wheel Drive          | 6 | 3.6 | Premium | 26 | 17 |\n",
       "| 24405 | Volkswagen | Passat         | 2008 | Midsize Cars | Manual 6-spd    | Front-Wheel Drive          | 4 | 2.0 | Premium | 29 | 20 |\n",
       "| 24406 | Volkswagen | Passat         | 2008 | Midsize Cars | Automatic (S6)  | Front-Wheel Drive          | 4 | 2.0 | Premium | 28 | 19 |\n",
       "| 24407 | Volkswagen | Passat         | 2008 | Midsize Cars | Automatic (S6)  | Front-Wheel Drive          | 6 | 3.6 | Premium | 26 | 17 |\n",
       "| 25279 | Volkswagen | Passat         | 2009 | Midsize Cars | Automatic (S6)  | Front-Wheel Drive          | 4 | 2.0 | Premium | 29 | 19 |\n",
       "| 28649 | Volkswagen | Passat         | 2010 | Midsize Cars | Automatic (S6)  | Front-Wheel Drive          | 4 | 2.0 | Premium | 31 | 22 |\n",
       "| 31226 | Volkswagen | Passat         | 2012 | Midsize Cars | Manual 6-spd    | Front-Wheel Drive          | 4 | 2.0 | Diesel  | 43 | 31 |\n",
       "| 31585 | Volkswagen | Passat         | 2012 | Midsize Cars | Automatic (S6)  | Front-Wheel Drive          | 4 | 2.0 | Diesel  | 40 | 30 |\n",
       "| 31768 | Volkswagen | Passat         | 2012 | Midsize Cars | Automatic (S6)  | Front-Wheel Drive          | 5 | 2.5 | Regular | 31 | 22 |\n",
       "| 31769 | Volkswagen | Passat         | 2012 | Midsize Cars | Manual 5-spd    | Front-Wheel Drive          | 5 | 2.5 | Regular | 32 | 22 |\n",
       "| 31770 | Volkswagen | Passat         | 2012 | Midsize Cars | Automatic (S6)  | Front-Wheel Drive          | 6 | 3.6 | Premium | 28 | 20 |\n",
       "| 32615 | Volkswagen | Passat         | 2013 | Midsize Cars | Auto(AM-S6)     | Front-Wheel Drive          | 4 | 2.0 | Diesel  | 40 | 30 |\n",
       "| 32616 | Volkswagen | Passat         | 2013 | Midsize Cars | Auto(AM-S6)     | Front-Wheel Drive          | 6 | 3.6 | Premium | 28 | 20 |\n",
       "| 32617 | Volkswagen | Passat         | 2013 | Midsize Cars | Manual 6-spd    | Front-Wheel Drive          | 4 | 2.0 | Diesel  | 43 | 31 |\n",
       "| 32718 | Volkswagen | Passat         | 2013 | Midsize Cars | Manual 5-spd    | Front-Wheel Drive          | 5 | 2.5 | Regular | 32 | 22 |\n",
       "| 32719 | Volkswagen | Passat         | 2013 | Midsize Cars | Automatic (S6)  | Front-Wheel Drive          | 5 | 2.5 | Regular | 31 | 22 |\n",
       "| 33673 | Volkswagen | Passat         | 2014 | Midsize Cars | Auto(AM-S6)     | Front-Wheel Drive          | 6 | 3.6 | Premium | 28 | 20 |\n",
       "| 33945 | Volkswagen | Passat         | 2014 | Midsize Cars | Auto(AM-S6)     | Front-Wheel Drive          | 4 | 2.0 | Diesel  | 40 | 30 |\n",
       "| 33946 | Volkswagen | Passat         | 2014 | Midsize Cars | Manual 6-spd    | Front-Wheel Drive          | 4 | 2.0 | Diesel  | 43 | 31 |\n",
       "| 33947 | Volkswagen | Passat         | 2014 | Midsize Cars | Manual 5-spd    | Front-Wheel Drive          | 4 | 1.8 | Regular | 35 | 24 |\n",
       "| 33948 | Volkswagen | Passat         | 2014 | Midsize Cars | Automatic (S6)  | Front-Wheel Drive          | 4 | 1.8 | Regular | 34 | 24 |\n",
       "| 33949 | Volkswagen | Passat         | 2014 | Midsize Cars | Automatic (S6)  | Front-Wheel Drive          | 5 | 2.5 | Regular | 31 | 22 |\n",
       "| 33950 | Volkswagen | Passat         | 2014 | Midsize Cars | Manual 5-spd    | Front-Wheel Drive          | 5 | 2.5 | Regular | 32 | 22 |\n",
       "| 15972 | Volkswagen | Passat 4motion | 2000 | Midsize Cars | Automatic 5-spd | 4-Wheel or All-Wheel Drive | 6 | 2.8 | Premium | 22 | 15 |\n",
       "| 22020 | Volkswagen | Passat 4motion | 2006 | Midsize Cars | Automatic (S6)  | 4-Wheel or All-Wheel Drive | 6 | 3.6 | Premium | 24 | 16 |\n",
       "| 22829 | Volkswagen | Passat 4motion | 2007 | Midsize Cars | Automatic (S6)  | 4-Wheel or All-Wheel Drive | 6 | 3.6 | Premium | 24 | 16 |\n",
       "| 24408 | Volkswagen | Passat 4motion | 2008 | Midsize Cars | Automatic (S6)  | 4-Wheel or All-Wheel Drive | 6 | 3.6 | Premium | 24 | 16 |\n",
       "| 14369 | Volkswagen | Passat Syncro  | 1998 | Midsize Cars | Automatic 5-spd | 4-Wheel or All-Wheel Drive | 6 | 2.8 | Premium | 24 | 15 |\n",
       "| 15163 | Volkswagen | Passat Syncro  | 1999 | Midsize Cars | Automatic 5-spd | 4-Wheel or All-Wheel Drive | 6 | 2.8 | Premium | 24 | 15 |\n",
       "| 29182 | Volkswagen | Passat Syncro  | 1999 | Midsize Cars | Automatic 5-spd | Front-Wheel Drive          | 6 | 2.8 | Premium | 24 | 15 |\n",
       "\n"
      ],
      "text/plain": [
       "   id    make       model          year class        trans          \n",
       "1   6871 Volkswagen Passat         1990 Midsize Cars Automatic 4-spd\n",
       "2   6872 Volkswagen Passat         1990 Midsize Cars Manual 5-spd   \n",
       "3   8005 Volkswagen Passat         1991 Midsize Cars Automatic 4-spd\n",
       "4   8006 Volkswagen Passat         1991 Midsize Cars Manual 5-spd   \n",
       "5   9077 Volkswagen Passat         1992 Midsize Cars Automatic 4-spd\n",
       "6   9078 Volkswagen Passat         1992 Midsize Cars Manual 5-spd   \n",
       "7  10094 Volkswagen Passat         1993 Midsize Cars Automatic 4-spd\n",
       "8  10095 Volkswagen Passat         1993 Midsize Cars Manual 5-spd   \n",
       "9  10096 Volkswagen Passat         1993 Midsize Cars Automatic 4-spd\n",
       "10 10097 Volkswagen Passat         1993 Midsize Cars Manual 5-spd   \n",
       "11 29021 Volkswagen Passat         1993 Midsize Cars Automatic 4-spd\n",
       "12 29022 Volkswagen Passat         1993 Midsize Cars Automatic 4-spd\n",
       "13 12004 Volkswagen Passat         1995 Midsize Cars Automatic 4-spd\n",
       "14 12005 Volkswagen Passat         1995 Midsize Cars Manual 5-spd   \n",
       "15 12006 Volkswagen Passat         1995 Midsize Cars Automatic 4-spd\n",
       "16 12007 Volkswagen Passat         1995 Midsize Cars Manual 5-spd   \n",
       "17 12860 Volkswagen Passat         1996 Midsize Cars Manual 5-spd   \n",
       "18 12861 Volkswagen Passat         1996 Midsize Cars Automatic 4-spd\n",
       "19 12862 Volkswagen Passat         1996 Midsize Cars Manual 5-spd   \n",
       "20 12863 Volkswagen Passat         1996 Midsize Cars Automatic 4-spd\n",
       "21 12864 Volkswagen Passat         1996 Midsize Cars Manual 5-spd   \n",
       "22 13609 Volkswagen Passat         1997 Midsize Cars Manual 5-spd   \n",
       "23 13610 Volkswagen Passat         1997 Midsize Cars Automatic 4-spd\n",
       "24 13611 Volkswagen Passat         1997 Midsize Cars Manual 5-spd   \n",
       "25 14363 Volkswagen Passat         1998 Midsize Cars Automatic 5-spd\n",
       "26 14364 Volkswagen Passat         1998 Midsize Cars Manual 5-spd   \n",
       "27 14365 Volkswagen Passat         1998 Midsize Cars Automatic 4-spd\n",
       "28 14366 Volkswagen Passat         1998 Midsize Cars Manual 5-spd   \n",
       "29 14367 Volkswagen Passat         1998 Midsize Cars Automatic 5-spd\n",
       "30 14368 Volkswagen Passat         1998 Midsize Cars Manual 5-spd   \n",
       "⋮  ⋮     ⋮          ⋮              ⋮    ⋮            ⋮              \n",
       "68 22828 Volkswagen Passat         2007 Midsize Cars Automatic (S6) \n",
       "69 24405 Volkswagen Passat         2008 Midsize Cars Manual 6-spd   \n",
       "70 24406 Volkswagen Passat         2008 Midsize Cars Automatic (S6) \n",
       "71 24407 Volkswagen Passat         2008 Midsize Cars Automatic (S6) \n",
       "72 25279 Volkswagen Passat         2009 Midsize Cars Automatic (S6) \n",
       "73 28649 Volkswagen Passat         2010 Midsize Cars Automatic (S6) \n",
       "74 31226 Volkswagen Passat         2012 Midsize Cars Manual 6-spd   \n",
       "75 31585 Volkswagen Passat         2012 Midsize Cars Automatic (S6) \n",
       "76 31768 Volkswagen Passat         2012 Midsize Cars Automatic (S6) \n",
       "77 31769 Volkswagen Passat         2012 Midsize Cars Manual 5-spd   \n",
       "78 31770 Volkswagen Passat         2012 Midsize Cars Automatic (S6) \n",
       "79 32615 Volkswagen Passat         2013 Midsize Cars Auto(AM-S6)    \n",
       "80 32616 Volkswagen Passat         2013 Midsize Cars Auto(AM-S6)    \n",
       "81 32617 Volkswagen Passat         2013 Midsize Cars Manual 6-spd   \n",
       "82 32718 Volkswagen Passat         2013 Midsize Cars Manual 5-spd   \n",
       "83 32719 Volkswagen Passat         2013 Midsize Cars Automatic (S6) \n",
       "84 33673 Volkswagen Passat         2014 Midsize Cars Auto(AM-S6)    \n",
       "85 33945 Volkswagen Passat         2014 Midsize Cars Auto(AM-S6)    \n",
       "86 33946 Volkswagen Passat         2014 Midsize Cars Manual 6-spd   \n",
       "87 33947 Volkswagen Passat         2014 Midsize Cars Manual 5-spd   \n",
       "88 33948 Volkswagen Passat         2014 Midsize Cars Automatic (S6) \n",
       "89 33949 Volkswagen Passat         2014 Midsize Cars Automatic (S6) \n",
       "90 33950 Volkswagen Passat         2014 Midsize Cars Manual 5-spd   \n",
       "91 15972 Volkswagen Passat 4motion 2000 Midsize Cars Automatic 5-spd\n",
       "92 22020 Volkswagen Passat 4motion 2006 Midsize Cars Automatic (S6) \n",
       "93 22829 Volkswagen Passat 4motion 2007 Midsize Cars Automatic (S6) \n",
       "94 24408 Volkswagen Passat 4motion 2008 Midsize Cars Automatic (S6) \n",
       "95 14369 Volkswagen Passat Syncro  1998 Midsize Cars Automatic 5-spd\n",
       "96 15163 Volkswagen Passat Syncro  1999 Midsize Cars Automatic 5-spd\n",
       "97 29182 Volkswagen Passat Syncro  1999 Midsize Cars Automatic 5-spd\n",
       "   drive                      cyl displ fuel    hwy cty\n",
       "1  Front-Wheel Drive          4   2.0   Regular 26  18 \n",
       "2  Front-Wheel Drive          4   2.0   Regular 27  18 \n",
       "3  Front-Wheel Drive          4   2.0   Regular 26  18 \n",
       "4  Front-Wheel Drive          4   2.0   Regular 27  18 \n",
       "5  Front-Wheel Drive          4   2.0   Regular 26  18 \n",
       "6  Front-Wheel Drive          4   2.0   Regular 28  18 \n",
       "7  Front-Wheel Drive          4   2.0   Regular 26  18 \n",
       "8  Front-Wheel Drive          4   2.0   Regular 28  18 \n",
       "9  Front-Wheel Drive          6   2.8   Regular 22  15 \n",
       "10 Front-Wheel Drive          6   2.8   Regular 25  17 \n",
       "11 Front-Wheel Drive          4   2.0   Regular 26  18 \n",
       "12 Front-Wheel Drive          6   2.8   Regular 23  16 \n",
       "13 Front-Wheel Drive          4   2.0   Regular 25  18 \n",
       "14 Front-Wheel Drive          4   2.0   Regular 27  18 \n",
       "15 Front-Wheel Drive          6   2.8   Regular 23  16 \n",
       "16 Front-Wheel Drive          6   2.8   Regular 23  16 \n",
       "17 Front-Wheel Drive          4   1.9   Diesel  41  31 \n",
       "18 Front-Wheel Drive          4   2.0   Regular 25  18 \n",
       "19 Front-Wheel Drive          4   2.0   Regular 26  18 \n",
       "20 Front-Wheel Drive          6   2.8   Regular 23  16 \n",
       "21 Front-Wheel Drive          6   2.8   Regular 24  17 \n",
       "22 Front-Wheel Drive          4   1.9   Diesel  42  32 \n",
       "23 Front-Wheel Drive          6   2.8   Regular 23  16 \n",
       "24 Front-Wheel Drive          6   2.8   Regular 24  17 \n",
       "25 Front-Wheel Drive          4   1.8   Premium 28  18 \n",
       "26 Front-Wheel Drive          4   1.8   Premium 29  20 \n",
       "27 Front-Wheel Drive          4   1.9   Diesel  39  27 \n",
       "28 Front-Wheel Drive          4   1.9   Diesel  45  32 \n",
       "29 Front-Wheel Drive          6   2.8   Premium 26  16 \n",
       "30 Front-Wheel Drive          6   2.8   Premium 26  18 \n",
       "⋮  ⋮                          ⋮   ⋮     ⋮       ⋮   ⋮  \n",
       "68 Front-Wheel Drive          6   3.6   Premium 26  17 \n",
       "69 Front-Wheel Drive          4   2.0   Premium 29  20 \n",
       "70 Front-Wheel Drive          4   2.0   Premium 28  19 \n",
       "71 Front-Wheel Drive          6   3.6   Premium 26  17 \n",
       "72 Front-Wheel Drive          4   2.0   Premium 29  19 \n",
       "73 Front-Wheel Drive          4   2.0   Premium 31  22 \n",
       "74 Front-Wheel Drive          4   2.0   Diesel  43  31 \n",
       "75 Front-Wheel Drive          4   2.0   Diesel  40  30 \n",
       "76 Front-Wheel Drive          5   2.5   Regular 31  22 \n",
       "77 Front-Wheel Drive          5   2.5   Regular 32  22 \n",
       "78 Front-Wheel Drive          6   3.6   Premium 28  20 \n",
       "79 Front-Wheel Drive          4   2.0   Diesel  40  30 \n",
       "80 Front-Wheel Drive          6   3.6   Premium 28  20 \n",
       "81 Front-Wheel Drive          4   2.0   Diesel  43  31 \n",
       "82 Front-Wheel Drive          5   2.5   Regular 32  22 \n",
       "83 Front-Wheel Drive          5   2.5   Regular 31  22 \n",
       "84 Front-Wheel Drive          6   3.6   Premium 28  20 \n",
       "85 Front-Wheel Drive          4   2.0   Diesel  40  30 \n",
       "86 Front-Wheel Drive          4   2.0   Diesel  43  31 \n",
       "87 Front-Wheel Drive          4   1.8   Regular 35  24 \n",
       "88 Front-Wheel Drive          4   1.8   Regular 34  24 \n",
       "89 Front-Wheel Drive          5   2.5   Regular 31  22 \n",
       "90 Front-Wheel Drive          5   2.5   Regular 32  22 \n",
       "91 4-Wheel or All-Wheel Drive 6   2.8   Premium 22  15 \n",
       "92 4-Wheel or All-Wheel Drive 6   3.6   Premium 24  16 \n",
       "93 4-Wheel or All-Wheel Drive 6   3.6   Premium 24  16 \n",
       "94 4-Wheel or All-Wheel Drive 6   3.6   Premium 24  16 \n",
       "95 4-Wheel or All-Wheel Drive 6   2.8   Premium 24  15 \n",
       "96 4-Wheel or All-Wheel Drive 6   2.8   Premium 24  15 \n",
       "97 Front-Wheel Drive          6   2.8   Premium 24  15 "
      ]
     },
     "metadata": {},
     "output_type": "display_data"
    }
   ],
   "source": [
    "VW_midsize <- vehicles %>%\n",
    "   filter(make == 'Volkswagen' & class == 'Midsize Cars')\n",
    "\n",
    "VW_midsize"
   ]
  },
  {
   "cell_type": "markdown",
   "id": "84a79015-8393-4042-92e8-2879114a0552",
   "metadata": {},
   "source": [
    "How many cars do we have in each group?"
   ]
  },
  {
   "cell_type": "code",
   "execution_count": 41,
   "id": "5e105d54-f850-46cc-97e5-86d3e3f05aef",
   "metadata": {},
   "outputs": [
    {
     "data": {
      "text/html": [
       "97"
      ],
      "text/latex": [
       "97"
      ],
      "text/markdown": [
       "97"
      ],
      "text/plain": [
       "[1] 97"
      ]
     },
     "metadata": {},
     "output_type": "display_data"
    },
    {
     "data": {
      "text/html": [
       "157"
      ],
      "text/latex": [
       "157"
      ],
      "text/markdown": [
       "157"
      ],
      "text/plain": [
       "[1] 157"
      ]
     },
     "metadata": {},
     "output_type": "display_data"
    }
   ],
   "source": [
    "nrow(VW_midsize)\n",
    "nrow(Audi_midsize)"
   ]
  },
  {
   "cell_type": "markdown",
   "id": "1c2d4f1b-ecf8-4003-b56d-e5f66048803d",
   "metadata": {},
   "source": [
    "Let's use t.test to compare performance of the two cars"
   ]
  },
  {
   "cell_type": "code",
   "execution_count": 42,
   "id": "bf460c4f-350a-435e-96db-f4bbf1a1579c",
   "metadata": {},
   "outputs": [
    {
     "data": {
      "text/plain": [
       "\n",
       "\tWelch Two Sample t-test\n",
       "\n",
       "data:  Audi_midsize$cty and VW_midsize$cty\n",
       "t = -7.1511, df = 125.12, p-value = 6.348e-11\n",
       "alternative hypothesis: true difference in means is not equal to 0\n",
       "95 percent confidence interval:\n",
       " -4.232765 -2.397743\n",
       "sample estimates:\n",
       "mean of x mean of y \n",
       " 16.29299  19.60825 \n"
      ]
     },
     "metadata": {},
     "output_type": "display_data"
    }
   ],
   "source": [
    "t.test(Audi_midsize$cty, VW_midsize$cty)"
   ]
  },
  {
   "cell_type": "markdown",
   "id": "27f239cd-e486-48c4-a529-3d8d656b1da5",
   "metadata": {},
   "source": [
    "Let's visualise the data and see if this is the best way to ask our question"
   ]
  },
  {
   "cell_type": "code",
   "execution_count": 43,
   "id": "3c403216-250c-4a9d-b20f-578700df3815",
   "metadata": {},
   "outputs": [],
   "source": [
    "Audi_VW <- rbind(Audi_midsize, VW_midsize)"
   ]
  },
  {
   "cell_type": "code",
   "execution_count": 46,
   "id": "40d41b27-7a0e-4796-91a6-adee4fd97c34",
   "metadata": {},
   "outputs": [
    {
     "data": {
      "image/png": "[encoded data removed]",
      "text/plain": [
       "plot without title"
      ]
     },
     "metadata": {
      "image/png": {
       "height": 420,
       "width": 420
      }
     },
     "output_type": "display_data"
    }
   ],
   "source": [
    "ggplot(Audi_VW,\n",
    "      aes(x=cty,\n",
    "         fill=make)) +\n",
    "    geom_histogram(position='identity', alpha=0.5, bins=20)"
   ]
  },
  {
   "cell_type": "code",
   "execution_count": 48,
   "id": "fe9c0c33-9a51-408f-beb4-a75b41445b12",
   "metadata": {},
   "outputs": [
    {
     "data": {
      "text/plain": [
       "\n",
       "\tShapiro-Wilk normality test\n",
       "\n",
       "data:  Audi_midsize$cty\n",
       "W = 0.80939, p-value = 4.961e-13\n"
      ]
     },
     "metadata": {},
     "output_type": "display_data"
    },
    {
     "data": {
      "text/plain": [
       "\n",
       "\tShapiro-Wilk normality test\n",
       "\n",
       "data:  VW_midsize$cty\n",
       "W = 0.77643, p-value = 7.732e-11\n"
      ]
     },
     "metadata": {},
     "output_type": "display_data"
    }
   ],
   "source": [
    "shapiro.test(Audi_midsize$cty)\n",
    "shapiro.test(VW_midsize$cty)"
   ]
  },
  {
   "cell_type": "code",
   "execution_count": null,
   "id": "c7af166d-7bbf-4dc2-9d22-a912fbdf92fa",
   "metadata": {},
   "outputs": [],
   "source": []
  },
  {
   "cell_type": "markdown",
   "id": "7ba9c962-d51c-4fdc-be6a-3506c0e93af6",
   "metadata": {},
   "source": [
    "We see that a normal distribution is an okay model for our data, but perhaps not the best one. We can see something important happening in the tails suggesting there is important structure we will miss."
   ]
  },
  {
   "cell_type": "markdown",
   "id": "cdd487c6-beb9-449f-a940-dc03e6bcb5b6",
   "metadata": {},
   "source": [
    "Let's investigate that structure"
   ]
  },
  {
   "cell_type": "code",
   "execution_count": 49,
   "id": "7cb13735-65d0-4d22-a8a0-1f47881f49af",
   "metadata": {},
   "outputs": [
    {
     "name": "stdout",
     "output_type": "stream",
     "text": [
      "tibble [254 × 12] (S3: tbl_df/tbl/data.frame)\n",
      " $ id   : num [1:254] 5656 5657 6784 6785 7908 ...\n",
      " $ make : chr [1:254] \"Audi\" \"Audi\" \"Audi\" \"Audi\" ...\n",
      " $ model: chr [1:254] \"100\" \"100\" \"100\" \"100\" ...\n",
      " $ year : num [1:254] 1989 1989 1990 1990 1991 ...\n",
      " $ class: chr [1:254] \"Midsize Cars\" \"Midsize Cars\" \"Midsize Cars\" \"Midsize Cars\" ...\n",
      " $ trans: chr [1:254] \"Automatic 3-spd\" \"Manual 5-spd\" \"Automatic 3-spd\" \"Automatic 4-spd\" ...\n",
      " $ drive: chr [1:254] \"Front-Wheel Drive\" \"Front-Wheel Drive\" \"Front-Wheel Drive\" \"Front-Wheel Drive\" ...\n",
      " $ cyl  : num [1:254] 5 5 5 5 5 6 6 6 6 6 ...\n",
      " $ displ: num [1:254] 2.3 2.3 2.3 2.3 2.3 2.8 2.8 2.8 2.8 2.8 ...\n",
      " $ fuel : chr [1:254] \"Regular\" \"Regular\" \"Regular\" \"Regular\" ...\n",
      " $ hwy  : num [1:254] 20 23 20 22 22 23 22 24 22 24 ...\n",
      " $ cty  : num [1:254] 17 16 16 16 16 15 17 17 17 17 ...\n"
     ]
    }
   ],
   "source": [
    "str(Audi_VW)"
   ]
  },
  {
   "cell_type": "markdown",
   "id": "bff48c6c-3ce4-499d-887a-ef45356f205a",
   "metadata": {},
   "source": [
    "Let's make a scatterplot"
   ]
  },
  {
   "cell_type": "code",
   "execution_count": 51,
   "id": "1f239343-edcb-4690-a753-02349cc94a43",
   "metadata": {},
   "outputs": [
    {
     "data": {
      "image/png": "[encoded data removed]",
      "text/plain": [
       "plot without title"
      ]
     },
     "metadata": {
      "image/png": {
       "height": 420,
       "width": 420
      }
     },
     "output_type": "display_data"
    }
   ],
   "source": [
    "ggplot(Audi_VW,\n",
    "       aes(x=cyl,\n",
    "           y=cty))+\n",
    "    geom_point(position='jitter') +\n",
    "    facet_wrap(~make)"
   ]
  },
  {
   "cell_type": "code",
   "execution_count": null,
   "id": "b9c2b00c-6c45-4e23-aafd-246543323b87",
   "metadata": {},
   "outputs": [],
   "source": [
    "\n"
   ]
  }
 ],
 "metadata": {
  "kernelspec": {
   "display_name": "R",
   "language": "R",
   "name": "ir"
  },
  "language_info": {
   "codemirror_mode": "r",
   "file_extension": ".r",
   "mimetype": "text/x-r-source",
   "name": "R",
   "pygments_lexer": "r",
   "version": "4.4.1"
  }
 },
 "nbformat": 4,
 "nbformat_minor": 5
}
